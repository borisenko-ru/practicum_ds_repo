{
 "cells": [
  {
   "cell_type": "markdown",
   "metadata": {},
   "source": [
    "<a id='top'></a>\n",
    "<img align=\"center\" src=\"http://www.ac.gov.ru/cache/thumbs/780/780_0_c8df0891a2569fd2ce041ef07a982411.jpg\" width=\"200\" />\n",
    "<p style=\"text-align: center;\">\n",
    "    <font size='5' type='bold'>\n",
    "        <b>Определение количества заказов такси</b>\n",
    "    </font>\n",
    "</p>"
   ]
  },
  {
   "cell_type": "markdown",
   "metadata": {},
   "source": [
    "<div class=\"alert alert-success\">\n",
    "<h1>Комментарий ревьюера <a class=\"tocSkip\"></a></h1>\n",
    "Привет еще раз,  Алексей! Сейчас будет опять формальный комментарий.\n",
    "    \n",
    "Не буду дублировать некоторые вещи, о которых в предыдущей работе тебе писал\n",
    "</div>"
   ]
  },
  {
   "cell_type": "markdown",
   "metadata": {},
   "source": [
    "\n",
    "<div class=\"alert alert-info\">\n",
    "Привет! Меня зовут Никита Мишин и я буду твоим ревьюером по этому проекты.\n",
    "Для простоты предлагаю общение на 'ты'. Буду предполагать, что ты не против:) \n",
    "Если более предпочтительно обращение на 'Вы', пиши, не стесняйся.\n",
    "Также если будут возникать вопросы, аналогично, пиши:)\n",
    "\n",
    "Предлагаю работать в известном тебе итеративном формате.\n",
    "Итерация состоит в моей проверке твоего решения. \n",
    "После решения могут остаться какие-то недочеты, которые я попрошу тебя устранить, ты их исправляешь и я проверяю твои решения.\n",
    "    Оставленные мною комментарии могут быть разного вида:\n",
    "   \n",
    "    - зеленый: элегантные решения, которые тебе стоит запомнит и в дальнейшем взять на вооружение:) \n",
    "    \n",
    "    - желтый: сигнал о том, что есть некритичная вещь(не всегда ошибка), что нужно точно поправить в следующей работе, даже желательно в этой (полезно, в первую очередь, для тебя:) ).Также это рекомендации на будущее    \n",
    "\n",
    "    - красный: недочет, который нужно исправить в этой работе, для того, чтобы она была принята\n",
    "    \n",
    "    - синий: полезная информация, доп ресурсы, \"вопросы на подумать\"\n",
    "\n",
    "Также попрошу не удалять мои комментарии:) <a class=\"tocSkip\">\n",
    "</div>"
   ]
  },
  {
   "cell_type": "markdown",
   "metadata": {},
   "source": [
    "# Содержание\n",
    "\n",
    "<a href='#section_0'>Описание проекта</a>\n",
    "\n",
    "<a href='#section_1'>1. Подготовка</a>\n",
    "\n",
    "<a href='#section_2'>2. Анализ</a>\n",
    "\n",
    "<a href='#section_3'>3. Обучение</a>\n",
    "\n",
    "* <a href='#section_3_1'>Linear Regression</a>\n",
    "* <a href='#section_3_2'>LightGBM</a>\n",
    "\n",
    "<a href='#section_4'>4. Тестирование</a>\n",
    "\n",
    "<a href='#section_5'>Общий вывод</a>\n",
    "\n",
    "<a href='#section_end'>Чек-лист готовности проекта</a>"
   ]
  },
  {
   "cell_type": "markdown",
   "metadata": {},
   "source": [
    "<a id='section_0'></a>\n",
    "# Описание проекта\n",
    "\n",
    "Компания «Чётенькое такси» собрала исторические данные о заказах такси в аэропортах. Чтобы привлекать больше водителей в период пиковой нагрузки, нужно спрогнозировать количество заказов такси на следующий час. Постройте модель для такого предсказания.\n",
    "\n",
    "Значение метрики *RMSE* на тестовой выборке должно быть не больше 48.\n",
    "\n",
    "**Инструкция по выполнению проекта**\n",
    "\n",
    "1. Загрузите данные и выполните их ресемплирование по одному часу.\n",
    "2. Проанализируйте данные.\n",
    "3. Обучите разные модели с различными гиперпараметрами. Сделайте тестовую выборку размером 10% от исходных данных.\n",
    "4. Проверьте данные на тестовой выборке и сделайте выводы.\n",
    "\n",
    "**Описание данных**\n",
    "\n",
    "Данные лежат в файле `taxi.csv`. Количество заказов находится в столбце '*num_orders*' (от англ. *number of orders*, «число заказов»)."
   ]
  },
  {
   "cell_type": "markdown",
   "metadata": {},
   "source": [
    "<a id='section_1'></a>\n",
    "## Подготовка"
   ]
  },
  {
   "cell_type": "code",
   "execution_count": 1,
   "metadata": {},
   "outputs": [],
   "source": [
    "import pandas as pd\n",
    "import numpy as np\n",
    "import matplotlib.pyplot as plt\n",
    "import lightgbm as lgb\n",
    "\n",
    "from statsmodels.tsa.seasonal import seasonal_decompose\n",
    "from sklearn.model_selection import train_test_split\n",
    "from sklearn.linear_model import LinearRegression"
   ]
  },
  {
   "cell_type": "markdown",
   "metadata": {},
   "source": []
  },
  {
   "cell_type": "code",
   "execution_count": 2,
   "metadata": {
    "scrolled": true
   },
   "outputs": [
    {
     "data": {
      "text/html": [
       "<div>\n",
       "<style scoped>\n",
       "    .dataframe tbody tr th:only-of-type {\n",
       "        vertical-align: middle;\n",
       "    }\n",
       "\n",
       "    .dataframe tbody tr th {\n",
       "        vertical-align: top;\n",
       "    }\n",
       "\n",
       "    .dataframe thead th {\n",
       "        text-align: right;\n",
       "    }\n",
       "</style>\n",
       "<table border=\"1\" class=\"dataframe\">\n",
       "  <thead>\n",
       "    <tr style=\"text-align: right;\">\n",
       "      <th></th>\n",
       "      <th>num_orders</th>\n",
       "    </tr>\n",
       "    <tr>\n",
       "      <th>datetime</th>\n",
       "      <th></th>\n",
       "    </tr>\n",
       "  </thead>\n",
       "  <tbody>\n",
       "    <tr>\n",
       "      <td>2018-03-01 00:00:00</td>\n",
       "      <td>9</td>\n",
       "    </tr>\n",
       "    <tr>\n",
       "      <td>2018-03-01 00:10:00</td>\n",
       "      <td>14</td>\n",
       "    </tr>\n",
       "    <tr>\n",
       "      <td>2018-03-01 00:20:00</td>\n",
       "      <td>28</td>\n",
       "    </tr>\n",
       "  </tbody>\n",
       "</table>\n",
       "</div>"
      ],
      "text/plain": [
       "                     num_orders\n",
       "datetime                       \n",
       "2018-03-01 00:00:00           9\n",
       "2018-03-01 00:10:00          14\n",
       "2018-03-01 00:20:00          28"
      ]
     },
     "execution_count": 2,
     "metadata": {},
     "output_type": "execute_result"
    }
   ],
   "source": [
    "# Посмотрим на данные и определим временной ряд\n",
    "\n",
    "df = pd.read_csv('/datasets/taxi.csv', index_col=[0], parse_dates=[0])\n",
    "df.head(3)"
   ]
  },
  {
   "cell_type": "code",
   "execution_count": 3,
   "metadata": {},
   "outputs": [
    {
     "name": "stdout",
     "output_type": "stream",
     "text": [
      "<class 'pandas.core.frame.DataFrame'>\n",
      "DatetimeIndex: 26496 entries, 2018-03-01 00:00:00 to 2018-08-31 23:50:00\n",
      "Data columns (total 1 columns):\n",
      "num_orders    26496 non-null int64\n",
      "dtypes: int64(1)\n",
      "memory usage: 414.0 KB\n"
     ]
    }
   ],
   "source": [
    "df.info()"
   ]
  },
  {
   "cell_type": "code",
   "execution_count": 4,
   "metadata": {
    "scrolled": true
   },
   "outputs": [
    {
     "data": {
      "text/plain": [
       "num_orders    0\n",
       "dtype: int64"
      ]
     },
     "execution_count": 4,
     "metadata": {},
     "output_type": "execute_result"
    }
   ],
   "source": [
    "#Проверим наличие пропусков\n",
    "\n",
    "df.isna().sum()"
   ]
  },
  {
   "cell_type": "code",
   "execution_count": 5,
   "metadata": {
    "scrolled": true
   },
   "outputs": [
    {
     "name": "stdout",
     "output_type": "stream",
     "text": [
      "True\n"
     ]
    }
   ],
   "source": [
    "# Проверим временной ряд на монотонность\n",
    "\n",
    "print(df.index.is_monotonic)"
   ]
  },
  {
   "cell_type": "markdown",
   "metadata": {},
   "source": [
    "<div class=\"alert alert-success\">\n",
    "<h1>Комментарий ревьюера <a class=\"tocSkip\"></a></h1>\n",
    "Данные успешно загружены и проверены, движемся дальше!\n",
    "</div>"
   ]
  },
  {
   "cell_type": "markdown",
   "metadata": {},
   "source": [
    "Данные подготовлены для дальнейшей работы."
   ]
  },
  {
   "cell_type": "markdown",
   "metadata": {},
   "source": [
    "<a href='#top'>Back to top</a>"
   ]
  },
  {
   "cell_type": "markdown",
   "metadata": {},
   "source": [
    "<a id='section_2'></a>\n",
    "## Анализ"
   ]
  },
  {
   "cell_type": "code",
   "execution_count": 6,
   "metadata": {
    "scrolled": false
   },
   "outputs": [
    {
     "data": {
      "text/plain": [
       "<matplotlib.axes._subplots.AxesSubplot at 0x7ff26715a890>"
      ]
     },
     "execution_count": 6,
     "metadata": {},
     "output_type": "execute_result"
    },
    {
     "data": {
      "image/png": "[encoded data removed]",
      "text/plain": [
       "<Figure size 432x288 with 1 Axes>"
      ]
     },
     "metadata": {
      "needs_background": "light"
     },
     "output_type": "display_data"
    }
   ],
   "source": [
    "# Проведем ресемплирование по часу\n",
    "\n",
    "df.sort_index(inplace=True)\n",
    "df_hour = df.resample('1H').sum()\n",
    "\n",
    "# Построим общий график и посмотрим на скользящее среднее и скользящее стандартное отклонение\n",
    "\n",
    "df_hour['mean'] = df_hour['num_orders'].rolling(25).mean()\n",
    "df_hour['std'] = df_hour['num_orders'].rolling(25).std()\n",
    "df_hour.plot(title='Заказы')"
   ]
  },
  {
   "cell_type": "markdown",
   "metadata": {},
   "source": [
    "<div class=\"alert alert-info\">\n",
    "<h1>Комментарий ревьюера <a class=\"tocSkip\"></a></h1>\n",
    "Тут у графика не хватает названия. Поставил синим, т.к ниже у тебя есть подписи, видимо, забыл\n",
    "</div>"
   ]
  },
  {
   "cell_type": "markdown",
   "metadata": {},
   "source": [
    "<div class=\"alert alert-info\">\n",
    "<h1>Комментарий студента <a class=\"tocSkip\"></a></h1>\n",
    "Done\n",
    "</div>"
   ]
  },
  {
   "cell_type": "code",
   "execution_count": null,
   "metadata": {
    "scrolled": false
   },
   "outputs": [
    {
     "data": {
      "text/plain": [
       "<Figure size 1080x288 with 0 Axes>"
      ]
     },
     "execution_count": 7,
     "metadata": {},
     "output_type": "execute_result"
    }
   ],
   "source": [
    "# Посмотрим на тренды и сезонность\n",
    "\n",
    "df_hour['mean'] = df_hour['num_orders'].rolling(10).mean()\n",
    "df_hour['std'] = df_hour['num_orders'].rolling(10).std()\n",
    "df_hour = df_hour.dropna()\n",
    "\n",
    "decomposed_df = seasonal_decompose(df_hour)\n",
    "decomposed_df.trend.plot(title='Тренды', figsize=(15,4))\n",
    "decomposed_df.trend['2018-08-26':'2018-09-01'].plot(title='Тренды', figsize=(15,4))\n",
    "decomposed_df.seasonal.tail(24*7).plot(title='Сезонность', figsize=(15,4))\n",
    "plt.figure(figsize=(15, 4))"
   ]
  },
  {
   "cell_type": "markdown",
   "metadata": {},
   "source": [
    "<div class=\"alert alert-info\">\n",
    "<h1>Комментарий ревьюера <a class=\"tocSkip\"></a></h1>\n",
    "А чем обоснован выбор  значения 10?)\n",
    "</div>"
   ]
  },
  {
   "cell_type": "markdown",
   "metadata": {},
   "source": [
    "<div class=\"alert alert-info\">\n",
    "<h1>Комментарий студента<a class=\"tocSkip\"></a></h1>\n",
    "Хотел сразу добиться лучшего сглаживания скользящего среднего, но и с меньшим размером окна картина не сильно отличается. Разброс данных не велик. \n",
    "</div>"
   ]
  },
  {
   "cell_type": "markdown",
   "metadata": {},
   "source": [
    "**Вывод:**\n",
    "\n",
    "* Количество заказов регулярно растет\n",
    "* Количество заказов в выходные дни выше, чем в будни. То же касается и праздников (как например, 1 сентября)\n",
    "* Количество заказов утром и в первой половине дня меньше, чем во второй половине дня и ближе к ночи"
   ]
  },
  {
   "cell_type": "markdown",
   "metadata": {},
   "source": [
    "<div class=\"alert alert-warning\">\n",
    "<h1>Комментарий ревьюера <a class=\"tocSkip\"></a></h1>\n",
    "Увидев такой график, стоило рассмотреть на более мелком временном интервале график. Например, за 1 день. Тогда было бы явно видно, в какое время пик, а когда наблюдается минимальное значение\n",
    "</div>"
   ]
  },
  {
   "cell_type": "markdown",
   "metadata": {},
   "source": [
    "<div class=\"alert alert-info\">\n",
    "<h1>Комментарий студента<a class=\"tocSkip\"></a></h1>\n",
    "Done. \n",
    "</div>"
   ]
  },
  {
   "cell_type": "markdown",
   "metadata": {},
   "source": [
    "<a href='#top'>Back to top</a>"
   ]
  },
  {
   "cell_type": "markdown",
   "metadata": {},
   "source": [
    "<a id='section_3'></a>\n",
    "## Обучение"
   ]
  },
  {
   "cell_type": "code",
   "execution_count": null,
   "metadata": {
    "scrolled": false
   },
   "outputs": [],
   "source": [
    "# Создадим дополнительные признаки\n",
    "\n",
    "def make_features(data, max_lag, rolling_mean_size):\n",
    "    data['dayofweek'] = data.index.dayofweek\n",
    "    data['hour'] = data.index.hour\n",
    "    \n",
    "    for lag in range(1, max_lag + 1):\n",
    "        data['lag_{}'.format(lag)] = data['num_orders'].shift(lag)\n",
    "\n",
    "    data['rolling_mean'] = data['num_orders'].shift().rolling(rolling_mean_size).mean()\n",
    "\n",
    "make_features(df, 9, 9)\n",
    "\n",
    "df.describe()"
   ]
  },
  {
   "cell_type": "code",
   "execution_count": null,
   "metadata": {},
   "outputs": [],
   "source": [
    "f = plt.figure(figsize=(19, 15))\n",
    "plt.matshow(df.corr(), fignum=f.number)\n",
    "plt.xticks(range(df.shape[1]), df.columns, fontsize=14, rotation=45)\n",
    "plt.yticks(range(df.shape[1]), df.columns, fontsize=14)\n",
    "cb = plt.colorbar()\n",
    "cb.ax.tick_params(labelsize=14)\n",
    "plt.title('Матрица корреляций', fontsize=16);"
   ]
  },
  {
   "cell_type": "markdown",
   "metadata": {},
   "source": [
    "<div class=\"alert alert-warning\">\n",
    "<h1>Комментарий ревьюера <a class=\"tocSkip\"></a></h1>\n",
    "Тут стоило бы вывести матрицу корреляций для проверки на коллинеарности признаков\n",
    "</div>"
   ]
  },
  {
   "cell_type": "markdown",
   "metadata": {},
   "source": [
    "<div class=\"alert alert-info\">\n",
    "<h1>Комментарий студента<a class=\"tocSkip\"></a></h1>\n",
    "Done.\n",
    "</div>"
   ]
  },
  {
   "cell_type": "markdown",
   "metadata": {},
   "source": [
    "<div class=\"alert alert-success\">\n",
    "<h1>Комментарий ревьюера <a class=\"tocSkip\"></a></h1>\n",
    "Да, молодец, верное решение:) Отдельный плюс в карму за то, что оформил в виде функции\n",
    "</div>"
   ]
  },
  {
   "cell_type": "markdown",
   "metadata": {},
   "source": [
    "<div class=\"alert alert-info\">\n",
    "<h1>Комментарий ревьюера <a class=\"tocSkip\"></a></h1>\n",
    "Опять же вопрос, почему 9? Надо бы пояснить, иначе магические константы\n",
    "</div>"
   ]
  },
  {
   "cell_type": "markdown",
   "metadata": {},
   "source": [
    "<div class=\"alert alert-info\">\n",
    "<h1>Комментарий студента<a class=\"tocSkip\"></a></h1>\n",
    "Согласен. Многовато =) Для того, чтобы увидет растет функция или уменьшается достаточно 3-4 отстающих значений в качестве признаков.\n",
    "</div>"
   ]
  },
  {
   "cell_type": "code",
   "execution_count": null,
   "metadata": {},
   "outputs": [],
   "source": [
    "# Подготовим данные к обучению\n",
    "\n",
    "train, test = train_test_split(df, shuffle=False, test_size=0.1)\n",
    "train = train.dropna()\n",
    "test = test.dropna()\n",
    "\n",
    "X_train = train.drop(['num_orders'], axis=1)\n",
    "y_train = train['num_orders']\n",
    "X_test = test.drop(['num_orders'],axis=1)\n",
    "y_test = test['num_orders']\n",
    "\n",
    "print(X_train.shape)\n",
    "print(y_train.shape)\n",
    "print(X_test.shape)\n",
    "print(y_test.shape)"
   ]
  },
  {
   "cell_type": "markdown",
   "metadata": {},
   "source": [
    "<div class=\"alert alert-danger\">\n",
    "<h1>Комментарий ревьюера <a class=\"tocSkip\"></a></h1>\n",
    "Так, так, опять валидационную забыл?\n",
    "\n",
    "Можешь не править, если объяснишь, почему здесь лучше использовать train-test, а не train-validation-test\n",
    "</div>"
   ]
  },
  {
   "cell_type": "markdown",
   "metadata": {},
   "source": [
    "<div class=\"alert alert-info\">\n",
    "<h1>Комментарий студента<a class=\"tocSkip\"></a></h1>\n",
    "Так как это временной ряд, нам важен постоянный порядок наблюдений. Данные мы не можем перемешивать (указываем праметр shuffle=False), чтобы сохранить \"ход истории\". В связи с эти нет необходимости в валидационной выборке и предсказания уже можно проверять на тестовой.\n",
    "</div>"
   ]
  },
  {
   "cell_type": "markdown",
   "metadata": {},
   "source": [
    "<div class=\"alert alert-success\">\n",
    "<h1>Комментарий ревьюера v2 <a class=\"tocSkip\"></a></h1>\n",
    "Ок, убедил\n",
    "</div>"
   ]
  },
  {
   "cell_type": "markdown",
   "metadata": {},
   "source": [
    "<div class=\"alert alert-success\">\n",
    "<h1>Комментарий ревьюера v2<a class=\"tocSkip\"></a></h1>\n",
    "Спасибо, что поправил мелкие замечания. Поздравляю с очередным успешным проектом!\n",
    "</div>"
   ]
  },
  {
   "cell_type": "markdown",
   "metadata": {},
   "source": [
    "<a id='section_3_1'></a>\n",
    "### Linear Regression"
   ]
  },
  {
   "cell_type": "code",
   "execution_count": null,
   "metadata": {},
   "outputs": [],
   "source": [
    "model_linear = LinearRegression(n_jobs=-1)\n",
    "model_linear.fit(X_train, y_train)\n",
    "pred_linear = model_linear.predict(X_test)\n",
    "linearregression_rmse = np.sqrt(((pred_linear - y_test) ** 2).mean())\n",
    "print('RMSE:', linearregression_rmse)"
   ]
  },
  {
   "cell_type": "markdown",
   "metadata": {},
   "source": [
    "<div class=\"alert alert-info\">\n",
    "<h1>Комментарий ревьюера <a class=\"tocSkip\"></a></h1>\n",
    "Я бы посоветовал бы посмотреть coeffs, чтобы понять, что так сильно влияет и позволило делать такие хорошие предсказания\n",
    "</div>"
   ]
  },
  {
   "cell_type": "markdown",
   "metadata": {},
   "source": [
    "<a href='#top'>Back to top</a>"
   ]
  },
  {
   "cell_type": "markdown",
   "metadata": {},
   "source": [
    "<a id='section_3_2'></a>\n",
    "### LightGBM"
   ]
  },
  {
   "cell_type": "code",
   "execution_count": null,
   "metadata": {
    "scrolled": true
   },
   "outputs": [],
   "source": [
    "model_lgb = lgb.LGBMRegressor()\n",
    "model_lgb.fit(X_train, y_train, eval_set=[(X_test, y_test)], eval_metric='rmse')\n",
    "pred_lgb = model_lgb.predict(X_test)\n",
    "lightgbm_rmse = np.sqrt(((pred_lgb - y_test) ** 2).mean())\n",
    "print('RMSE:', lightgbm_rmse)"
   ]
  },
  {
   "cell_type": "markdown",
   "metadata": {},
   "source": [
    "**Вывод:**\n",
    "* Обе модели Linear Regression и LightGBM показали сопоставимые результаты, однако модель линейной регрессии показала лучшее качество по RMSE (8.55 против 8.88 у модели градиентного бустинга)"
   ]
  },
  {
   "cell_type": "markdown",
   "metadata": {},
   "source": [
    "<a href='#top'>Back to top</a>"
   ]
  },
  {
   "cell_type": "markdown",
   "metadata": {},
   "source": [
    "<a id='section_4'></a>\n",
    "## Тестирование"
   ]
  },
  {
   "cell_type": "code",
   "execution_count": null,
   "metadata": {
    "scrolled": true
   },
   "outputs": [],
   "source": [
    "# Сравним истинное количество заказов в день с предсказаниями модели\n",
    "\n",
    "predictions = pd.DataFrame(data=pred_linear, columns=['predictions'], index=X_test.index.copy())\n",
    "df_merged = pd.merge(y_test, predictions, how = 'left', left_index = True, right_index = True)\n",
    "df_merged['predictions'] = df_merged['predictions'].astype('int64')\n",
    "df_merged['2018-08-20':'2018-08-22'].plot(figsize=(15,4))"
   ]
  },
  {
   "cell_type": "markdown",
   "metadata": {},
   "source": [
    "<div class=\"alert alert-success\">\n",
    "<h1>Комментарий ревьюера <a class=\"tocSkip\"></a></h1>\n",
    "Да, резултаты получились хорошие:)\n",
    "    \n",
    "Думал в сторону data leakage, но пока ничего плохого не нашел:)\n",
    "\n",
    "Когда поправишь красное замечание, детально еще раз проверю на корректность все.\n",
    "\n",
    "Пока все гут, в остальном:)\n",
    "</div>"
   ]
  },
  {
   "cell_type": "markdown",
   "metadata": {},
   "source": [
    "Наглядно показано, как модель соотносится с истинными значениями с минимальной погрешностью"
   ]
  },
  {
   "cell_type": "markdown",
   "metadata": {},
   "source": [
    "<a href='#top'>Back to top</a>"
   ]
  },
  {
   "cell_type": "markdown",
   "metadata": {},
   "source": [
    "<a id='section_4'></a>\n",
    "# Общий вывод"
   ]
  },
  {
   "cell_type": "markdown",
   "metadata": {},
   "source": [
    "* Такси пользуются все чаще и предпочитают это делать во второй половине дня и ближе к ночи. При этом заказы примерно равномерно распределены по дням недели\n",
    "* Для построения модели из двух алгоритмов - Linear Regression и LightGBM, показавших сопоставимые результаты, лучшим качеством по RMSE обладает линейная регрессия (8.55 против 8.88 у модели градиентного бустинга)\n",
    "* Качество предсказаний на этапе тестирования подтверждает эффективность выбранной модели линейной регрессии для данного набора данных"
   ]
  },
  {
   "cell_type": "markdown",
   "metadata": {},
   "source": [
    "<div class=\"alert alert-success\">\n",
    "<h2> Комментарий ревьюера</h2>\n",
    "\n",
    "-Спасибо за качественно сделанный проект, было приятно проверять.\n",
    "\n",
    "- Код написан хорошо \n",
    "\n",
    "- Соблюдена структура проекта\n",
    "\n",
    "\n",
    "Есть пара недочетов, которые надо поправить. Жду твоих исправлений (совсем чуть-чуть поправить надо):\n",
    "    - красный комментарий\n",
    "\n",
    "Если есть какие-то вопросы, обязательно спрашивай, с радостью отвечу!\n",
    "    \n",
    "- Также оставил пару советов и замечаний\n",
    "\n",
    "</div>"
   ]
  },
  {
   "cell_type": "markdown",
   "metadata": {},
   "source": [
    "<a href='#top'>Back to top</a>"
   ]
  },
  {
   "cell_type": "markdown",
   "metadata": {},
   "source": [
    "<a id='section_end'></a>\n",
    "# Чек-лист проверки"
   ]
  },
  {
   "cell_type": "markdown",
   "metadata": {},
   "source": [
    "- [x]  Jupyter Notebook открыт\n",
    "- [x]  Весь код выполняется без ошибок\n",
    "- [x]  Ячейки с кодом расположены в порядке исполнения\n",
    "- [x]  Данные загружены и подготовлены\n",
    "- [x]  Данные проанализированы\n",
    "- [x]  Модель обучена, гиперпараметры подобраны\n",
    "- [x]  Качество моделей проверено, выводы сделаны\n",
    "- [x]  Значение *RMSE* на тестовой выборке не больше 48"
   ]
  }
 ],
 "metadata": {
  "kernelspec": {
   "display_name": "Python 3",
   "language": "python",
   "name": "python3"
  },
  "language_info": {
   "codemirror_mode": {
    "name": "ipython",
    "version": 3
   },
   "file_extension": ".py",
   "mimetype": "text/x-python",
   "name": "python",
   "nbconvert_exporter": "python",
   "pygments_lexer": "ipython3",
   "version": "3.8.5"
  },
  "toc": {
   "base_numbering": 1,
   "nav_menu": {},
   "number_sections": true,
   "sideBar": true,
   "skip_h1_title": true,
   "title_cell": "Table of Contents",
   "title_sidebar": "Contents",
   "toc_cell": false,
   "toc_position": {},
   "toc_section_display": true,
   "toc_window_display": false
  }
 },
 "nbformat": 4,
 "nbformat_minor": 2
}
