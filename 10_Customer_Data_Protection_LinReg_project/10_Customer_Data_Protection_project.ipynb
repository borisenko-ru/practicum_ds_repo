{
 "cells": [
  {
   "cell_type": "markdown",
   "metadata": {},
   "source": [
    "<a id='top'></a>\n",
    "<img align=\"center\" src=\"https://images.squarespace-cdn.com/content/v1/595b7bc8bebafb2819864641/1560334715445-7DNUAABRK8THY2UTJ5VW/ke17ZwdGBToddI8pDm48kFWxnDtCdRm2WA9rXcwtIYR7gQa3H78H3Y0txjaiv_0fDoOvxcdMmMKkDsyUqMSsMWxHk725yiiHCCLfrh8O1z5QPOohDIaIeljMHgDF5CVlOqpeNLcJ80NK65_fV7S1UcTSrQkGwCGRqSxozz07hWZrYGYYH8sg4qn8Lpf9k1pYMHPsat2_S1jaQY3SwdyaXg/Lrg_GDPR02.jpg\" width=\"200\" />\n",
    "<p style=\"text-align: center;\">\n",
    "    <font size='5' type='bold'>\n",
    "        <b>Защита данных клиентов</b>\n",
    "    </font>\n",
    "</p>"
   ]
  },
  {
   "cell_type": "markdown",
   "metadata": {},
   "source": [
    "### Содержание\n",
    "\n",
    "<a href='#section_0'>Описание проекта</a>\n",
    "\n",
    "<a href='#section_1'>1. Загрузка данных</a>\n",
    "\n",
    "<a href='#section_2'>2. Умножение матриц</a>\n",
    "\n",
    "<a href='#section_3'>3. Алгоритм преобразования</a>\n",
    "\n",
    "<a href='#section_4'>4. Проверка алгоритма</a>\n",
    "\n",
    "<a href='#section_end'>Чек-лист готовности проекта</a>"
   ]
  },
  {
   "cell_type": "markdown",
   "metadata": {},
   "source": [
    "<a id='section_0'></a>\n",
    "# Описание проекта\n",
    "Вам нужно защитить данные клиентов страховой компании «Хоть потоп». Разработайте такой метод преобразования данных, чтобы по ним было сложно восстановить персональную информацию. Обоснуйте корректность его работы.\n",
    "\n",
    "Нужно защитить данные, чтобы при преобразовании качество моделей машинного обучения не ухудшилось. Подбирать наилучшую модель не требуется."
   ]
  },
  {
   "cell_type": "markdown",
   "metadata": {},
   "source": [
    "Формулы, которые пригодятся нам в проекте:\n",
    "* Предсказания:\n",
    "\n",
    "$$\n",
    "\\begin{equation}\\tag{1}a = X\\cdot w\\end{equation}\n",
    "$$\n",
    "\n",
    "* Задача обучения:\n",
    "\n",
    "$$\n",
    "\\begin{equation}\\tag{2}w = \\arg\\min_w MSE(X\\cdot w, y)\\end{equation}\n",
    "$$\n",
    "\n",
    "* Формула обучения:\n",
    "\n",
    "$$\n",
    "\\begin{equation}\\tag{3}w = (X^T \\cdot X)^{-1} \\cdot X^T\\cdot  y\\end{equation}\n",
    "$$"
   ]
  },
  {
   "cell_type": "markdown",
   "metadata": {},
   "source": [
    "Обозначения:\n",
    "\n",
    "- $X$ — матрица признаков (нулевой столбец состоит из единиц)\n",
    "\n",
    "- $y$ — вектор целевого признака\n",
    "\n",
    "- $P$ — матрица, на которую умножаются признаки\n",
    "\n",
    "- $w$ — вектор весов линейной регрессии (нулевой элемент равен сдвигу)"
   ]
  },
  {
   "cell_type": "markdown",
   "metadata": {},
   "source": [
    "<a href='#top'>Back to top</a>"
   ]
  },
  {
   "cell_type": "markdown",
   "metadata": {},
   "source": [
    "<a id='section_1'></a>\n",
    "## 1. Загрузка данных"
   ]
  },
  {
   "cell_type": "code",
   "execution_count": 1,
   "metadata": {},
   "outputs": [],
   "source": [
    "import pandas as pd\n",
    "import numpy as np\n",
    "\n",
    "from sklearn.preprocessing import StandardScaler\n",
    "from sklearn.linear_model import LinearRegression\n",
    "from sklearn.metrics import r2_score, mean_squared_error"
   ]
  },
  {
   "cell_type": "code",
   "execution_count": 2,
   "metadata": {
    "scrolled": false
   },
   "outputs": [
    {
     "data": {
      "text/html": [
       "<div>\n",
       "<style scoped>\n",
       "    .dataframe tbody tr th:only-of-type {\n",
       "        vertical-align: middle;\n",
       "    }\n",
       "\n",
       "    .dataframe tbody tr th {\n",
       "        vertical-align: top;\n",
       "    }\n",
       "\n",
       "    .dataframe thead th {\n",
       "        text-align: right;\n",
       "    }\n",
       "</style>\n",
       "<table border=\"1\" class=\"dataframe\">\n",
       "  <thead>\n",
       "    <tr style=\"text-align: right;\">\n",
       "      <th></th>\n",
       "      <th>Пол</th>\n",
       "      <th>Возраст</th>\n",
       "      <th>Зарплата</th>\n",
       "      <th>Члены семьи</th>\n",
       "      <th>Страховые выплаты</th>\n",
       "    </tr>\n",
       "  </thead>\n",
       "  <tbody>\n",
       "    <tr>\n",
       "      <td>0</td>\n",
       "      <td>1</td>\n",
       "      <td>41.0</td>\n",
       "      <td>49600.0</td>\n",
       "      <td>1</td>\n",
       "      <td>0</td>\n",
       "    </tr>\n",
       "    <tr>\n",
       "      <td>1</td>\n",
       "      <td>0</td>\n",
       "      <td>46.0</td>\n",
       "      <td>38000.0</td>\n",
       "      <td>1</td>\n",
       "      <td>1</td>\n",
       "    </tr>\n",
       "    <tr>\n",
       "      <td>2</td>\n",
       "      <td>0</td>\n",
       "      <td>29.0</td>\n",
       "      <td>21000.0</td>\n",
       "      <td>0</td>\n",
       "      <td>0</td>\n",
       "    </tr>\n",
       "    <tr>\n",
       "      <td>3</td>\n",
       "      <td>0</td>\n",
       "      <td>21.0</td>\n",
       "      <td>41700.0</td>\n",
       "      <td>2</td>\n",
       "      <td>0</td>\n",
       "    </tr>\n",
       "    <tr>\n",
       "      <td>4</td>\n",
       "      <td>1</td>\n",
       "      <td>28.0</td>\n",
       "      <td>26100.0</td>\n",
       "      <td>0</td>\n",
       "      <td>0</td>\n",
       "    </tr>\n",
       "    <tr>\n",
       "      <td>...</td>\n",
       "      <td>...</td>\n",
       "      <td>...</td>\n",
       "      <td>...</td>\n",
       "      <td>...</td>\n",
       "      <td>...</td>\n",
       "    </tr>\n",
       "    <tr>\n",
       "      <td>4995</td>\n",
       "      <td>0</td>\n",
       "      <td>28.0</td>\n",
       "      <td>35700.0</td>\n",
       "      <td>2</td>\n",
       "      <td>0</td>\n",
       "    </tr>\n",
       "    <tr>\n",
       "      <td>4996</td>\n",
       "      <td>0</td>\n",
       "      <td>34.0</td>\n",
       "      <td>52400.0</td>\n",
       "      <td>1</td>\n",
       "      <td>0</td>\n",
       "    </tr>\n",
       "    <tr>\n",
       "      <td>4997</td>\n",
       "      <td>0</td>\n",
       "      <td>20.0</td>\n",
       "      <td>33900.0</td>\n",
       "      <td>2</td>\n",
       "      <td>0</td>\n",
       "    </tr>\n",
       "    <tr>\n",
       "      <td>4998</td>\n",
       "      <td>1</td>\n",
       "      <td>22.0</td>\n",
       "      <td>32700.0</td>\n",
       "      <td>3</td>\n",
       "      <td>0</td>\n",
       "    </tr>\n",
       "    <tr>\n",
       "      <td>4999</td>\n",
       "      <td>1</td>\n",
       "      <td>28.0</td>\n",
       "      <td>40600.0</td>\n",
       "      <td>1</td>\n",
       "      <td>0</td>\n",
       "    </tr>\n",
       "  </tbody>\n",
       "</table>\n",
       "<p>5000 rows × 5 columns</p>\n",
       "</div>"
      ],
      "text/plain": [
       "      Пол  Возраст  Зарплата  Члены семьи  Страховые выплаты\n",
       "0       1     41.0   49600.0            1                  0\n",
       "1       0     46.0   38000.0            1                  1\n",
       "2       0     29.0   21000.0            0                  0\n",
       "3       0     21.0   41700.0            2                  0\n",
       "4       1     28.0   26100.0            0                  0\n",
       "...   ...      ...       ...          ...                ...\n",
       "4995    0     28.0   35700.0            2                  0\n",
       "4996    0     34.0   52400.0            1                  0\n",
       "4997    0     20.0   33900.0            2                  0\n",
       "4998    1     22.0   32700.0            3                  0\n",
       "4999    1     28.0   40600.0            1                  0\n",
       "\n",
       "[5000 rows x 5 columns]"
      ]
     },
     "execution_count": 2,
     "metadata": {},
     "output_type": "execute_result"
    }
   ],
   "source": [
    "df = pd.read_csv('/datasets/insurance.csv')\n",
    "df"
   ]
  },
  {
   "cell_type": "markdown",
   "metadata": {},
   "source": [
    "* Признаки: *Пол*, *Возраст* и *Зарплата* застрахованного, *Количество членов его семьи*.\n",
    "* Целевой признак: *Количество страховых выплат* клиенту за последние 5 лет."
   ]
  },
  {
   "cell_type": "code",
   "execution_count": 3,
   "metadata": {
    "scrolled": false
   },
   "outputs": [
    {
     "name": "stdout",
     "output_type": "stream",
     "text": [
      "<class 'pandas.core.frame.DataFrame'>\n",
      "RangeIndex: 5000 entries, 0 to 4999\n",
      "Data columns (total 5 columns):\n",
      "sex                        5000 non-null int64\n",
      "age                        5000 non-null float64\n",
      "salary                     5000 non-null float64\n",
      "family_members             5000 non-null int64\n",
      "insurance_compensations    5000 non-null int64\n",
      "dtypes: float64(2), int64(3)\n",
      "memory usage: 195.4 KB\n"
     ]
    }
   ],
   "source": [
    "# Переименуем столбцы для удобства работы\n",
    "\n",
    "df=df.rename(columns={'Пол': 'sex', \n",
    "                      'Возраст': 'age', \n",
    "                      'Зарплата': 'salary', \n",
    "                      'Члены семьи': 'family_members', \n",
    "                      'Страховые выплаты': 'insurance_compensations'}\n",
    "            )\n",
    "df.info()"
   ]
  },
  {
   "cell_type": "markdown",
   "metadata": {},
   "source": [
    "Пропусков в данных нет. Посмотрим на дубликаты."
   ]
  },
  {
   "cell_type": "code",
   "execution_count": 4,
   "metadata": {},
   "outputs": [
    {
     "data": {
      "text/plain": [
       "153"
      ]
     },
     "execution_count": 4,
     "metadata": {},
     "output_type": "execute_result"
    }
   ],
   "source": [
    "df.duplicated().sum()"
   ]
  },
  {
   "cell_type": "code",
   "execution_count": 5,
   "metadata": {
    "scrolled": true
   },
   "outputs": [
    {
     "data": {
      "text/plain": [
       "0"
      ]
     },
     "execution_count": 5,
     "metadata": {},
     "output_type": "execute_result"
    }
   ],
   "source": [
    "# Избавимся от дубликатов\n",
    "\n",
    "df = df.drop_duplicates().reset_index(drop=True)\n",
    "df.duplicated().sum()"
   ]
  },
  {
   "cell_type": "code",
   "execution_count": 6,
   "metadata": {
    "scrolled": false
   },
   "outputs": [
    {
     "data": {
      "text/html": [
       "<div>\n",
       "<style scoped>\n",
       "    .dataframe tbody tr th:only-of-type {\n",
       "        vertical-align: middle;\n",
       "    }\n",
       "\n",
       "    .dataframe tbody tr th {\n",
       "        vertical-align: top;\n",
       "    }\n",
       "\n",
       "    .dataframe thead th {\n",
       "        text-align: right;\n",
       "    }\n",
       "</style>\n",
       "<table border=\"1\" class=\"dataframe\">\n",
       "  <thead>\n",
       "    <tr style=\"text-align: right;\">\n",
       "      <th></th>\n",
       "      <th>sex</th>\n",
       "      <th>age</th>\n",
       "      <th>salary</th>\n",
       "      <th>family_members</th>\n",
       "      <th>insurance_compensations</th>\n",
       "    </tr>\n",
       "  </thead>\n",
       "  <tbody>\n",
       "    <tr>\n",
       "      <td>count</td>\n",
       "      <td>4847.000000</td>\n",
       "      <td>4847.000000</td>\n",
       "      <td>4847.000000</td>\n",
       "      <td>4847.000000</td>\n",
       "      <td>4847.000000</td>\n",
       "    </tr>\n",
       "    <tr>\n",
       "      <td>mean</td>\n",
       "      <td>0.498453</td>\n",
       "      <td>31.023932</td>\n",
       "      <td>39895.811842</td>\n",
       "      <td>1.203425</td>\n",
       "      <td>0.152259</td>\n",
       "    </tr>\n",
       "    <tr>\n",
       "      <td>std</td>\n",
       "      <td>0.500049</td>\n",
       "      <td>8.487995</td>\n",
       "      <td>9972.953985</td>\n",
       "      <td>1.098664</td>\n",
       "      <td>0.468934</td>\n",
       "    </tr>\n",
       "    <tr>\n",
       "      <td>min</td>\n",
       "      <td>0.000000</td>\n",
       "      <td>18.000000</td>\n",
       "      <td>5300.000000</td>\n",
       "      <td>0.000000</td>\n",
       "      <td>0.000000</td>\n",
       "    </tr>\n",
       "    <tr>\n",
       "      <td>25%</td>\n",
       "      <td>0.000000</td>\n",
       "      <td>24.000000</td>\n",
       "      <td>33200.000000</td>\n",
       "      <td>0.000000</td>\n",
       "      <td>0.000000</td>\n",
       "    </tr>\n",
       "    <tr>\n",
       "      <td>50%</td>\n",
       "      <td>0.000000</td>\n",
       "      <td>30.000000</td>\n",
       "      <td>40200.000000</td>\n",
       "      <td>1.000000</td>\n",
       "      <td>0.000000</td>\n",
       "    </tr>\n",
       "    <tr>\n",
       "      <td>75%</td>\n",
       "      <td>1.000000</td>\n",
       "      <td>37.000000</td>\n",
       "      <td>46600.000000</td>\n",
       "      <td>2.000000</td>\n",
       "      <td>0.000000</td>\n",
       "    </tr>\n",
       "    <tr>\n",
       "      <td>max</td>\n",
       "      <td>1.000000</td>\n",
       "      <td>65.000000</td>\n",
       "      <td>79000.000000</td>\n",
       "      <td>6.000000</td>\n",
       "      <td>5.000000</td>\n",
       "    </tr>\n",
       "  </tbody>\n",
       "</table>\n",
       "</div>"
      ],
      "text/plain": [
       "               sex          age        salary  family_members  \\\n",
       "count  4847.000000  4847.000000   4847.000000     4847.000000   \n",
       "mean      0.498453    31.023932  39895.811842        1.203425   \n",
       "std       0.500049     8.487995   9972.953985        1.098664   \n",
       "min       0.000000    18.000000   5300.000000        0.000000   \n",
       "25%       0.000000    24.000000  33200.000000        0.000000   \n",
       "50%       0.000000    30.000000  40200.000000        1.000000   \n",
       "75%       1.000000    37.000000  46600.000000        2.000000   \n",
       "max       1.000000    65.000000  79000.000000        6.000000   \n",
       "\n",
       "       insurance_compensations  \n",
       "count              4847.000000  \n",
       "mean                  0.152259  \n",
       "std                   0.468934  \n",
       "min                   0.000000  \n",
       "25%                   0.000000  \n",
       "50%                   0.000000  \n",
       "75%                   0.000000  \n",
       "max                   5.000000  "
      ]
     },
     "execution_count": 6,
     "metadata": {},
     "output_type": "execute_result"
    }
   ],
   "source": [
    "# Посмотрим на общую информацию о данных\n",
    "\n",
    "df.describe()"
   ]
  },
  {
   "cell_type": "markdown",
   "metadata": {},
   "source": [
    "Данные подготовлены для дальнейшей работы."
   ]
  },
  {
   "cell_type": "markdown",
   "metadata": {},
   "source": [
    "<a href='#top'>Back to top</a>"
   ]
  },
  {
   "cell_type": "markdown",
   "metadata": {},
   "source": [
    "<a id='section_2'></a>\n",
    "## 2. Умножение матриц"
   ]
  },
  {
   "cell_type": "markdown",
   "metadata": {},
   "source": [
    "**Задача:** Изменится ли качество линейной регрессии при умножении признаков на обратную матрицу?\n",
    "\n",
    "**Ответ:** Качество линейной регрессии при умножении признаков на обратную матрицу не изменится. При умножении признаков на обратную матрицу, предсказания модели не поменяются, но поменяются веса для новых признаков.\n",
    "\n",
    "**Обоснование:** Вектор весов линейной регрессии рассчитывается по формуле (3). Умножим признаки $X$ на обратную матрицу $P$ и посмотрим, изменится ли качество линейной регрессии. Представим новую матрицу признаков как $X_1$:\n",
    "\n",
    "$$\n",
    "\\begin{equation}\\tag{4} X_1 = X\\cdot P\\\\ \\end{equation}\n",
    "$$\n",
    "\n",
    "Подставим формулу (4) в формулу (3) и преобразуем уравнение:\n",
    "\n",
    "\\begin{equation}\\tag{5}w_1 = ((X \\cdot P)^T\\cdot  X \\cdot P)^{-1}\\cdot  (X \\cdot P)^T \\cdot y\\end{equation}\n",
    "\n",
    "\\begin{equation}\\tag{6}w_1 = (P^T \\cdot X^T\\cdot X \\cdot P)^{-1}\\cdot  P^T \\cdot X^T\\cdot  y\\end{equation}\n",
    "\n",
    "\\begin{equation}\\tag{7}w_1 = P^{-1}\\cdot  (X^T\\cdot  X)^{-1} \\cdot (P^T)^{-1}\\cdot  P^T\\cdot  X^T\\cdot  y\\end{equation}\n",
    "\n",
    "Так как $P$ по условию обратная, то произведение $(P^T)^{-1}\\cdot  P^T$ равно $E$ (единичная матрица):\n",
    "\n",
    "$$\n",
    "\\begin{equation}\\tag{8}w_1 = P^{-1} \\cdot (X^T \\cdot X)^{-1}\\cdot  E\\cdot  X^T \\cdot y = P^{-1} \\cdot ((X^T \\cdot X)^{-1}\\cdot  X^T \\cdot y)\\end{equation}\n",
    "$$\n",
    "\n",
    "Подставим в правую часть уравнения (8) формулу (3). Получим, что параметры линейной регрессии в исходной задаче и в преобразованной связаны следующим образом:\n",
    "\n",
    "$$\n",
    "\\begin{equation}\\tag{9}w_1 = P^{-1}\\cdot  w\\end{equation}\n",
    "$$\n",
    "\n",
    "Преобразуем формулу для предсказаний линейной регрессии (1). Подставим новое значение весов  $𝑤_1$, а также значения $X_1$ и $w_1$ для того, чтобы на их основе вычислить предсказания модели $a_1$:\n",
    "\n",
    "$$\n",
    "\\begin{equation}\\tag{10}a_1 = X_1\\cdot w_1 = X\\cdot P\\cdot P^{-1}\\cdot  w\\end{equation}\n",
    "$$\n",
    "\n",
    "Так как $P$ по условию обратная, то произведение $P\\cdot P^{-1}$ снова равно $E$:\n",
    "\n",
    "$$\n",
    "\\begin{equation}\\tag{11}a_1 = X\\cdot P\\cdot P^{-1} \\cdot w = X\\cdot  E\\cdot  w = X\\cdot  w = a\\end{equation}\n",
    "$$\n",
    "\n",
    "#### Вывод\n",
    "Доказано, что предсказания $a_1$ для матрицы признаков, умноженных на обратную матрицу $P$ равны предсказаниям $a$."
   ]
  },
  {
   "cell_type": "markdown",
   "metadata": {},
   "source": [
    "<a href='#top'>Back to top</a>"
   ]
  },
  {
   "cell_type": "markdown",
   "metadata": {},
   "source": [
    "<a id='section_3'></a>\n",
    "## 3. Алгоритм преобразования"
   ]
  },
  {
   "cell_type": "markdown",
   "metadata": {},
   "source": [
    "**Алгоритм**\n",
    "\n",
    "Для защиты данных без потери качества модели предложим алгоритм преобразования данных с созданием обратной матрицы $P$ и ее умножения на матрицу признаков."
   ]
  },
  {
   "cell_type": "markdown",
   "metadata": {},
   "source": [
    "**Обоснование**"
   ]
  },
  {
   "cell_type": "markdown",
   "metadata": {},
   "source": [
    "Создадим обратную матрицу."
   ]
  },
  {
   "cell_type": "code",
   "execution_count": 7,
   "metadata": {
    "scrolled": false
   },
   "outputs": [
    {
     "data": {
      "text/plain": [
       "array([[67, 20, 33, 11],\n",
       "       [87, 64, 84, 89],\n",
       "       [41, 51, 80, 85],\n",
       "       [33, 19, 56,  1]])"
      ]
     },
     "execution_count": 7,
     "metadata": {},
     "output_type": "execute_result"
    }
   ],
   "source": [
    "# Чтобы избежать получения вырожденной матрицы применим метод построения случайной матрицы randint()\n",
    "invertible_matrix_rnd = np.random.randint(100, size = (4, 4))\n",
    "invertible_matrix_rnd"
   ]
  },
  {
   "cell_type": "code",
   "execution_count": 8,
   "metadata": {
    "scrolled": true
   },
   "outputs": [
    {
     "data": {
      "text/plain": [
       "array([[ 0.04172047, -0.02312419,  0.01901399, -0.01706184],\n",
       "       [-0.17420245,  0.19159897, -0.1789049 ,  0.07083499],\n",
       "       [ 0.03357634, -0.05037298,  0.04834457,  0.00456688],\n",
       "       [ 0.05279622, -0.0563955 ,  0.06443542, -0.0385694 ]])"
      ]
     },
     "execution_count": 8,
     "metadata": {},
     "output_type": "execute_result"
    }
   ],
   "source": [
    "# Проверим матрицу на обратимость \n",
    "matrix_inverted = np.linalg.inv(invertible_matrix_rnd)\n",
    "matrix_inverted"
   ]
  },
  {
   "cell_type": "markdown",
   "metadata": {},
   "source": [
    "Матрица `invertible_matrix_rnd` обратима.\n",
    "\n",
    "Расчитаем вектора предсказаний  $𝑎$  и  $𝑎_1$  по формулам и сравним их между собой."
   ]
  },
  {
   "cell_type": "code",
   "execution_count": 9,
   "metadata": {},
   "outputs": [],
   "source": [
    "# Выделим признаки для обучения и целевой признак\n",
    "X = df.drop('insurance_compensations', axis=1)\n",
    "y = df['insurance_compensations']\n",
    " \n",
    "# Применим масштабирование\n",
    "scaler = StandardScaler()\n",
    "scaler.fit(X)\n",
    "\n",
    "X_scaled = scaler.transform(X)"
   ]
  },
  {
   "cell_type": "code",
   "execution_count": 10,
   "metadata": {},
   "outputs": [
    {
     "data": {
      "text/plain": [
       "2.4105522265782664e-13"
      ]
     },
     "execution_count": 10,
     "metadata": {},
     "output_type": "execute_result"
    }
   ],
   "source": [
    "# Расчитаем вектор весов линейной регрессии (𝑤) по формуле (3)\n",
    "w = np.linalg.inv(X_scaled.T@(X_scaled))@(X_scaled.T)@(y)\n",
    "\n",
    "# Расчитаем вектор предсказаний (𝑎) по формуле (1)\n",
    "a = X_scaled @ w\n",
    "\n",
    "# Проведем преобразование признаков\n",
    "X_1 = X_scaled @ invertible_matrix_rnd\n",
    "\n",
    "# Расчитаем вектор весов линейной регрессии для преобразованных признаков (𝑤_1) по формуле (8)\n",
    "w_1 = np.linalg.inv(X_1.T@(X_1))@(X_1.T)@(y)\n",
    "\n",
    "# Расчитаем вектор предсказаний для преобразованных признаков (𝑎_1) по формуле (10)\n",
    "a_1 = X_1 @ w_1\n",
    "\n",
    "# Расчитаем расхождения элементов векторов (𝑎_1) и (a)\n",
    "(a_1-a).sum()"
   ]
  },
  {
   "cell_type": "markdown",
   "metadata": {},
   "source": [
    "#### Вывод\n",
    "Расхождения минимальны $𝑎 \\simeq 𝑎_1$, а значит алгоритм преобразования не приводит к разным предсказаниям модели и не ухудшает качество модели."
   ]
  },
  {
   "cell_type": "markdown",
   "metadata": {},
   "source": [
    "<a href='#top'>Back to top</a>"
   ]
  },
  {
   "cell_type": "markdown",
   "metadata": {},
   "source": [
    "<a id='section_4'></a>\n",
    "## 4. Проверка алгоритма"
   ]
  },
  {
   "cell_type": "code",
   "execution_count": 11,
   "metadata": {},
   "outputs": [
    {
     "name": "stdout",
     "output_type": "stream",
     "text": [
      "MSE Score: 0.12527263826681606\n",
      "R2_Score:  0.4302010044852066\n"
     ]
    }
   ],
   "source": [
    "# Произведем проверку на модели линейной регрессии\n",
    "model = LinearRegression(normalize = True)\n",
    "model.fit(X, y)\n",
    "predictions = model.predict(X)\n",
    "mse = mean_squared_error(y, predictions)\n",
    "print('MSE Score:', mse)\n",
    "print('R2_Score: ',r2_score(y, predictions))"
   ]
  },
  {
   "cell_type": "code",
   "execution_count": 12,
   "metadata": {
    "scrolled": true
   },
   "outputs": [
    {
     "name": "stdout",
     "output_type": "stream",
     "text": [
      "MSE Score: 0.12527263826681606\n",
      "R2_Score:  0.4302010044852066\n"
     ]
    }
   ],
   "source": [
    "# Преобразуем признаки и повторим обучение\n",
    "X_1 = X_scaled @ invertible_matrix_rnd\n",
    "\n",
    "model.fit(X_1, y)\n",
    "predictions_1 = model.predict(X_1)\n",
    "mse = mean_squared_error(y, predictions_1)\n",
    "print('MSE Score:', mse)\n",
    "print('R2_Score: ',r2_score(y, predictions_1))"
   ]
  },
  {
   "cell_type": "markdown",
   "metadata": {},
   "source": [
    "#### Вывод\n",
    "Расхождения MSE и R2 обеих моделей минимальны, а значит данные пользователей защищены. При это качество модели сохранено."
   ]
  },
  {
   "cell_type": "markdown",
   "metadata": {},
   "source": [
    "<a href='#top'>Back to top</a>"
   ]
  }
 ],
 "metadata": {
  "kernelspec": {
   "display_name": "Python 3",
   "language": "python",
   "name": "python3"
  },
  "language_info": {
   "codemirror_mode": {
    "name": "ipython",
    "version": 3
   },
   "file_extension": ".py",
   "mimetype": "text/x-python",
   "name": "python",
   "nbconvert_exporter": "python",
   "pygments_lexer": "ipython3",
   "version": "3.8.5"
  }
 },
 "nbformat": 4,
 "nbformat_minor": 2
}
