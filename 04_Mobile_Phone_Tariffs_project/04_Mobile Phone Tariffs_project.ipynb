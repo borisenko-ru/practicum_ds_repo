{
 "cells": [
  {
   "cell_type": "markdown",
   "metadata": {},
   "source": [
    ">Алексей, приветствую! Меня зовут Кудрявцев Александр и я буду проверять твой проект.\n",
    ">\n",
    ">Если ты непротив, мне было бы удобнее общаться на \"ты\" во время проверки проекта :)\n",
    ">\n",
    ">Ниже в ноутбуке будут мои комментарии, закодированные разными цветами.\n",
    ">\n",
    ">**_<span style=\"color:green\">Зеленым будут выделены места, которые хочется особенно отметить, как хорошие. </span>_**\n",
    ">\n",
    "> **_<span style=\"color:red\">Недочеты, откомментированные красным обязательны к доработке – без их исправления проект не будет зачтен. </span>_**\n",
    ">  \n",
    "> **_<span style=\"color:orange\">Недочеты и подсказки, откомментированные оранжевым, учесть желательно, но их доработка не является обязательным условнием для зачета.</span>_**\n",
    ">\n",
    "> Если какие-то подзадачи не откомментированны – значит с ними все окей, нет возражений.\n",
    ">\n",
    "> Если ошибка влечет за собой дальнейшие неточности рассчетов или выводов – пожалуйста, поправь их тоже, чтобы аналитический отчет был целостным.\n",
    ">\n",
    ">Пожалуйста, не удаляй и не переноси мои комментарии, это позволит лучше ориентироваться при возможных повторных проверках."
   ]
  },
  {
   "cell_type": "markdown",
   "metadata": {},
   "source": [
    "<a id='top'></a>\n",
    "<img align=\"center\" src=\"https://geektech.me/wp-content/uploads/2020/09/3a9e9088aaaa1240017630bfbef872e9.png\" width=\"200\" />"
   ]
  },
  {
   "cell_type": "markdown",
   "metadata": {},
   "source": [
    "<p style=\"text-align: center;\">\n",
    "    <font size='5' type='bold'>\n",
    "        <b>Определение перспективного тарифа для телеком компании</b>\n",
    "    </font>\n",
    "</p>"
   ]
  },
  {
   "cell_type": "markdown",
   "metadata": {},
   "source": [
    "### Содержание\n",
    "\n",
    "<a href='#section_0'>Задачи проекта</a>\n",
    "\n",
    "<a href='#section_i'>I. Общая информация о данных</a>\n",
    "* <a href='#section_i_1'>Информация о пользователях</a>\n",
    "* <a href='#section_i_2'>Информация о звонках</a>\n",
    "* <a href='#section_i_3'>Информация о сообщениях</a>\n",
    "* <a href='#section_i_4'>Информация об интернет-сессиях</a>\n",
    "* <a href='#section_i_5'>Информация о тарифах</a>\n",
    "\n",
    "<a href='#section_ii'>II. Предобработка данных</a>\n",
    "    \n",
    "<a href='#section_iii'>III. Добавление рассчетных данных</a>\n",
    "* <a href='#section_iii_1'>Расчет количества сделанных звонков и израсходованных минут разговора по месяцам</a>\n",
    "* <a href='#section_iii_2'>Расчет количества отправленных сообщений по месяцам</a>\n",
    "* <a href='#section_iii_3'>Расчет объема израсходованного интернет-трафика по месяцам</a>\n",
    "* <a href='#section_iii_4'>Расчет помесячной выручки с каждого пользователя</a>\n",
    "    \n",
    "<a href='#section_iv'>IV. Статистический анализ данных</a>\n",
    "\n",
    "<a href='#section_v'>V. Проверка гипотез</a>\n",
    "* <a href='#section_v_1'>Гипотеза о равенстве средних двух генеральных совокупностей №1 (зависимость выручки от тарифа)</a>\n",
    "* <a href='#section_v_2'>Гипотеза о равенстве средних двух генеральных совокупностей №2 (зависимость выручки от региона)</a>\n",
    "    \n",
    "<a href='#section_vi'>VI. Общий вывод</a>\n",
    "    \n",
    "<a href='#section_end'>Чек-лист готовности проекта</a>"
   ]
  },
  {
   "cell_type": "markdown",
   "metadata": {},
   "source": [
    "\n",
    ">**_<span style=\"color:green\">Оглавление в тетрадках jupyter notebook — отличная практика. Так держать! :) </span>_**\n"
   ]
  },
  {
   "cell_type": "markdown",
   "metadata": {},
   "source": [
    "<a id='section_0'></a>\n",
    "### Задачи проекта.\n",
    "Клиентам \"Мегалайн\" предлагают два тарифных плана: *«Смарт»* и *«Ультра»*. Чтобы скорректировать рекламный бюджет, коммерческий департамент хочет понять, какой тариф приносит больше денег.\n",
    "Вам предстоит сделать предварительный анализ тарифов на небольшой выборке клиентов. В вашем распоряжении данные 500 пользователей «Мегалайна»: кто они, откуда, каким тарифом пользуются, сколько звонков и сообщений каждый отправил за 2018 год. Нужно проанализировать поведение клиентов и сделать вывод — какой тариф лучше.\n",
    "\n",
    "---\n",
    "<div style=\"border:solid purple 1px; padding: 10px\">\n",
    "\n",
    "*Тариф «Смарт»*\n",
    "    \n",
    "* Ежемесячная плата: **550 рублей**\n",
    "* Включено 500 минут разговора, 50 сообщений и 15 Гб интернет-трафика\n",
    "* Стоимость услуг сверх тарифного пакета:\n",
    "    - минута разговора: 3 рубля\n",
    "    - сообщение: 3 рубля\n",
    "    - 1 Гб интернет-трафика: 200 рублей\n",
    "</div>   "
   ]
  },
  {
   "cell_type": "markdown",
   "metadata": {},
   "source": [
    "<div style=\"border:solid purple 1px; padding: 10px\">\n",
    "\n",
    "*Тариф «Ультра»*\n",
    "* Ежемесячная плата: **1950 рублей**\n",
    "* Включено 3000 минут разговора, 1000 сообщений и 30 Гб интернет-трафика\n",
    "* Стоимость услуг сверх тарифного пакета:\n",
    "    - минута разговора: 1 рубль\n",
    "    - сообщение: 1 рубль\n",
    "    - 1 Гб интернет-трафика: 150 рублей\n",
    "</div>\n",
    "---"
   ]
  },
  {
   "cell_type": "markdown",
   "metadata": {},
   "source": [
    "<a href='#top'>Back to top</a>"
   ]
  },
  {
   "cell_type": "markdown",
   "metadata": {},
   "source": [
    "<a id='section_i'></a>\n",
    "### I. Общая информации о данных"
   ]
  },
  {
   "cell_type": "markdown",
   "metadata": {},
   "source": [
    "Импортируем необходимые для работы библиотеки."
   ]
  },
  {
   "cell_type": "code",
   "execution_count": 1,
   "metadata": {},
   "outputs": [],
   "source": [
    "import pandas as pd # <импорт библиотеки pandas>\n",
    "import numpy as np # <импорт библиотеки NumPy>\n",
    "import seaborn as sns # <импорт библиотеки Seaborn>\n",
    "import matplotlib.pyplot as plt # <импорт коллекции Pyplot библиотеки Matplotlib>\n",
    "import pylab as pl # <импорт модуля PyLab>\n",
    "from datetime import datetime as dt # <импорт модуля datetime>\n",
    "from scipy import stats as st # <импорт модуля stats>"
   ]
  },
  {
   "cell_type": "markdown",
   "metadata": {},
   "source": [
    "Изучим данные, предоставленные Заказчиком для проекта. Прочитаем файлы и сохраним их в переменных."
   ]
  },
  {
   "cell_type": "code",
   "execution_count": 2,
   "metadata": {},
   "outputs": [],
   "source": [
    "users_data = 'C:/Users/aleks/OneDrive/MyBackup/edu_ds_13 (Yandex)/03_Portfolio/04_Mobile Phone Tariffs_project/users.csv'\n",
    "calls_data = 'C:/Users/aleks/OneDrive/MyBackup/edu_ds_13 (Yandex)/03_Portfolio/04_Mobile Phone Tariffs_project/calls.csv'\n",
    "messages_data = 'C:/Users/aleks/OneDrive/MyBackup/edu_ds_13 (Yandex)/03_Portfolio/04_Mobile Phone Tariffs_project/messages.csv'\n",
    "internet_data = 'C:/Users/aleks/OneDrive/MyBackup/edu_ds_13 (Yandex)/03_Portfolio/04_Mobile Phone Tariffs_project/internet.csv'\n",
    "tariffs_data = 'C:/Users/aleks/OneDrive/MyBackup/edu_ds_13 (Yandex)/03_Portfolio/04_Mobile Phone Tariffs_project/tariffs.csv'\n",
    "\n",
    "df_u = pd.read_csv(users_data)\n",
    "df_c = pd.read_csv(calls_data)\n",
    "df_m = pd.read_csv(messages_data)\n",
    "df_i = pd.read_csv(internet_data)\n",
    "df_t = pd.read_csv(tariffs_data)"
   ]
  },
  {
   "cell_type": "markdown",
   "metadata": {},
   "source": [
    "Посмотрим на данные таблиц, и выведем общую информацию о составе данных, применив метод `info`. Также посмотрим на сводную статистику по данным, представленным в числовом виде, применив метод `describe`."
   ]
  },
  {
   "cell_type": "markdown",
   "metadata": {},
   "source": [
    "<a id='section_i_1'></a>\n",
    "<div style=\"border:solid green 2px; padding: 10px\">\n",
    "    <b>Информация о пользователях</b>"
   ]
  },
  {
   "cell_type": "code",
   "execution_count": 3,
   "metadata": {},
   "outputs": [
    {
     "data": {
      "text/html": [
       "<div>\n",
       "<style scoped>\n",
       "    .dataframe tbody tr th:only-of-type {\n",
       "        vertical-align: middle;\n",
       "    }\n",
       "\n",
       "    .dataframe tbody tr th {\n",
       "        vertical-align: top;\n",
       "    }\n",
       "\n",
       "    .dataframe thead th {\n",
       "        text-align: right;\n",
       "    }\n",
       "</style>\n",
       "<table border=\"1\" class=\"dataframe\">\n",
       "  <thead>\n",
       "    <tr style=\"text-align: right;\">\n",
       "      <th></th>\n",
       "      <th>user_id</th>\n",
       "      <th>age</th>\n",
       "      <th>churn_date</th>\n",
       "      <th>city</th>\n",
       "      <th>first_name</th>\n",
       "      <th>last_name</th>\n",
       "      <th>reg_date</th>\n",
       "      <th>tariff</th>\n",
       "    </tr>\n",
       "  </thead>\n",
       "  <tbody>\n",
       "    <tr>\n",
       "      <th>0</th>\n",
       "      <td>1000</td>\n",
       "      <td>52</td>\n",
       "      <td>NaN</td>\n",
       "      <td>Краснодар</td>\n",
       "      <td>Рафаил</td>\n",
       "      <td>Верещагин</td>\n",
       "      <td>2018-05-25</td>\n",
       "      <td>ultra</td>\n",
       "    </tr>\n",
       "    <tr>\n",
       "      <th>1</th>\n",
       "      <td>1001</td>\n",
       "      <td>41</td>\n",
       "      <td>NaN</td>\n",
       "      <td>Москва</td>\n",
       "      <td>Иван</td>\n",
       "      <td>Ежов</td>\n",
       "      <td>2018-11-01</td>\n",
       "      <td>smart</td>\n",
       "    </tr>\n",
       "    <tr>\n",
       "      <th>2</th>\n",
       "      <td>1002</td>\n",
       "      <td>59</td>\n",
       "      <td>NaN</td>\n",
       "      <td>Стерлитамак</td>\n",
       "      <td>Евгений</td>\n",
       "      <td>Абрамович</td>\n",
       "      <td>2018-06-17</td>\n",
       "      <td>smart</td>\n",
       "    </tr>\n",
       "  </tbody>\n",
       "</table>\n",
       "</div>"
      ],
      "text/plain": [
       "   user_id  age churn_date         city first_name  last_name    reg_date  \\\n",
       "0     1000   52        NaN    Краснодар     Рафаил  Верещагин  2018-05-25   \n",
       "1     1001   41        NaN       Москва       Иван       Ежов  2018-11-01   \n",
       "2     1002   59        NaN  Стерлитамак    Евгений  Абрамович  2018-06-17   \n",
       "\n",
       "  tariff  \n",
       "0  ultra  \n",
       "1  smart  \n",
       "2  smart  "
      ]
     },
     "execution_count": 3,
     "metadata": {},
     "output_type": "execute_result"
    }
   ],
   "source": [
    "df_u.head(3)"
   ]
  },
  {
   "cell_type": "code",
   "execution_count": 4,
   "metadata": {},
   "outputs": [
    {
     "name": "stdout",
     "output_type": "stream",
     "text": [
      "<class 'pandas.core.frame.DataFrame'>\n",
      "RangeIndex: 500 entries, 0 to 499\n",
      "Data columns (total 8 columns):\n",
      " #   Column      Non-Null Count  Dtype \n",
      "---  ------      --------------  ----- \n",
      " 0   user_id     500 non-null    int64 \n",
      " 1   age         500 non-null    int64 \n",
      " 2   churn_date  38 non-null     object\n",
      " 3   city        500 non-null    object\n",
      " 4   first_name  500 non-null    object\n",
      " 5   last_name   500 non-null    object\n",
      " 6   reg_date    500 non-null    object\n",
      " 7   tariff      500 non-null    object\n",
      "dtypes: int64(2), object(6)\n",
      "memory usage: 31.4+ KB\n"
     ]
    }
   ],
   "source": [
    "df_u.info()"
   ]
  },
  {
   "cell_type": "code",
   "execution_count": 5,
   "metadata": {},
   "outputs": [
    {
     "data": {
      "text/html": [
       "<div>\n",
       "<style scoped>\n",
       "    .dataframe tbody tr th:only-of-type {\n",
       "        vertical-align: middle;\n",
       "    }\n",
       "\n",
       "    .dataframe tbody tr th {\n",
       "        vertical-align: top;\n",
       "    }\n",
       "\n",
       "    .dataframe thead th {\n",
       "        text-align: right;\n",
       "    }\n",
       "</style>\n",
       "<table border=\"1\" class=\"dataframe\">\n",
       "  <thead>\n",
       "    <tr style=\"text-align: right;\">\n",
       "      <th></th>\n",
       "      <th>user_id</th>\n",
       "      <th>age</th>\n",
       "    </tr>\n",
       "  </thead>\n",
       "  <tbody>\n",
       "    <tr>\n",
       "      <th>count</th>\n",
       "      <td>500.000000</td>\n",
       "      <td>500.00000</td>\n",
       "    </tr>\n",
       "    <tr>\n",
       "      <th>mean</th>\n",
       "      <td>1249.500000</td>\n",
       "      <td>46.58800</td>\n",
       "    </tr>\n",
       "    <tr>\n",
       "      <th>std</th>\n",
       "      <td>144.481833</td>\n",
       "      <td>16.66763</td>\n",
       "    </tr>\n",
       "    <tr>\n",
       "      <th>min</th>\n",
       "      <td>1000.000000</td>\n",
       "      <td>18.00000</td>\n",
       "    </tr>\n",
       "    <tr>\n",
       "      <th>25%</th>\n",
       "      <td>1124.750000</td>\n",
       "      <td>32.00000</td>\n",
       "    </tr>\n",
       "    <tr>\n",
       "      <th>50%</th>\n",
       "      <td>1249.500000</td>\n",
       "      <td>46.00000</td>\n",
       "    </tr>\n",
       "    <tr>\n",
       "      <th>75%</th>\n",
       "      <td>1374.250000</td>\n",
       "      <td>62.00000</td>\n",
       "    </tr>\n",
       "    <tr>\n",
       "      <th>max</th>\n",
       "      <td>1499.000000</td>\n",
       "      <td>75.00000</td>\n",
       "    </tr>\n",
       "  </tbody>\n",
       "</table>\n",
       "</div>"
      ],
      "text/plain": [
       "           user_id        age\n",
       "count   500.000000  500.00000\n",
       "mean   1249.500000   46.58800\n",
       "std     144.481833   16.66763\n",
       "min    1000.000000   18.00000\n",
       "25%    1124.750000   32.00000\n",
       "50%    1249.500000   46.00000\n",
       "75%    1374.250000   62.00000\n",
       "max    1499.000000   75.00000"
      ]
     },
     "execution_count": 5,
     "metadata": {},
     "output_type": "execute_result"
    }
   ],
   "source": [
    "df_u.describe()"
   ]
  },
  {
   "cell_type": "markdown",
   "metadata": {},
   "source": [
    "Таблица *df_u* (информация о пользователях) содержит следующие данные:\n",
    "- **user_id** — уникальный идентификатор пользователя\n",
    "- **first_name** — имя пользователя\n",
    "- **last_name** — фамилия пользователя\n",
    "- **age** — возраст пользователя (годы)\n",
    "- **reg_date** — дата подключения тарифа (день, месяц, год)\n",
    "- **churn_date** — дата прекращения пользования тарифом\n",
    "- **city** — город проживания пользователя\n",
    "- **tariff** — название тарифного плана\n",
    "\n",
    "Всего в таблице 8 столбцов, типы данных: \n",
    "- **строки** у 5 столбцов\n",
    "- **целые числа** у 2 столбцов\n",
    "- **вещественные числа** (с \"плавающей\" точкой) у 1\n",
    "\n",
    "Пропуски представлены только в колонке *churn_date*. По информации от маркетинговой службы, если значение пропущено, то тариф ещё действовал на момент выгрузки данных. Данные представлены полно и ровно, без явных \"выбросов\". Возраст клиентов варьируется от 18 до 75 лет. К последующей предобработке данных мы вернемся в следующем разделе."
   ]
  },
  {
   "cell_type": "markdown",
   "metadata": {},
   "source": [
    "<a id='section_i_2'></a>\n",
    "<div style=\"border:solid green 2px; padding: 10px\">\n",
    "    <b>Информация о звонках</b>"
   ]
  },
  {
   "cell_type": "code",
   "execution_count": 6,
   "metadata": {},
   "outputs": [
    {
     "data": {
      "text/html": [
       "<div>\n",
       "<style scoped>\n",
       "    .dataframe tbody tr th:only-of-type {\n",
       "        vertical-align: middle;\n",
       "    }\n",
       "\n",
       "    .dataframe tbody tr th {\n",
       "        vertical-align: top;\n",
       "    }\n",
       "\n",
       "    .dataframe thead th {\n",
       "        text-align: right;\n",
       "    }\n",
       "</style>\n",
       "<table border=\"1\" class=\"dataframe\">\n",
       "  <thead>\n",
       "    <tr style=\"text-align: right;\">\n",
       "      <th></th>\n",
       "      <th>id</th>\n",
       "      <th>call_date</th>\n",
       "      <th>duration</th>\n",
       "      <th>user_id</th>\n",
       "    </tr>\n",
       "  </thead>\n",
       "  <tbody>\n",
       "    <tr>\n",
       "      <th>0</th>\n",
       "      <td>1000_0</td>\n",
       "      <td>2018-07-25</td>\n",
       "      <td>0.00</td>\n",
       "      <td>1000</td>\n",
       "    </tr>\n",
       "    <tr>\n",
       "      <th>1</th>\n",
       "      <td>1000_1</td>\n",
       "      <td>2018-08-17</td>\n",
       "      <td>0.00</td>\n",
       "      <td>1000</td>\n",
       "    </tr>\n",
       "    <tr>\n",
       "      <th>2</th>\n",
       "      <td>1000_2</td>\n",
       "      <td>2018-06-11</td>\n",
       "      <td>2.85</td>\n",
       "      <td>1000</td>\n",
       "    </tr>\n",
       "  </tbody>\n",
       "</table>\n",
       "</div>"
      ],
      "text/plain": [
       "       id   call_date  duration  user_id\n",
       "0  1000_0  2018-07-25      0.00     1000\n",
       "1  1000_1  2018-08-17      0.00     1000\n",
       "2  1000_2  2018-06-11      2.85     1000"
      ]
     },
     "execution_count": 6,
     "metadata": {},
     "output_type": "execute_result"
    }
   ],
   "source": [
    "df_c.head(3)"
   ]
  },
  {
   "cell_type": "code",
   "execution_count": 7,
   "metadata": {},
   "outputs": [
    {
     "name": "stdout",
     "output_type": "stream",
     "text": [
      "<class 'pandas.core.frame.DataFrame'>\n",
      "RangeIndex: 202607 entries, 0 to 202606\n",
      "Data columns (total 4 columns):\n",
      " #   Column     Non-Null Count   Dtype  \n",
      "---  ------     --------------   -----  \n",
      " 0   id         202607 non-null  object \n",
      " 1   call_date  202607 non-null  object \n",
      " 2   duration   202607 non-null  float64\n",
      " 3   user_id    202607 non-null  int64  \n",
      "dtypes: float64(1), int64(1), object(2)\n",
      "memory usage: 6.2+ MB\n"
     ]
    }
   ],
   "source": [
    "df_c.info()"
   ]
  },
  {
   "cell_type": "code",
   "execution_count": 8,
   "metadata": {},
   "outputs": [
    {
     "data": {
      "text/html": [
       "<div>\n",
       "<style scoped>\n",
       "    .dataframe tbody tr th:only-of-type {\n",
       "        vertical-align: middle;\n",
       "    }\n",
       "\n",
       "    .dataframe tbody tr th {\n",
       "        vertical-align: top;\n",
       "    }\n",
       "\n",
       "    .dataframe thead th {\n",
       "        text-align: right;\n",
       "    }\n",
       "</style>\n",
       "<table border=\"1\" class=\"dataframe\">\n",
       "  <thead>\n",
       "    <tr style=\"text-align: right;\">\n",
       "      <th></th>\n",
       "      <th>duration</th>\n",
       "      <th>user_id</th>\n",
       "    </tr>\n",
       "  </thead>\n",
       "  <tbody>\n",
       "    <tr>\n",
       "      <th>count</th>\n",
       "      <td>202607.000000</td>\n",
       "      <td>202607.000000</td>\n",
       "    </tr>\n",
       "    <tr>\n",
       "      <th>mean</th>\n",
       "      <td>6.755887</td>\n",
       "      <td>1253.940619</td>\n",
       "    </tr>\n",
       "    <tr>\n",
       "      <th>std</th>\n",
       "      <td>5.843365</td>\n",
       "      <td>144.722751</td>\n",
       "    </tr>\n",
       "    <tr>\n",
       "      <th>min</th>\n",
       "      <td>0.000000</td>\n",
       "      <td>1000.000000</td>\n",
       "    </tr>\n",
       "    <tr>\n",
       "      <th>25%</th>\n",
       "      <td>1.300000</td>\n",
       "      <td>1126.000000</td>\n",
       "    </tr>\n",
       "    <tr>\n",
       "      <th>50%</th>\n",
       "      <td>6.000000</td>\n",
       "      <td>1260.000000</td>\n",
       "    </tr>\n",
       "    <tr>\n",
       "      <th>75%</th>\n",
       "      <td>10.700000</td>\n",
       "      <td>1379.000000</td>\n",
       "    </tr>\n",
       "    <tr>\n",
       "      <th>max</th>\n",
       "      <td>38.000000</td>\n",
       "      <td>1499.000000</td>\n",
       "    </tr>\n",
       "  </tbody>\n",
       "</table>\n",
       "</div>"
      ],
      "text/plain": [
       "            duration        user_id\n",
       "count  202607.000000  202607.000000\n",
       "mean        6.755887    1253.940619\n",
       "std         5.843365     144.722751\n",
       "min         0.000000    1000.000000\n",
       "25%         1.300000    1126.000000\n",
       "50%         6.000000    1260.000000\n",
       "75%        10.700000    1379.000000\n",
       "max        38.000000    1499.000000"
      ]
     },
     "execution_count": 8,
     "metadata": {},
     "output_type": "execute_result"
    }
   ],
   "source": [
    "df_c.describe()"
   ]
  },
  {
   "cell_type": "markdown",
   "metadata": {},
   "source": [
    "Таблица *df_с* (информация о звонках) содержит следующие данные:\n",
    "- **id** — уникальный номер звонка\n",
    "- **call_date** — дата звонка\n",
    "- **duration** — длительность звонка в минутах\n",
    "- **user_id** — идентификатор пользователя, сделавшего звонок\n",
    "\n",
    "Всего в таблице 4 столбца, типы данных: \n",
    "- **строки** у 2 столбцов\n",
    "- **целые числа** у 1 столбца\n",
    "- **вещественные числа** также у 1\n",
    "\n",
    "Пропусков нет. Данные представлены полно и ровно, без явных \"выбросов\". Время звонков варьируется от 0 до 38 минут."
   ]
  },
  {
   "cell_type": "markdown",
   "metadata": {},
   "source": [
    "<a id='section_i_3'></a>\n",
    "<div style=\"border:solid green 2px; padding: 10px\">\n",
    "    <b>Информация о сообщениях</b>"
   ]
  },
  {
   "cell_type": "code",
   "execution_count": 9,
   "metadata": {
    "scrolled": true
   },
   "outputs": [
    {
     "data": {
      "text/html": [
       "<div>\n",
       "<style scoped>\n",
       "    .dataframe tbody tr th:only-of-type {\n",
       "        vertical-align: middle;\n",
       "    }\n",
       "\n",
       "    .dataframe tbody tr th {\n",
       "        vertical-align: top;\n",
       "    }\n",
       "\n",
       "    .dataframe thead th {\n",
       "        text-align: right;\n",
       "    }\n",
       "</style>\n",
       "<table border=\"1\" class=\"dataframe\">\n",
       "  <thead>\n",
       "    <tr style=\"text-align: right;\">\n",
       "      <th></th>\n",
       "      <th>id</th>\n",
       "      <th>message_date</th>\n",
       "      <th>user_id</th>\n",
       "    </tr>\n",
       "  </thead>\n",
       "  <tbody>\n",
       "    <tr>\n",
       "      <th>0</th>\n",
       "      <td>1000_0</td>\n",
       "      <td>2018-06-27</td>\n",
       "      <td>1000</td>\n",
       "    </tr>\n",
       "    <tr>\n",
       "      <th>1</th>\n",
       "      <td>1000_1</td>\n",
       "      <td>2018-10-08</td>\n",
       "      <td>1000</td>\n",
       "    </tr>\n",
       "    <tr>\n",
       "      <th>2</th>\n",
       "      <td>1000_2</td>\n",
       "      <td>2018-08-04</td>\n",
       "      <td>1000</td>\n",
       "    </tr>\n",
       "  </tbody>\n",
       "</table>\n",
       "</div>"
      ],
      "text/plain": [
       "       id message_date  user_id\n",
       "0  1000_0   2018-06-27     1000\n",
       "1  1000_1   2018-10-08     1000\n",
       "2  1000_2   2018-08-04     1000"
      ]
     },
     "execution_count": 9,
     "metadata": {},
     "output_type": "execute_result"
    }
   ],
   "source": [
    "df_m.head(3)"
   ]
  },
  {
   "cell_type": "code",
   "execution_count": 10,
   "metadata": {},
   "outputs": [
    {
     "name": "stdout",
     "output_type": "stream",
     "text": [
      "<class 'pandas.core.frame.DataFrame'>\n",
      "RangeIndex: 123036 entries, 0 to 123035\n",
      "Data columns (total 3 columns):\n",
      " #   Column        Non-Null Count   Dtype \n",
      "---  ------        --------------   ----- \n",
      " 0   id            123036 non-null  object\n",
      " 1   message_date  123036 non-null  object\n",
      " 2   user_id       123036 non-null  int64 \n",
      "dtypes: int64(1), object(2)\n",
      "memory usage: 2.8+ MB\n"
     ]
    }
   ],
   "source": [
    "df_m.info()"
   ]
  },
  {
   "cell_type": "markdown",
   "metadata": {},
   "source": [
    "Таблица *df_m* (информация о сообщениях) содержит следующие данные:\n",
    "- **id** — уникальный номер сообщения\n",
    "- **message_date** — дата сообщения\n",
    "- **user_id** — идентификатор пользователя, отправившего сообщение\n",
    "\n",
    "Всего в таблице 3 столбца, типы данных: \n",
    "- **строки** у 2 столбцов\n",
    "- **целые числа** у 1\n",
    "\n",
    "Пропусков нет. В вызове метода `describe` нет необходимости, так как числовой тип данных представлен только по *user_id*."
   ]
  },
  {
   "cell_type": "markdown",
   "metadata": {},
   "source": [
    "<a id='section_i_4'></a>\n",
    "<div style=\"border:solid green 2px; padding: 10px\">\n",
    "    <b>Информация об интернет-сессиях</b>"
   ]
  },
  {
   "cell_type": "code",
   "execution_count": 11,
   "metadata": {
    "scrolled": true
   },
   "outputs": [
    {
     "data": {
      "text/html": [
       "<div>\n",
       "<style scoped>\n",
       "    .dataframe tbody tr th:only-of-type {\n",
       "        vertical-align: middle;\n",
       "    }\n",
       "\n",
       "    .dataframe tbody tr th {\n",
       "        vertical-align: top;\n",
       "    }\n",
       "\n",
       "    .dataframe thead th {\n",
       "        text-align: right;\n",
       "    }\n",
       "</style>\n",
       "<table border=\"1\" class=\"dataframe\">\n",
       "  <thead>\n",
       "    <tr style=\"text-align: right;\">\n",
       "      <th></th>\n",
       "      <th>Unnamed: 0</th>\n",
       "      <th>id</th>\n",
       "      <th>mb_used</th>\n",
       "      <th>session_date</th>\n",
       "      <th>user_id</th>\n",
       "    </tr>\n",
       "  </thead>\n",
       "  <tbody>\n",
       "    <tr>\n",
       "      <th>0</th>\n",
       "      <td>0</td>\n",
       "      <td>1000_0</td>\n",
       "      <td>112.95</td>\n",
       "      <td>2018-11-25</td>\n",
       "      <td>1000</td>\n",
       "    </tr>\n",
       "    <tr>\n",
       "      <th>1</th>\n",
       "      <td>1</td>\n",
       "      <td>1000_1</td>\n",
       "      <td>1052.81</td>\n",
       "      <td>2018-09-07</td>\n",
       "      <td>1000</td>\n",
       "    </tr>\n",
       "    <tr>\n",
       "      <th>2</th>\n",
       "      <td>2</td>\n",
       "      <td>1000_2</td>\n",
       "      <td>1197.26</td>\n",
       "      <td>2018-06-25</td>\n",
       "      <td>1000</td>\n",
       "    </tr>\n",
       "  </tbody>\n",
       "</table>\n",
       "</div>"
      ],
      "text/plain": [
       "   Unnamed: 0      id  mb_used session_date  user_id\n",
       "0           0  1000_0   112.95   2018-11-25     1000\n",
       "1           1  1000_1  1052.81   2018-09-07     1000\n",
       "2           2  1000_2  1197.26   2018-06-25     1000"
      ]
     },
     "execution_count": 11,
     "metadata": {},
     "output_type": "execute_result"
    }
   ],
   "source": [
    "df_i.head(3)"
   ]
  },
  {
   "cell_type": "code",
   "execution_count": 12,
   "metadata": {},
   "outputs": [
    {
     "name": "stdout",
     "output_type": "stream",
     "text": [
      "<class 'pandas.core.frame.DataFrame'>\n",
      "RangeIndex: 149396 entries, 0 to 149395\n",
      "Data columns (total 5 columns):\n",
      " #   Column        Non-Null Count   Dtype  \n",
      "---  ------        --------------   -----  \n",
      " 0   Unnamed: 0    149396 non-null  int64  \n",
      " 1   id            149396 non-null  object \n",
      " 2   mb_used       149396 non-null  float64\n",
      " 3   session_date  149396 non-null  object \n",
      " 4   user_id       149396 non-null  int64  \n",
      "dtypes: float64(1), int64(2), object(2)\n",
      "memory usage: 5.7+ MB\n"
     ]
    }
   ],
   "source": [
    "df_i.info()"
   ]
  },
  {
   "cell_type": "code",
   "execution_count": 13,
   "metadata": {},
   "outputs": [
    {
     "data": {
      "text/html": [
       "<div>\n",
       "<style scoped>\n",
       "    .dataframe tbody tr th:only-of-type {\n",
       "        vertical-align: middle;\n",
       "    }\n",
       "\n",
       "    .dataframe tbody tr th {\n",
       "        vertical-align: top;\n",
       "    }\n",
       "\n",
       "    .dataframe thead th {\n",
       "        text-align: right;\n",
       "    }\n",
       "</style>\n",
       "<table border=\"1\" class=\"dataframe\">\n",
       "  <thead>\n",
       "    <tr style=\"text-align: right;\">\n",
       "      <th></th>\n",
       "      <th>Unnamed: 0</th>\n",
       "      <th>mb_used</th>\n",
       "      <th>user_id</th>\n",
       "    </tr>\n",
       "  </thead>\n",
       "  <tbody>\n",
       "    <tr>\n",
       "      <th>count</th>\n",
       "      <td>149396.000000</td>\n",
       "      <td>149396.000000</td>\n",
       "      <td>149396.000000</td>\n",
       "    </tr>\n",
       "    <tr>\n",
       "      <th>mean</th>\n",
       "      <td>74697.500000</td>\n",
       "      <td>370.192426</td>\n",
       "      <td>1252.099842</td>\n",
       "    </tr>\n",
       "    <tr>\n",
       "      <th>std</th>\n",
       "      <td>43127.054745</td>\n",
       "      <td>278.300951</td>\n",
       "      <td>144.050823</td>\n",
       "    </tr>\n",
       "    <tr>\n",
       "      <th>min</th>\n",
       "      <td>0.000000</td>\n",
       "      <td>0.000000</td>\n",
       "      <td>1000.000000</td>\n",
       "    </tr>\n",
       "    <tr>\n",
       "      <th>25%</th>\n",
       "      <td>37348.750000</td>\n",
       "      <td>138.187500</td>\n",
       "      <td>1130.000000</td>\n",
       "    </tr>\n",
       "    <tr>\n",
       "      <th>50%</th>\n",
       "      <td>74697.500000</td>\n",
       "      <td>348.015000</td>\n",
       "      <td>1251.000000</td>\n",
       "    </tr>\n",
       "    <tr>\n",
       "      <th>75%</th>\n",
       "      <td>112046.250000</td>\n",
       "      <td>559.552500</td>\n",
       "      <td>1380.000000</td>\n",
       "    </tr>\n",
       "    <tr>\n",
       "      <th>max</th>\n",
       "      <td>149395.000000</td>\n",
       "      <td>1724.830000</td>\n",
       "      <td>1499.000000</td>\n",
       "    </tr>\n",
       "  </tbody>\n",
       "</table>\n",
       "</div>"
      ],
      "text/plain": [
       "          Unnamed: 0        mb_used        user_id\n",
       "count  149396.000000  149396.000000  149396.000000\n",
       "mean    74697.500000     370.192426    1252.099842\n",
       "std     43127.054745     278.300951     144.050823\n",
       "min         0.000000       0.000000    1000.000000\n",
       "25%     37348.750000     138.187500    1130.000000\n",
       "50%     74697.500000     348.015000    1251.000000\n",
       "75%    112046.250000     559.552500    1380.000000\n",
       "max    149395.000000    1724.830000    1499.000000"
      ]
     },
     "execution_count": 13,
     "metadata": {},
     "output_type": "execute_result"
    }
   ],
   "source": [
    "df_i.describe()"
   ]
  },
  {
   "cell_type": "markdown",
   "metadata": {},
   "source": [
    "Таблица *df_i* (информация об интернет-сессиях) содержит следующие данные:\n",
    "- **id** — уникальный номер сессии\n",
    "- **mb_used** — объём потраченного за сессию интернет-трафика (в мегабайтах)\n",
    "- **session_date** — дата интернет-сессии\n",
    "- **user_id** — идентификатор пользователя\n",
    "\n",
    "Всего в таблице 5 столбцов, типы данных: \n",
    "- **строки** у 2 столбцов\n",
    "- **целые числа** у 2 столбцов\n",
    "- **вещественные числа** у 1.\n",
    "\n",
    "Пропусков нет. Данные представлены полно и ровно, без явных \"выбросов\". Трафик одной интернет-сессии варьируется от 0 до 1.7 Гб."
   ]
  },
  {
   "cell_type": "markdown",
   "metadata": {},
   "source": [
    "<a id='section_i_5'></a>\n",
    "<div style=\"border:solid green 2px; padding: 10px\">\n",
    "    <b>Информация о тарифах</b>"
   ]
  },
  {
   "cell_type": "code",
   "execution_count": 14,
   "metadata": {
    "scrolled": true
   },
   "outputs": [
    {
     "data": {
      "text/html": [
       "<div>\n",
       "<style scoped>\n",
       "    .dataframe tbody tr th:only-of-type {\n",
       "        vertical-align: middle;\n",
       "    }\n",
       "\n",
       "    .dataframe tbody tr th {\n",
       "        vertical-align: top;\n",
       "    }\n",
       "\n",
       "    .dataframe thead th {\n",
       "        text-align: right;\n",
       "    }\n",
       "</style>\n",
       "<table border=\"1\" class=\"dataframe\">\n",
       "  <thead>\n",
       "    <tr style=\"text-align: right;\">\n",
       "      <th></th>\n",
       "      <th>messages_included</th>\n",
       "      <th>mb_per_month_included</th>\n",
       "      <th>minutes_included</th>\n",
       "      <th>rub_monthly_fee</th>\n",
       "      <th>rub_per_gb</th>\n",
       "      <th>rub_per_message</th>\n",
       "      <th>rub_per_minute</th>\n",
       "      <th>tariff_name</th>\n",
       "    </tr>\n",
       "  </thead>\n",
       "  <tbody>\n",
       "    <tr>\n",
       "      <th>0</th>\n",
       "      <td>50</td>\n",
       "      <td>15360</td>\n",
       "      <td>500</td>\n",
       "      <td>550</td>\n",
       "      <td>200</td>\n",
       "      <td>3</td>\n",
       "      <td>3</td>\n",
       "      <td>smart</td>\n",
       "    </tr>\n",
       "    <tr>\n",
       "      <th>1</th>\n",
       "      <td>1000</td>\n",
       "      <td>30720</td>\n",
       "      <td>3000</td>\n",
       "      <td>1950</td>\n",
       "      <td>150</td>\n",
       "      <td>1</td>\n",
       "      <td>1</td>\n",
       "      <td>ultra</td>\n",
       "    </tr>\n",
       "  </tbody>\n",
       "</table>\n",
       "</div>"
      ],
      "text/plain": [
       "   messages_included  mb_per_month_included  minutes_included  \\\n",
       "0                 50                  15360               500   \n",
       "1               1000                  30720              3000   \n",
       "\n",
       "   rub_monthly_fee  rub_per_gb  rub_per_message  rub_per_minute tariff_name  \n",
       "0              550         200                3               3       smart  \n",
       "1             1950         150                1               1       ultra  "
      ]
     },
     "execution_count": 14,
     "metadata": {},
     "output_type": "execute_result"
    }
   ],
   "source": [
    "df_t.head(3)"
   ]
  },
  {
   "cell_type": "markdown",
   "metadata": {},
   "source": [
    "Таблица *df_t* (информация о тарифах) содержит следующие данные:\n",
    "- **tariff_name** — название тарифа\n",
    "- **rub_monthly_fee** — ежемесячная абонентская плата в рублях\n",
    "- **minutes_included** — количество минут разговора в месяц, включённых в абонентскую плату\n",
    "- **messages_included** — количество сообщений в месяц, включённых в абонентскую плату\n",
    "- **mb_per_month_included** — объём интернет-трафика, включённого в абонентскую плату (в мегабайтах)\n",
    "- **rub_per_minute** — стоимость минуты разговора сверх тарифного пакета (например, если в тарифе 100 минут разговора в месяц, то со 101 минуты будет взиматься плата)\n",
    "- **rub_per_message** — стоимость отправки сообщения сверх тарифного пакета\n",
    "- **rub_per_gb** — стоимость дополнительного гигабайта интернет-трафика сверх тарифного пакета (1 гигабайт = 1024 мегабайта)\n",
    "\n",
    "Таблица по размеру не большая, что и логично, так как это всего лишь информация о тарифах. Составителю такого рода сводных данных сложно ошибиться в цифрах, если перед отправкой аналитикам нужно проверить всего две строки."
   ]
  },
  {
   "cell_type": "markdown",
   "metadata": {},
   "source": [
    "<a href='#top'>Back to top</a>"
   ]
  },
  {
   "cell_type": "markdown",
   "metadata": {},
   "source": [
    "\n",
    ">**_<span style=\"color:green\">Здесь всё структурировано и по делу, класс. </span>_**\n",
    ">\n"
   ]
  },
  {
   "cell_type": "markdown",
   "metadata": {},
   "source": [
    "<a id='section_ii'></a>\n",
    "### II. Предобработка данных"
   ]
  },
  {
   "cell_type": "markdown",
   "metadata": {},
   "source": [
    "Предварительный разбор данных на [этапе знакомства с данными](#section_i) показал следующие очевидные недостатки в данных:\n",
    "- Даты в соответствующих таблицах не представлены в виде объектов даты-времени\n",
    "- В таблице со звонками (столбец *duration*) и в таблице с интернет-сессиями (столбец *mb_used*) значения дробные и не представлены в виде целочисленных объектов. Так как «Мегалайн» всегда округляет вверх значения минут и мегабайтов, то, если пользователь проговорил всего 1 секунду, в тарифе засчитывается целая минута, а значит и платить пользователь будет за 1 целую минуту или 1 полный мегабайт.\n",
    "- В таблице с интернет сессиями столбец Unnamed:0 дублирует индекс строки каждой записи\n",
    "\n",
    "Исправим вышеуказанные недочеты."
   ]
  },
  {
   "cell_type": "code",
   "execution_count": 15,
   "metadata": {},
   "outputs": [],
   "source": [
    "# применим метод to_datetime\n",
    "df_u['churn_date'] = pd.to_datetime(df_u['churn_date'], format=\"%Y-%m-%d\")\n",
    "df_u['reg_date'] = pd.to_datetime(df_u['reg_date'], format=\"%Y-%m-%d\")\n",
    "df_c['call_date'] = pd.to_datetime(df_c['call_date'], format=\"%Y-%m-%d\")\n",
    "df_m['message_date'] = pd.to_datetime(df_m['message_date'], format=\"%Y-%m-%d\")\n",
    "df_i['session_date'] = pd.to_datetime(df_i['session_date'], format=\"%Y-%m-%d\")\n",
    "\n",
    "# применим метод ceil (для округления вверх - до 1 мин и до 1 МБ) \n",
    "# и astype (для перевода в целочисленный тип)\n",
    "df_c['duration'] = df_c['duration'].apply(np.ceil).astype('int')\n",
    "df_i['mb_used'] = df_i['mb_used'].apply(np.ceil).astype('int')\n",
    "\n",
    "# удалим столбец Unnamed: 0\n",
    "df_i = df_i.drop(columns=['Unnamed: 0'])"
   ]
  },
  {
   "cell_type": "markdown",
   "metadata": {},
   "source": [
    "Обратим внимание, что длительность многих звонков — 0.00 минут. Посмотрим на количество нулевых значений в столбце *duration* таблицы со звонками."
   ]
  },
  {
   "cell_type": "code",
   "execution_count": 16,
   "metadata": {
    "scrolled": true
   },
   "outputs": [
    {
     "data": {
      "text/plain": [
       "0.19551644316336553"
      ]
     },
     "execution_count": 16,
     "metadata": {},
     "output_type": "execute_result"
    }
   ],
   "source": [
    "df_c.query('duration == 0')['duration'].count() / df_c['duration'].count()"
   ]
  },
  {
   "cell_type": "markdown",
   "metadata": {},
   "source": [
    "Как видно, практически пятая часть всех данных о звонках имеет нулевые значения по продолжительности. Скорее всего это пропущенные звонки, так как 1 тарифицируемая секунда, за которую пользователь должен будет заплатить, как за минуту разговора, в масштабе минуты начинается с 0.02 (количество минут в одной секунде). Чтобы сохранить качество данных оставим эти нулевые значения без изменений.\n",
    "\n",
    "Теперь можно заняться обогащением данных, добавив дополнительные расчеты, которые пригодятся при проведении статистического анализа."
   ]
  },
  {
   "cell_type": "markdown",
   "metadata": {},
   "source": [
    "<a href='#top'>Back to top</a>"
   ]
  },
  {
   "cell_type": "markdown",
   "metadata": {},
   "source": [
    "\n",
    ">**_<span style=\"color:green\">Здесь тоже ноль замечаний. Отдельно отмечу твой комплексный подход по предобработке данных. </span>_**\n"
   ]
  },
  {
   "cell_type": "markdown",
   "metadata": {},
   "source": [
    "<a id='section_iii'></a>\n",
    "### III. Добавление рассчетных данных"
   ]
  },
  {
   "cell_type": "markdown",
   "metadata": {},
   "source": [
    "<a id='section_iii_1'></a>\n",
    "<div style=\"border:solid green 2px; padding: 10px\">\n",
    "    <b>Расчет количества сделанных звонков и израсходованных минут разговора по месяцам</b>"
   ]
  },
  {
   "cell_type": "code",
   "execution_count": 17,
   "metadata": {},
   "outputs": [
    {
     "data": {
      "text/html": [
       "<div>\n",
       "<style scoped>\n",
       "    .dataframe tbody tr th:only-of-type {\n",
       "        vertical-align: middle;\n",
       "    }\n",
       "\n",
       "    .dataframe tbody tr th {\n",
       "        vertical-align: top;\n",
       "    }\n",
       "\n",
       "    .dataframe thead th {\n",
       "        text-align: right;\n",
       "    }\n",
       "</style>\n",
       "<table border=\"1\" class=\"dataframe\">\n",
       "  <thead>\n",
       "    <tr style=\"text-align: right;\">\n",
       "      <th></th>\n",
       "      <th>user_id</th>\n",
       "      <th>month</th>\n",
       "      <th>duration_per_month</th>\n",
       "      <th>calls_per_month</th>\n",
       "    </tr>\n",
       "  </thead>\n",
       "  <tbody>\n",
       "    <tr>\n",
       "      <th>0</th>\n",
       "      <td>1000</td>\n",
       "      <td>5</td>\n",
       "      <td>159</td>\n",
       "      <td>22</td>\n",
       "    </tr>\n",
       "    <tr>\n",
       "      <th>1</th>\n",
       "      <td>1000</td>\n",
       "      <td>6</td>\n",
       "      <td>172</td>\n",
       "      <td>43</td>\n",
       "    </tr>\n",
       "    <tr>\n",
       "      <th>2</th>\n",
       "      <td>1000</td>\n",
       "      <td>7</td>\n",
       "      <td>340</td>\n",
       "      <td>47</td>\n",
       "    </tr>\n",
       "  </tbody>\n",
       "</table>\n",
       "</div>"
      ],
      "text/plain": [
       "   user_id  month  duration_per_month  calls_per_month\n",
       "0     1000      5                 159               22\n",
       "1     1000      6                 172               43\n",
       "2     1000      7                 340               47"
      ]
     },
     "execution_count": 17,
     "metadata": {},
     "output_type": "execute_result"
    }
   ],
   "source": [
    "# добавим в таблицу df_c колонку с указанием месяца\n",
    "# так будет проще делать группировку\n",
    "df_c['month'] = df_c['call_date'].dt.month\n",
    "\n",
    "# сгруппируем таблицу по user_id и месяцам\n",
    "# методом agg применим к столбцам duration и id\n",
    "# методы подсчета суммы и количества значений соответственно\n",
    "df_c_monthly = df_c.groupby(['user_id', 'month'])\\\n",
    "                   .agg({'duration': 'sum', 'id': 'count'}).reset_index()\n",
    "\n",
    "# переименуем столбцы duration и id в расчетной таблице df_c_monthly\n",
    "df_c_monthly = df_c_monthly.rename(columns={'duration': 'duration_per_month',\n",
    "                                            'id': 'calls_per_month'})\n",
    "df_c_monthly.head(3)"
   ]
  },
  {
   "cell_type": "markdown",
   "metadata": {},
   "source": [
    "<a id='section_iii_2'></a>\n",
    "<div style=\"border:solid green 2px; padding: 10px\">\n",
    "    <b>Расчет количества отправленных сообщений по месяцам</b>"
   ]
  },
  {
   "cell_type": "code",
   "execution_count": 18,
   "metadata": {},
   "outputs": [
    {
     "data": {
      "text/html": [
       "<div>\n",
       "<style scoped>\n",
       "    .dataframe tbody tr th:only-of-type {\n",
       "        vertical-align: middle;\n",
       "    }\n",
       "\n",
       "    .dataframe tbody tr th {\n",
       "        vertical-align: top;\n",
       "    }\n",
       "\n",
       "    .dataframe thead th {\n",
       "        text-align: right;\n",
       "    }\n",
       "</style>\n",
       "<table border=\"1\" class=\"dataframe\">\n",
       "  <thead>\n",
       "    <tr style=\"text-align: right;\">\n",
       "      <th></th>\n",
       "      <th>user_id</th>\n",
       "      <th>month</th>\n",
       "      <th>messages_per_month</th>\n",
       "    </tr>\n",
       "  </thead>\n",
       "  <tbody>\n",
       "    <tr>\n",
       "      <th>0</th>\n",
       "      <td>1000</td>\n",
       "      <td>5</td>\n",
       "      <td>22</td>\n",
       "    </tr>\n",
       "    <tr>\n",
       "      <th>1</th>\n",
       "      <td>1000</td>\n",
       "      <td>6</td>\n",
       "      <td>60</td>\n",
       "    </tr>\n",
       "    <tr>\n",
       "      <th>2</th>\n",
       "      <td>1000</td>\n",
       "      <td>7</td>\n",
       "      <td>75</td>\n",
       "    </tr>\n",
       "  </tbody>\n",
       "</table>\n",
       "</div>"
      ],
      "text/plain": [
       "   user_id  month  messages_per_month\n",
       "0     1000      5                  22\n",
       "1     1000      6                  60\n",
       "2     1000      7                  75"
      ]
     },
     "execution_count": 18,
     "metadata": {},
     "output_type": "execute_result"
    }
   ],
   "source": [
    "# добавим в таблицу df_m колонку с указанием месяца\n",
    "df_m['month'] = df_m['message_date'].dt.month\n",
    "\n",
    "# сгруппируем таблицу по user_id и месяцам\n",
    "# методом agg применим к столбцу id метод подсчета количества значений\n",
    "df_m_monthly = df_m.groupby(['user_id', 'month'])\\\n",
    "                   .agg({'id': 'count'}).reset_index()\n",
    "\n",
    "# переименуем столбец id в расчетной таблице df_m_monthly\n",
    "df_m_monthly = df_m_monthly.rename(columns={'id': 'messages_per_month'})\n",
    "df_m_monthly.head(3)"
   ]
  },
  {
   "cell_type": "markdown",
   "metadata": {},
   "source": [
    "<a id='section_iii_3'></a>\n",
    "<div style=\"border:solid green 2px; padding: 10px\">\n",
    "    <b>Расчет объема израсходованного интернет-трафика по месяцам</b>"
   ]
  },
  {
   "cell_type": "code",
   "execution_count": 19,
   "metadata": {},
   "outputs": [
    {
     "data": {
      "text/html": [
       "<div>\n",
       "<style scoped>\n",
       "    .dataframe tbody tr th:only-of-type {\n",
       "        vertical-align: middle;\n",
       "    }\n",
       "\n",
       "    .dataframe tbody tr th {\n",
       "        vertical-align: top;\n",
       "    }\n",
       "\n",
       "    .dataframe thead th {\n",
       "        text-align: right;\n",
       "    }\n",
       "</style>\n",
       "<table border=\"1\" class=\"dataframe\">\n",
       "  <thead>\n",
       "    <tr style=\"text-align: right;\">\n",
       "      <th></th>\n",
       "      <th>user_id</th>\n",
       "      <th>month</th>\n",
       "      <th>mb_used_per_month</th>\n",
       "      <th>sessions_per_month</th>\n",
       "    </tr>\n",
       "  </thead>\n",
       "  <tbody>\n",
       "    <tr>\n",
       "      <th>0</th>\n",
       "      <td>1000</td>\n",
       "      <td>5</td>\n",
       "      <td>2256</td>\n",
       "      <td>5</td>\n",
       "    </tr>\n",
       "    <tr>\n",
       "      <th>1</th>\n",
       "      <td>1000</td>\n",
       "      <td>6</td>\n",
       "      <td>23257</td>\n",
       "      <td>49</td>\n",
       "    </tr>\n",
       "    <tr>\n",
       "      <th>2</th>\n",
       "      <td>1000</td>\n",
       "      <td>7</td>\n",
       "      <td>14016</td>\n",
       "      <td>29</td>\n",
       "    </tr>\n",
       "  </tbody>\n",
       "</table>\n",
       "</div>"
      ],
      "text/plain": [
       "   user_id  month  mb_used_per_month  sessions_per_month\n",
       "0     1000      5               2256                   5\n",
       "1     1000      6              23257                  49\n",
       "2     1000      7              14016                  29"
      ]
     },
     "execution_count": 19,
     "metadata": {},
     "output_type": "execute_result"
    }
   ],
   "source": [
    "# добавим в таблицу df_i колонку с указанием месяца\n",
    "df_i['month'] = df_i['session_date'].dt.month\n",
    "\n",
    "# сгруппируем таблицу по user_id и месяцам\n",
    "# методом agg применим к столбцам mb_used и id метод подсчета количества значений\n",
    "df_i_monthly = df_i.groupby(['user_id', 'month'])\\\n",
    "                   .agg({'mb_used': 'sum', 'id': 'count'}).reset_index()\n",
    "\n",
    "# переименуем столбцы duration и id в расчетной таблице df_i_monthly\n",
    "df_i_monthly = df_i_monthly.rename(columns={'mb_used': 'mb_used_per_month',\n",
    "                                            'id': 'sessions_per_month'})\n",
    "\n",
    "df_i_monthly.head(3)"
   ]
  },
  {
   "cell_type": "markdown",
   "metadata": {},
   "source": [
    "<a id='section_iii_4'></a>\n",
    "<div style=\"border:solid green 2px; padding: 10px\">\n",
    "    <b>Расчет помесячной выручки с каждого пользователя </b>"
   ]
  },
  {
   "cell_type": "markdown",
   "metadata": {},
   "source": [
    "Для расчета помесячной выручки сперва объединим сгруппированные таблицы (по звонкам, сообщениям и интернету)."
   ]
  },
  {
   "cell_type": "code",
   "execution_count": 20,
   "metadata": {
    "scrolled": true
   },
   "outputs": [
    {
     "data": {
      "text/html": [
       "<div>\n",
       "<style scoped>\n",
       "    .dataframe tbody tr th:only-of-type {\n",
       "        vertical-align: middle;\n",
       "    }\n",
       "\n",
       "    .dataframe tbody tr th {\n",
       "        vertical-align: top;\n",
       "    }\n",
       "\n",
       "    .dataframe thead th {\n",
       "        text-align: right;\n",
       "    }\n",
       "</style>\n",
       "<table border=\"1\" class=\"dataframe\">\n",
       "  <thead>\n",
       "    <tr style=\"text-align: right;\">\n",
       "      <th></th>\n",
       "      <th>user_id</th>\n",
       "      <th>month</th>\n",
       "      <th>duration_per_month</th>\n",
       "      <th>calls_per_month</th>\n",
       "      <th>messages_per_month</th>\n",
       "      <th>mb_used_per_month</th>\n",
       "      <th>sessions_per_month</th>\n",
       "    </tr>\n",
       "  </thead>\n",
       "  <tbody>\n",
       "    <tr>\n",
       "      <th>0</th>\n",
       "      <td>1000</td>\n",
       "      <td>5</td>\n",
       "      <td>159.0</td>\n",
       "      <td>22.0</td>\n",
       "      <td>22.0</td>\n",
       "      <td>2256.0</td>\n",
       "      <td>5.0</td>\n",
       "    </tr>\n",
       "    <tr>\n",
       "      <th>1</th>\n",
       "      <td>1000</td>\n",
       "      <td>6</td>\n",
       "      <td>172.0</td>\n",
       "      <td>43.0</td>\n",
       "      <td>60.0</td>\n",
       "      <td>23257.0</td>\n",
       "      <td>49.0</td>\n",
       "    </tr>\n",
       "    <tr>\n",
       "      <th>2</th>\n",
       "      <td>1000</td>\n",
       "      <td>7</td>\n",
       "      <td>340.0</td>\n",
       "      <td>47.0</td>\n",
       "      <td>75.0</td>\n",
       "      <td>14016.0</td>\n",
       "      <td>29.0</td>\n",
       "    </tr>\n",
       "  </tbody>\n",
       "</table>\n",
       "</div>"
      ],
      "text/plain": [
       "   user_id  month  duration_per_month  calls_per_month  messages_per_month  \\\n",
       "0     1000      5               159.0             22.0                22.0   \n",
       "1     1000      6               172.0             43.0                60.0   \n",
       "2     1000      7               340.0             47.0                75.0   \n",
       "\n",
       "   mb_used_per_month  sessions_per_month  \n",
       "0             2256.0                 5.0  \n",
       "1            23257.0                49.0  \n",
       "2            14016.0                29.0  "
      ]
     },
     "execution_count": 20,
     "metadata": {},
     "output_type": "execute_result"
    }
   ],
   "source": [
    "# объединим таблицы со сгруппированными звонками и сообщениями\n",
    "df = df_c_monthly.merge(df_m_monthly, on=['user_id','month'], how='outer')\n",
    "\n",
    "# объединим получившуюся таблицу с таблицей со сгруппированным интернетом\n",
    "df = df.merge(df_i_monthly, on=['user_id','month'], how='outer')\n",
    "\n",
    "df.head(3)"
   ]
  },
  {
   "cell_type": "markdown",
   "metadata": {},
   "source": [
    "Теперь добавим пользователей и условия тарифа."
   ]
  },
  {
   "cell_type": "code",
   "execution_count": 21,
   "metadata": {
    "scrolled": false
   },
   "outputs": [
    {
     "data": {
      "text/html": [
       "<div>\n",
       "<style scoped>\n",
       "    .dataframe tbody tr th:only-of-type {\n",
       "        vertical-align: middle;\n",
       "    }\n",
       "\n",
       "    .dataframe tbody tr th {\n",
       "        vertical-align: top;\n",
       "    }\n",
       "\n",
       "    .dataframe thead th {\n",
       "        text-align: right;\n",
       "    }\n",
       "</style>\n",
       "<table border=\"1\" class=\"dataframe\">\n",
       "  <thead>\n",
       "    <tr style=\"text-align: right;\">\n",
       "      <th></th>\n",
       "      <th>user_id</th>\n",
       "      <th>month</th>\n",
       "      <th>duration_per_month</th>\n",
       "      <th>calls_per_month</th>\n",
       "      <th>messages_per_month</th>\n",
       "      <th>mb_used_per_month</th>\n",
       "      <th>sessions_per_month</th>\n",
       "      <th>age</th>\n",
       "      <th>churn_date</th>\n",
       "      <th>city</th>\n",
       "      <th>...</th>\n",
       "      <th>last_name</th>\n",
       "      <th>reg_date</th>\n",
       "      <th>tariff_name</th>\n",
       "      <th>messages_included</th>\n",
       "      <th>mb_per_month_included</th>\n",
       "      <th>minutes_included</th>\n",
       "      <th>rub_monthly_fee</th>\n",
       "      <th>rub_per_gb</th>\n",
       "      <th>rub_per_message</th>\n",
       "      <th>rub_per_minute</th>\n",
       "    </tr>\n",
       "  </thead>\n",
       "  <tbody>\n",
       "    <tr>\n",
       "      <th>0</th>\n",
       "      <td>1000</td>\n",
       "      <td>5</td>\n",
       "      <td>159.0</td>\n",
       "      <td>22.0</td>\n",
       "      <td>22.0</td>\n",
       "      <td>2256.0</td>\n",
       "      <td>5.0</td>\n",
       "      <td>52</td>\n",
       "      <td>NaT</td>\n",
       "      <td>Краснодар</td>\n",
       "      <td>...</td>\n",
       "      <td>Верещагин</td>\n",
       "      <td>2018-05-25</td>\n",
       "      <td>ultra</td>\n",
       "      <td>1000</td>\n",
       "      <td>30720</td>\n",
       "      <td>3000</td>\n",
       "      <td>1950</td>\n",
       "      <td>150</td>\n",
       "      <td>1</td>\n",
       "      <td>1</td>\n",
       "    </tr>\n",
       "    <tr>\n",
       "      <th>1</th>\n",
       "      <td>1000</td>\n",
       "      <td>6</td>\n",
       "      <td>172.0</td>\n",
       "      <td>43.0</td>\n",
       "      <td>60.0</td>\n",
       "      <td>23257.0</td>\n",
       "      <td>49.0</td>\n",
       "      <td>52</td>\n",
       "      <td>NaT</td>\n",
       "      <td>Краснодар</td>\n",
       "      <td>...</td>\n",
       "      <td>Верещагин</td>\n",
       "      <td>2018-05-25</td>\n",
       "      <td>ultra</td>\n",
       "      <td>1000</td>\n",
       "      <td>30720</td>\n",
       "      <td>3000</td>\n",
       "      <td>1950</td>\n",
       "      <td>150</td>\n",
       "      <td>1</td>\n",
       "      <td>1</td>\n",
       "    </tr>\n",
       "    <tr>\n",
       "      <th>2</th>\n",
       "      <td>1000</td>\n",
       "      <td>7</td>\n",
       "      <td>340.0</td>\n",
       "      <td>47.0</td>\n",
       "      <td>75.0</td>\n",
       "      <td>14016.0</td>\n",
       "      <td>29.0</td>\n",
       "      <td>52</td>\n",
       "      <td>NaT</td>\n",
       "      <td>Краснодар</td>\n",
       "      <td>...</td>\n",
       "      <td>Верещагин</td>\n",
       "      <td>2018-05-25</td>\n",
       "      <td>ultra</td>\n",
       "      <td>1000</td>\n",
       "      <td>30720</td>\n",
       "      <td>3000</td>\n",
       "      <td>1950</td>\n",
       "      <td>150</td>\n",
       "      <td>1</td>\n",
       "      <td>1</td>\n",
       "    </tr>\n",
       "  </tbody>\n",
       "</table>\n",
       "<p>3 rows × 21 columns</p>\n",
       "</div>"
      ],
      "text/plain": [
       "   user_id  month  duration_per_month  calls_per_month  messages_per_month  \\\n",
       "0     1000      5               159.0             22.0                22.0   \n",
       "1     1000      6               172.0             43.0                60.0   \n",
       "2     1000      7               340.0             47.0                75.0   \n",
       "\n",
       "   mb_used_per_month  sessions_per_month  age churn_date       city  ...  \\\n",
       "0             2256.0                 5.0   52        NaT  Краснодар  ...   \n",
       "1            23257.0                49.0   52        NaT  Краснодар  ...   \n",
       "2            14016.0                29.0   52        NaT  Краснодар  ...   \n",
       "\n",
       "   last_name   reg_date tariff_name messages_included  mb_per_month_included  \\\n",
       "0  Верещагин 2018-05-25       ultra              1000                  30720   \n",
       "1  Верещагин 2018-05-25       ultra              1000                  30720   \n",
       "2  Верещагин 2018-05-25       ultra              1000                  30720   \n",
       "\n",
       "   minutes_included  rub_monthly_fee  rub_per_gb  rub_per_message  \\\n",
       "0              3000             1950         150                1   \n",
       "1              3000             1950         150                1   \n",
       "2              3000             1950         150                1   \n",
       "\n",
       "   rub_per_minute  \n",
       "0               1  \n",
       "1               1  \n",
       "2               1  \n",
       "\n",
       "[3 rows x 21 columns]"
      ]
     },
     "execution_count": 21,
     "metadata": {},
     "output_type": "execute_result"
    }
   ],
   "source": [
    "# добавим в сводную таблицу данные таблицы df_u\n",
    "df = df.merge(df_u, on='user_id', how='left')\n",
    "\n",
    "# перед объединением таблиц df и df_t\n",
    "# переименуем столбец tariff в tariff_name\n",
    "df = df.rename(columns={'tariff': 'tariff_name'})\n",
    "\n",
    "#объединим таблицы\n",
    "df = df.merge(df_t, on='tariff_name', how='left')\n",
    "\n",
    "df.head(3)"
   ]
  },
  {
   "cell_type": "code",
   "execution_count": 22,
   "metadata": {
    "scrolled": false
   },
   "outputs": [
    {
     "data": {
      "text/plain": [
       "user_id                     0\n",
       "month                       0\n",
       "duration_per_month         40\n",
       "calls_per_month            40\n",
       "messages_per_month        497\n",
       "mb_used_per_month          11\n",
       "sessions_per_month         11\n",
       "age                         0\n",
       "churn_date               3027\n",
       "city                        0\n",
       "first_name                  0\n",
       "last_name                   0\n",
       "reg_date                    0\n",
       "tariff_name                 0\n",
       "messages_included           0\n",
       "mb_per_month_included       0\n",
       "minutes_included            0\n",
       "rub_monthly_fee             0\n",
       "rub_per_gb                  0\n",
       "rub_per_message             0\n",
       "rub_per_minute              0\n",
       "dtype: int64"
      ]
     },
     "execution_count": 22,
     "metadata": {},
     "output_type": "execute_result"
    }
   ],
   "source": [
    "# посмотрим на пропуски\n",
    "df.isna().sum()"
   ]
  },
  {
   "cell_type": "code",
   "execution_count": 23,
   "metadata": {},
   "outputs": [
    {
     "data": {
      "text/plain": [
       "user_id                     0\n",
       "month                       0\n",
       "duration_per_month          0\n",
       "calls_per_month             0\n",
       "messages_per_month          0\n",
       "mb_used_per_month           0\n",
       "sessions_per_month          0\n",
       "age                         0\n",
       "churn_date               3027\n",
       "city                        0\n",
       "first_name                  0\n",
       "last_name                   0\n",
       "reg_date                    0\n",
       "tariff_name                 0\n",
       "messages_included           0\n",
       "mb_per_month_included       0\n",
       "minutes_included            0\n",
       "rub_monthly_fee             0\n",
       "rub_per_gb                  0\n",
       "rub_per_message             0\n",
       "rub_per_minute              0\n",
       "dtype: int64"
      ]
     },
     "execution_count": 23,
     "metadata": {},
     "output_type": "execute_result"
    }
   ],
   "source": [
    "# Очевидно пропуски эквивалентны отстутсвию активности пользователей,\n",
    "# а не потерей данных. Заменим пропущенные значения на 0\n",
    "# Пропуски в датах прекращения пользованием тарифом не повлияют на анализ\n",
    "df['duration_per_month'] = df['duration_per_month'].fillna(0)\n",
    "df['calls_per_month'] = df['calls_per_month'].fillna(0)\n",
    "df['messages_per_month'] = df['messages_per_month'].fillna(0)\n",
    "df['mb_used_per_month'] = df['mb_used_per_month'].fillna(0)\n",
    "df['sessions_per_month'] = df['sessions_per_month'].fillna(0)\n",
    "\n",
    "df.isna().sum()"
   ]
  },
  {
   "cell_type": "markdown",
   "metadata": {},
   "source": [
    "\n",
    ">**_<span style=\"color:green\">По агрегации данных и объединению таблиц у тебя полный порядок. Молодец что используешь метод `outer` при объединении таблиц по звонкам, сообщениям и трафике. Это позволило тебе учесть всех пользователей, даже если они не пользовались какой-либо из услуг в рамках одного месяца. Напрмер, пользователь может пользоваться планшетом - не совершать звонки, но при этом активно использовать интернет и т.д. </span>_**\n"
   ]
  },
  {
   "cell_type": "markdown",
   "metadata": {},
   "source": [
    "Сводная таблица готова. Далее добавим в таблицу помесячную выручку с каждого пользователя."
   ]
  },
  {
   "cell_type": "code",
   "execution_count": 24,
   "metadata": {
    "scrolled": true
   },
   "outputs": [
    {
     "data": {
      "text/html": [
       "<div>\n",
       "<style scoped>\n",
       "    .dataframe tbody tr th:only-of-type {\n",
       "        vertical-align: middle;\n",
       "    }\n",
       "\n",
       "    .dataframe tbody tr th {\n",
       "        vertical-align: top;\n",
       "    }\n",
       "\n",
       "    .dataframe thead th {\n",
       "        text-align: right;\n",
       "    }\n",
       "</style>\n",
       "<table border=\"1\" class=\"dataframe\">\n",
       "  <thead>\n",
       "    <tr style=\"text-align: right;\">\n",
       "      <th></th>\n",
       "      <th>user_id</th>\n",
       "      <th>month</th>\n",
       "      <th>duration_per_month</th>\n",
       "      <th>calls_per_month</th>\n",
       "      <th>messages_per_month</th>\n",
       "      <th>mb_used_per_month</th>\n",
       "      <th>sessions_per_month</th>\n",
       "      <th>age</th>\n",
       "      <th>churn_date</th>\n",
       "      <th>city</th>\n",
       "      <th>...</th>\n",
       "      <th>reg_date</th>\n",
       "      <th>tariff_name</th>\n",
       "      <th>messages_included</th>\n",
       "      <th>mb_per_month_included</th>\n",
       "      <th>minutes_included</th>\n",
       "      <th>rub_monthly_fee</th>\n",
       "      <th>rub_per_gb</th>\n",
       "      <th>rub_per_message</th>\n",
       "      <th>rub_per_minute</th>\n",
       "      <th>revenue_per_month</th>\n",
       "    </tr>\n",
       "  </thead>\n",
       "  <tbody>\n",
       "    <tr>\n",
       "      <th>3106</th>\n",
       "      <td>1486</td>\n",
       "      <td>12</td>\n",
       "      <td>1007.0</td>\n",
       "      <td>133.0</td>\n",
       "      <td>83.0</td>\n",
       "      <td>38610.0</td>\n",
       "      <td>118.0</td>\n",
       "      <td>35</td>\n",
       "      <td>NaT</td>\n",
       "      <td>Нижний Новгород</td>\n",
       "      <td>...</td>\n",
       "      <td>2018-10-31</td>\n",
       "      <td>smart</td>\n",
       "      <td>50</td>\n",
       "      <td>15360</td>\n",
       "      <td>500</td>\n",
       "      <td>550</td>\n",
       "      <td>200</td>\n",
       "      <td>3</td>\n",
       "      <td>3</td>\n",
       "      <td>6820.0</td>\n",
       "    </tr>\n",
       "    <tr>\n",
       "      <th>1622</th>\n",
       "      <td>1261</td>\n",
       "      <td>12</td>\n",
       "      <td>1074.0</td>\n",
       "      <td>141.0</td>\n",
       "      <td>22.0</td>\n",
       "      <td>32697.0</td>\n",
       "      <td>114.0</td>\n",
       "      <td>46</td>\n",
       "      <td>NaT</td>\n",
       "      <td>Казань</td>\n",
       "      <td>...</td>\n",
       "      <td>2018-10-30</td>\n",
       "      <td>smart</td>\n",
       "      <td>50</td>\n",
       "      <td>15360</td>\n",
       "      <td>500</td>\n",
       "      <td>550</td>\n",
       "      <td>200</td>\n",
       "      <td>3</td>\n",
       "      <td>3</td>\n",
       "      <td>5739.4</td>\n",
       "    </tr>\n",
       "    <tr>\n",
       "      <th>260</th>\n",
       "      <td>1042</td>\n",
       "      <td>12</td>\n",
       "      <td>728.0</td>\n",
       "      <td>121.0</td>\n",
       "      <td>75.0</td>\n",
       "      <td>37219.0</td>\n",
       "      <td>112.0</td>\n",
       "      <td>42</td>\n",
       "      <td>NaT</td>\n",
       "      <td>Хабаровск</td>\n",
       "      <td>...</td>\n",
       "      <td>2018-11-25</td>\n",
       "      <td>smart</td>\n",
       "      <td>50</td>\n",
       "      <td>15360</td>\n",
       "      <td>500</td>\n",
       "      <td>550</td>\n",
       "      <td>200</td>\n",
       "      <td>3</td>\n",
       "      <td>3</td>\n",
       "      <td>5680.8</td>\n",
       "    </tr>\n",
       "  </tbody>\n",
       "</table>\n",
       "<p>3 rows × 22 columns</p>\n",
       "</div>"
      ],
      "text/plain": [
       "      user_id  month  duration_per_month  calls_per_month  messages_per_month  \\\n",
       "3106     1486     12              1007.0            133.0                83.0   \n",
       "1622     1261     12              1074.0            141.0                22.0   \n",
       "260      1042     12               728.0            121.0                75.0   \n",
       "\n",
       "      mb_used_per_month  sessions_per_month  age churn_date             city  \\\n",
       "3106            38610.0               118.0   35        NaT  Нижний Новгород   \n",
       "1622            32697.0               114.0   46        NaT           Казань   \n",
       "260             37219.0               112.0   42        NaT        Хабаровск   \n",
       "\n",
       "      ...   reg_date tariff_name messages_included mb_per_month_included  \\\n",
       "3106  ... 2018-10-31       smart                50                 15360   \n",
       "1622  ... 2018-10-30       smart                50                 15360   \n",
       "260   ... 2018-11-25       smart                50                 15360   \n",
       "\n",
       "      minutes_included  rub_monthly_fee  rub_per_gb  rub_per_message  \\\n",
       "3106               500              550         200                3   \n",
       "1622               500              550         200                3   \n",
       "260                500              550         200                3   \n",
       "\n",
       "      rub_per_minute  revenue_per_month  \n",
       "3106               3             6820.0  \n",
       "1622               3             5739.4  \n",
       "260                3             5680.8  \n",
       "\n",
       "[3 rows x 22 columns]"
      ]
     },
     "execution_count": 24,
     "metadata": {},
     "output_type": "execute_result"
    }
   ],
   "source": [
    "# вычтем бесплатный лимит из суммарного количества звонков, сообщений и интернет-трафика\n",
    "# остатки умножим на значения стоимости из тарифного плана\n",
    "def above_tariff(row):\n",
    "    internet = (row['mb_used_per_month'] - row['mb_per_month_included']) * row['rub_per_gb'] / 1000\n",
    "    messages = (row['messages_per_month'] - row['messages_included']) * row['rub_per_message']\n",
    "    calls = (row['duration_per_month'] - row['minutes_included']) * row['rub_per_minute']\n",
    "    total = 0\n",
    "    for i in [internet, messages, calls]:\n",
    "        if i > 0:\n",
    "            total += i\n",
    "    return total\n",
    "\n",
    "# прибавим абонентскую плату, соответствующую тарифному плану\n",
    "df['revenue_per_month'] = df.apply(lambda x: above_tariff(x), axis=1) + df['rub_monthly_fee']\n",
    "\n",
    "# посмотрим топ-3 пользователей по переплате\n",
    "df.sort_values(by='revenue_per_month', ascending = False).head(3)"
   ]
  },
  {
   "cell_type": "markdown",
   "metadata": {},
   "source": [
    "### Вывод\n",
    "На первый взгляд тарифы достаточно выгодные для пользователей, однако находятся клиенты, которые платят в 10 раз больше за услуги связи. Перейдем к анализу."
   ]
  },
  {
   "cell_type": "markdown",
   "metadata": {},
   "source": [
    "<a href='#top'>Back to top</a>"
   ]
  },
  {
   "cell_type": "markdown",
   "metadata": {},
   "source": [
    "\n",
    ">**_<span style=\"color:green\">Красивое решение с функцией строк для подсчёта выручки. Так держать! :) </span>_**\n",
    ">\n",
    ">**_<span style=\"color:red\">~~Маленькая неточность: ты делишь мегабайты на 1000, а надо было на 1024.~~ </span>_**\n",
    ">\n",
    ">**_<span style=\"color:blue\">А вот я тоже так думал, ан нет)) Для людей гигабайты сделали кратными 1000, а вот ИТ-экспертам с их 1024 в 1998 году придумали новое слово - Гибибайт. Теперь надо с этим как-то жить =)</span>_**\n",
    ">\n",
    ">>**_<span style=\"color:green\">Update: Да, мне это известно, но в данном моменте я больше опираюсь на условия задания и общепринятую практику.</span>_**"
   ]
  },
  {
   "cell_type": "markdown",
   "metadata": {},
   "source": [
    "<a id='section_iv'></a>\n",
    "### IV. Статистический анализ данных\n",
    "Посмотрим на общую картину распределения пользователей тарифов услуг связи."
   ]
  },
  {
   "cell_type": "code",
   "execution_count": 25,
   "metadata": {},
   "outputs": [
    {
     "data": {
      "text/plain": [
       "smart    2229\n",
       "ultra     985\n",
       "Name: tariff_name, dtype: int64"
      ]
     },
     "execution_count": 25,
     "metadata": {},
     "output_type": "execute_result"
    }
   ],
   "source": [
    "df['tariff_name'].value_counts()"
   ]
  },
  {
   "cell_type": "code",
   "execution_count": 26,
   "metadata": {
    "scrolled": true
   },
   "outputs": [
    {
     "data": {
      "text/plain": [
       "count    2229.000000\n",
       "mean     1246.336653\n",
       "std       803.671482\n",
       "min       550.000000\n",
       "25%       550.000000\n",
       "50%       967.200000\n",
       "75%      1686.400000\n",
       "max      6820.000000\n",
       "Name: revenue_per_month, dtype: float64"
      ]
     },
     "execution_count": 26,
     "metadata": {},
     "output_type": "execute_result"
    }
   ],
   "source": [
    "df.query('tariff_name == \"smart\"')['revenue_per_month'].describe()"
   ]
  },
  {
   "cell_type": "code",
   "execution_count": 27,
   "metadata": {},
   "outputs": [
    {
     "data": {
      "text/plain": [
       "count     985.000000\n",
       "mean     2063.182690\n",
       "std       364.856367\n",
       "min      1950.000000\n",
       "25%      1950.000000\n",
       "50%      1950.000000\n",
       "75%      1950.000000\n",
       "max      4810.350000\n",
       "Name: revenue_per_month, dtype: float64"
      ]
     },
     "execution_count": 27,
     "metadata": {},
     "output_type": "execute_result"
    }
   ],
   "source": [
    "df.query('tariff_name == \"ultra\"')['revenue_per_month'].describe()"
   ]
  },
  {
   "cell_type": "code",
   "execution_count": 28,
   "metadata": {
    "scrolled": false
   },
   "outputs": [
    {
     "data": {
      "text/plain": [
       "Text(0.5, 0.98, 'Tariff Comparison')"
      ]
     },
     "execution_count": 28,
     "metadata": {},
     "output_type": "execute_result"
    },
    {
     "data": {
      "image/png": "[encoded data removed]",
      "text/plain": [
       "<Figure size 720x360 with 2 Axes>"
      ]
     },
     "metadata": {
      "needs_background": "light"
     },
     "output_type": "display_data"
    }
   ],
   "source": [
    "fig, ax = plt.subplots(1, 2, figsize=(10, 5), sharey=True)\n",
    "\n",
    "ax[0].boxplot(df.query('tariff_name == \"smart\"')['revenue_per_month'], 0, 'gD')\n",
    "ax[1].boxplot(df.query('tariff_name == \"ultra\"')['revenue_per_month'], 0, 'gD')\n",
    "\n",
    "ax[0].set_xlabel(\"Tariff Smart\")\n",
    "ax[1].set_xlabel(\"Tariff Ultra\")\n",
    "ax[0].set_ylabel(\"Revenue per capita (RUB/month)\")\n",
    "\n",
    "ax[0].grid()\n",
    "ax[1].grid()\n",
    "\n",
    "fig.suptitle(\"Tariff Comparison\")"
   ]
  },
  {
   "cell_type": "markdown",
   "metadata": {},
   "source": [
    "Как видно из таблицы и диаграмм разброса пользователи услуг ведут себя по-разному:\n",
    "* Пользователи тарифа *Смарт* приносят компании прибыли больше размера установленной абонентской платы в 550 рублей. Медианное значение находится на уровне 967 рублей в месяц, а значит большинство пользователей стабильно переплачивает за тариф.\n",
    "* Большинство пользователей тарифа *Ультра*, напротив, редко приносят дополнительную выручку компании, оставаясь в рамках абонентской платы в 1950 рублей.\n",
    "\n",
    "Рассмотрим более детально сколько минут разговора, сколько сообщений и какой объём интернет-трафика требуется пользователям каждого тарифа в месяц. Посчитаем среднее количество, дисперсию и стандартное отклонение."
   ]
  },
  {
   "cell_type": "code",
   "execution_count": 29,
   "metadata": {},
   "outputs": [
    {
     "data": {
      "text/html": [
       "<style  type=\"text/css\" >\n",
       "</style><table id=\"T_8751417a_21ed_11eb_996c_cc308039ab28\" ><thead>    <tr>        <th class=\"blank level0\" ></th>        <th class=\"col_heading level0 col0\" colspan=3>duration_per_month</th>        <th class=\"col_heading level0 col3\" colspan=3>messages_per_month</th>        <th class=\"col_heading level0 col6\" colspan=3>mb_used_per_month</th>    </tr>    <tr>        <th class=\"blank level1\" ></th>        <th class=\"col_heading level1 col0\" >mean</th>        <th class=\"col_heading level1 col1\" >var</th>        <th class=\"col_heading level1 col2\" >std</th>        <th class=\"col_heading level1 col3\" >mean</th>        <th class=\"col_heading level1 col4\" >var</th>        <th class=\"col_heading level1 col5\" >std</th>        <th class=\"col_heading level1 col6\" >mean</th>        <th class=\"col_heading level1 col7\" >var</th>        <th class=\"col_heading level1 col8\" >std</th>    </tr>    <tr>        <th class=\"index_name level0\" >tariff_name</th>        <th class=\"blank\" ></th>        <th class=\"blank\" ></th>        <th class=\"blank\" ></th>        <th class=\"blank\" ></th>        <th class=\"blank\" ></th>        <th class=\"blank\" ></th>        <th class=\"blank\" ></th>        <th class=\"blank\" ></th>        <th class=\"blank\" ></th>    </tr></thead><tbody>\n",
       "                <tr>\n",
       "                        <th id=\"T_8751417a_21ed_11eb_996c_cc308039ab28level0_row0\" class=\"row_heading level0 row0\" >smart</th>\n",
       "                        <td id=\"T_8751417a_21ed_11eb_996c_cc308039ab28row0_col0\" class=\"data row0 col0\" >418</td>\n",
       "                        <td id=\"T_8751417a_21ed_11eb_996c_cc308039ab28row0_col1\" class=\"data row0 col1\" >36219</td>\n",
       "                        <td id=\"T_8751417a_21ed_11eb_996c_cc308039ab28row0_col2\" class=\"data row0 col2\" >190</td>\n",
       "                        <td id=\"T_8751417a_21ed_11eb_996c_cc308039ab28row0_col3\" class=\"data row0 col3\" >33</td>\n",
       "                        <td id=\"T_8751417a_21ed_11eb_996c_cc308039ab28row0_col4\" class=\"data row0 col4\" >797</td>\n",
       "                        <td id=\"T_8751417a_21ed_11eb_996c_cc308039ab28row0_col5\" class=\"data row0 col5\" >28</td>\n",
       "                        <td id=\"T_8751417a_21ed_11eb_996c_cc308039ab28row0_col6\" class=\"data row0 col6\" >16229</td>\n",
       "                        <td id=\"T_8751417a_21ed_11eb_996c_cc308039ab28row0_col7\" class=\"data row0 col7\" >34545911</td>\n",
       "                        <td id=\"T_8751417a_21ed_11eb_996c_cc308039ab28row0_col8\" class=\"data row0 col8\" >5878</td>\n",
       "            </tr>\n",
       "            <tr>\n",
       "                        <th id=\"T_8751417a_21ed_11eb_996c_cc308039ab28level0_row1\" class=\"row_heading level0 row1\" >ultra</th>\n",
       "                        <td id=\"T_8751417a_21ed_11eb_996c_cc308039ab28row1_col0\" class=\"data row1 col0\" >527</td>\n",
       "                        <td id=\"T_8751417a_21ed_11eb_996c_cc308039ab28row1_col1\" class=\"data row1 col1\" >100874</td>\n",
       "                        <td id=\"T_8751417a_21ed_11eb_996c_cc308039ab28row1_col2\" class=\"data row1 col2\" >318</td>\n",
       "                        <td id=\"T_8751417a_21ed_11eb_996c_cc308039ab28row1_col3\" class=\"data row1 col3\" >49</td>\n",
       "                        <td id=\"T_8751417a_21ed_11eb_996c_cc308039ab28row1_col4\" class=\"data row1 col4\" >2285</td>\n",
       "                        <td id=\"T_8751417a_21ed_11eb_996c_cc308039ab28row1_col5\" class=\"data row1 col5\" >48</td>\n",
       "                        <td id=\"T_8751417a_21ed_11eb_996c_cc308039ab28row1_col6\" class=\"data row1 col6\" >19487</td>\n",
       "                        <td id=\"T_8751417a_21ed_11eb_996c_cc308039ab28row1_col7\" class=\"data row1 col7\" >101935621</td>\n",
       "                        <td id=\"T_8751417a_21ed_11eb_996c_cc308039ab28row1_col8\" class=\"data row1 col8\" >10096</td>\n",
       "            </tr>\n",
       "    </tbody></table>"
      ],
      "text/plain": [
       "<pandas.io.formats.style.Styler at 0x24ccd8e5c10>"
      ]
     },
     "execution_count": 29,
     "metadata": {},
     "output_type": "execute_result"
    }
   ],
   "source": [
    "df.groupby('tariff_name')\\\n",
    "  .agg({'duration_per_month':['mean','var','std'],\\\n",
    "        'messages_per_month':['mean','var','std'],\\\n",
    "        'mb_used_per_month':['mean','var','std']})\\\n",
    "        .style.format(\"{:.0f}\")"
   ]
  },
  {
   "cell_type": "markdown",
   "metadata": {},
   "source": [
    "Построим гистограммы"
   ]
  },
  {
   "cell_type": "code",
   "execution_count": 30,
   "metadata": {
    "scrolled": false
   },
   "outputs": [
    {
     "data": {
      "text/plain": [
       "Text(0.5, 0.98, 'General Tariff Usage')"
      ]
     },
     "execution_count": 30,
     "metadata": {},
     "output_type": "execute_result"
    },
    {
     "data": {
      "image/png": "[encoded data removed]",
      "text/plain": [
       "<Figure size 1008x360 with 6 Axes>"
      ]
     },
     "metadata": {
      "needs_background": "light"
     },
     "output_type": "display_data"
    }
   ],
   "source": [
    "fig, ((axs_1, axs_2, axs_3), (axu_1, axu_2, axu_3)) = plt.subplots(nrows=2, ncols=3, figsize=(14, 5))\n",
    "\n",
    "axs_1.hist(df[df['tariff_name'] == 'smart']['duration_per_month'], bins=30, range=(0, 1000), color='maroon', ec='grey', label='Smart')\n",
    "axs_2.hist(df[df['tariff_name'] == 'smart']['messages_per_month'], bins=30, range=(0, 200), color='crimson', ec='grey', label='Smart')\n",
    "axs_3.hist(df[df['tariff_name'] == 'smart']['mb_used_per_month'], bins=30, range=(0, 50000), color='red', ec='grey', label='Smart')\n",
    "axu_1.hist(df[df['tariff_name'] == 'ultra']['duration_per_month'], bins=30, range=(0, 1000), color='navy', ec='grey', label='Ultra')\n",
    "axu_2.hist(df[df['tariff_name'] == 'ultra']['messages_per_month'], bins=30, range=(0, 200), color='royalblue', ec='grey', label='Ultra')\n",
    "axu_3.hist(df[df['tariff_name'] == 'ultra']['mb_used_per_month'], bins=30, range=(0, 50000), color='blue', ec='grey', label='Ultra')\n",
    "\n",
    "axs_1.legend(loc='upper right')\n",
    "axs_2.legend(loc='upper right')\n",
    "axs_3.legend(loc='upper right')\n",
    "axu_1.legend(loc='upper right')\n",
    "axu_2.legend(loc='upper right')\n",
    "axu_3.legend(loc='upper right')\n",
    "\n",
    "axu_1.set_xlabel(\"Calls (min/month)\")\n",
    "axu_2.set_xlabel(\"Messages (qty/month)\")\n",
    "axu_3.set_xlabel(\"Internet (MB/month)\")\n",
    "axs_1.set_ylabel(\"Quantity\")\n",
    "axu_1.set_ylabel(\"Quantity\")\n",
    "\n",
    "fig.suptitle(\"General Tariff Usage\")"
   ]
  },
  {
   "cell_type": "markdown",
   "metadata": {},
   "source": [
    "Как видно из представленных распределений, привычки пользователей примерно одинаковы. В среднем клиенты предпочитают звонить до 500 мин в месяц, отправлять не более 50 сообщений и использовать до 20 ГБ интернет-трафика. Однако, клиенты тарифа *Ультра* (по всей видимости из-за меньших ограничений тарифа) склонны расходовать чуть больше минут, сообщений и трафика.\n",
    "\n",
    "Датасет по количеству звонков тарифа *Смарт* имеет незначительную скошенность в отрицательную сторону. Скорее всего это связано с осторожностью пользователей, чтобы не выйти за пределы предоставленных 500 минут согласно тарифа. Пользователи тарифа *Ультра*, практически не ограниченные в звонках, разговаривают по телефону более свободно, а небольшая отрицательная скошенность говорит скорее об общей тенденции людей по телефону говорить короче, и больше пользоваться социальными сетями в современном мире.\n",
    "\n",
    "Гистограмма по сообщениям на обоих тарифах, показывает, что медиана меньше среднего, а значит данные скошены вправо. При этом мы имеем пик по количеству сообщений в районе 10 в месяц. Сообщения в виде смс при таком многообразии мессенджеров уже никого не привлекают. Более выраженная положительная скошенность на тарифе *Смарт* скорее говорит о том, что пользователи стремятся компенсировать экономию на звонках засчет сообщений.\n",
    "\n",
    "Интернет-трафик по тарифу *Смарт* показывает практически нормальное распределение с пиком на уровне лимита по тарифу - 15 ГБ. Трафик намного дороже дополнительных минут и сообщений, здесь поведение пользователей объяснимо ровнее. На тарифе *Ультра* имеет место отрицательная скошенность данных, что говорит об общей статистике достаточности трафика в 15-20 ГБ для среднего пользователя страны на месяц. \n",
    "\n",
    "В целом можно рекомендовать на тарифе *Смарт* поднять количество ГБ трафика и минут звонков, и заодно накинуть к стоимости тарифа 50-100 рублей. Тариф *Ультра* можно оптимизировать засчет снижения количества минут и трафика, снизить абонентскую плату и тем самым привлечь больше клиентов из категории пользователей тарифа *Смарт* и получать больше прибыли."
   ]
  },
  {
   "cell_type": "markdown",
   "metadata": {},
   "source": [
    "<a href='#top'>Back to top</a>"
   ]
  },
  {
   "cell_type": "markdown",
   "metadata": {},
   "source": [
    ">**_<span style=\"color:green\">Здесь все очень и очень хорошо. С точки зрения стиля и нашей задачи сравнения поведения пользователей двух тарифов, твое решение построить гистограммы друг под другом выглядит крайне уместно и рационально. Получилось очень наглядно. В качестве альтернативы мы могли бы построить гистограммы с наложением друг на друга (используя параметр прозрачности `alpha`, чтобы они полностью не перекрывали друг друга). Также можно было бы вывести дополнительные вертикальные линии, которые бы отражали границу лимита по тому, или иному типу услуг. </span>_**\n",
    ">\n",
    ">**_<span style=\"color:red\">~~В задании также требовалось описать полученные типы распределений. Добавь, пожалуйста.~~ </span>_**\n",
    ">\n",
    ">**_<span style=\"color:blue\">Ok</span>_**"
   ]
  },
  {
   "cell_type": "markdown",
   "metadata": {},
   "source": [
    "<a id='section_v'></a>\n",
    "### V. Проверка гипотез\n",
    "Проверим следующие гипотезы:\n",
    "* средняя выручка пользователей тарифов «Ультра» и «Смарт» различается\n",
    "* средняя выручка пользователей из Москвы отличается от выручки пользователей из других регионов\n",
    "\n",
    "Чтобы проверить гипотезу о равенстве среднего двух генеральных совокупностей по взятым из них выборкам, будем использовать t-критерий Стьюдента, так как сравниваемые выборки независимы между собой. Передадим методу параметры массивов с выборками, а также параметр *equal_var = False*, так как выборки взяты из отличных по параметрам совокупностей, судя по кардинально различающимся **дисперсиям** выборок. Таким образом дисперсия каждой выборки будет оценена по отдельности по значениям в каждой из двыборок. Так мы получим более точные результаты.\n",
    "\n",
    "|      | Звонки Смарт| Звонки Ультра | Сообщения Смарт| Сообщения Ультра| Интернет Смарт| Интернет Ультра|\n",
    "|:----------------------------|--------|---------|------|--------|-----------|----------|\n",
    "| Среднее                     | 418    | 527     | 33   |  49    |  16229    | 19487    |\n",
    "| Стандартное отклонение (Мб) | 36219  | 100874  | 797  |  2285  |  34545911 | 101935621|\n",
    "| **Дисперсия**                   | **190**    | **318**    | **33**   |  **48**    |  **5878**     | **10096**    |\n"
   ]
  },
  {
   "cell_type": "markdown",
   "metadata": {},
   "source": [
    "<a id='section_v_1'></a>\n",
    "<div style=\"border:solid green 2px; padding: 10px\">\n",
    "    <b>Гипотеза о равенстве средних двух генеральных совокупностей №1<b/>"
   ]
  },
  {
   "cell_type": "markdown",
   "metadata": {},
   "source": [
    "Сформулируем гипотезы:\n",
    "- H0: выручка от пользователей тарифов *Ультра* и *Смарт* не различается\n",
    "- H1: выручка от пользователей тарифов *Ультра* и *Смарт* различается"
   ]
  },
  {
   "cell_type": "code",
   "execution_count": 31,
   "metadata": {},
   "outputs": [],
   "source": [
    "# разделим датасет по тарифам - Ультра и Смарт\n",
    "ultra = df[df['tariff_name'] == 'ultra']\n",
    "smart = df[df['tariff_name'] == 'smart']\n",
    "\n",
    "# избавимся от выбросов с помощью функции del_outliers\n",
    "def del_outliers(df, col, add_boxplot = 0, x = 10, y = 10):\n",
    "    btm_quartile = df[col].quantile(0.25)                 \n",
    "    top_quartile = df[col].quantile(0.75)\n",
    "    interquartile = top_quartile - btm_quartile\n",
    "    true_data_range = (df[col] >= (btm_quartile - 1.5*interquartile)) & (df[col] <= (top_quartile + 1.5*interquartile))\n",
    "    if add_boxplot == 1:\n",
    "        return df.loc[true_data_range].boxplot([col], figsize=(x,y))\n",
    "    else:\n",
    "        return df.loc[true_data_range]\n",
    "    \n",
    "ultra = del_outliers(ultra, 'revenue_per_month', 0)\n",
    "ultra = ultra['revenue_per_month']\n",
    "smart = del_outliers(smart, 'revenue_per_month', 0)\n",
    "smart = smart['revenue_per_month']"
   ]
  },
  {
   "cell_type": "code",
   "execution_count": 32,
   "metadata": {},
   "outputs": [
    {
     "name": "stdout",
     "output_type": "stream",
     "text": [
      "p-значение: 0.0\n",
      "Отвергаем нулевую гипотезу\n"
     ]
    }
   ],
   "source": [
    "# проверим гипотезу\n",
    "alpha = .05 # критический уровень статистической значимости\n",
    "            # если p-value окажется меньше него - отвергнем гипотезу\n",
    "\n",
    "results_tariff = st.ttest_ind(ultra, smart, equal_var = False)\n",
    "\n",
    "print('p-значение:', results_tariff.pvalue)\n",
    "\n",
    "if (results_tariff.pvalue < alpha):\n",
    "    print(\"Отвергаем нулевую гипотезу\")\n",
    "else:\n",
    "    print(\"Не получилось отвергнуть нулевую гипотезу\") "
   ]
  },
  {
   "cell_type": "markdown",
   "metadata": {},
   "source": [
    "Полученное значение p-value говорит о том, что выручка от каждого из двух тарифов формируется по разному, несмотря на примерно одинаковое поведение пользователей."
   ]
  },
  {
   "cell_type": "markdown",
   "metadata": {},
   "source": [
    "<a id='section_v_2'></a>\n",
    "<div style=\"border:solid green 2px; padding: 10px\">\n",
    "    <b>Гипотеза о равенстве средних двух генеральных совокупностей №2</b>"
   ]
  },
  {
   "cell_type": "markdown",
   "metadata": {},
   "source": [
    "Сформулируем гипотезы:\n",
    "* H0: средняя выручка от пользователей из Москвы не отличается от выручки пользователей из других регионов\n",
    "* H1: средняя выручка от пользователей из Москвы отличается от выручки пользователей из других регионов"
   ]
  },
  {
   "cell_type": "code",
   "execution_count": 33,
   "metadata": {},
   "outputs": [],
   "source": [
    "# разделим датасет по регионам - Москва и Россия\n",
    "df['region'] = np.where(df['city'] == 'Москва', 'Москва', 'Россия')\n",
    "moscow = df[df['region'] == 'Москва']\n",
    "russia = df[df['region'] == 'Россия']"
   ]
  },
  {
   "cell_type": "code",
   "execution_count": 34,
   "metadata": {
    "scrolled": false
   },
   "outputs": [
    {
     "data": {
      "text/html": [
       "<style  type=\"text/css\" >\n",
       "</style><table id=\"T_87d126c7_21ed_11eb_8d73_cc308039ab28\" ><thead>    <tr>        <th class=\"blank level0\" ></th>        <th class=\"col_heading level0 col0\" colspan=3>revenue_per_month</th>    </tr>    <tr>        <th class=\"blank level1\" ></th>        <th class=\"col_heading level1 col0\" >mean</th>        <th class=\"col_heading level1 col1\" >var</th>        <th class=\"col_heading level1 col2\" >std</th>    </tr>    <tr>        <th class=\"index_name level0\" >region</th>        <th class=\"blank\" ></th>        <th class=\"blank\" ></th>        <th class=\"blank\" ></th>    </tr></thead><tbody>\n",
       "                <tr>\n",
       "                        <th id=\"T_87d126c7_21ed_11eb_8d73_cc308039ab28level0_row0\" class=\"row_heading level0 row0\" >Москва</th>\n",
       "                        <td id=\"T_87d126c7_21ed_11eb_8d73_cc308039ab28row0_col0\" class=\"data row0 col0\" >1516</td>\n",
       "                        <td id=\"T_87d126c7_21ed_11eb_8d73_cc308039ab28row0_col1\" class=\"data row0 col1\" >559020</td>\n",
       "                        <td id=\"T_87d126c7_21ed_11eb_8d73_cc308039ab28row0_col2\" class=\"data row0 col2\" >748</td>\n",
       "            </tr>\n",
       "            <tr>\n",
       "                        <th id=\"T_87d126c7_21ed_11eb_8d73_cc308039ab28level0_row1\" class=\"row_heading level0 row1\" >Россия</th>\n",
       "                        <td id=\"T_87d126c7_21ed_11eb_8d73_cc308039ab28row1_col0\" class=\"data row1 col0\" >1492</td>\n",
       "                        <td id=\"T_87d126c7_21ed_11eb_8d73_cc308039ab28row1_col1\" class=\"data row1 col1\" >647407</td>\n",
       "                        <td id=\"T_87d126c7_21ed_11eb_8d73_cc308039ab28row1_col2\" class=\"data row1 col2\" >805</td>\n",
       "            </tr>\n",
       "    </tbody></table>"
      ],
      "text/plain": [
       "<pandas.io.formats.style.Styler at 0x24ccd831850>"
      ]
     },
     "execution_count": 34,
     "metadata": {},
     "output_type": "execute_result"
    }
   ],
   "source": [
    "# избавимся от выбросов\n",
    "moscow = del_outliers(moscow, 'revenue_per_month', 0)\n",
    "moscow = moscow['revenue_per_month']\n",
    "russia = del_outliers(russia, 'revenue_per_month', 0)\n",
    "russia = russia['revenue_per_month']\n",
    "\n",
    "# посмотрим на статистические параметры групп по регионам\n",
    "df.groupby('region')\\\n",
    "  .agg({'revenue_per_month':['mean','var','std']})\\\n",
    "        .style.format(\"{:.0f}\")"
   ]
  },
  {
   "cell_type": "markdown",
   "metadata": {},
   "source": [
    "Здесь имеет смысл передать параметр *equal_var = True*, так как выборки взяты из схожих по параметрам совокупностей, что также косвенно подтверждается близкими дисперсиями выборок."
   ]
  },
  {
   "cell_type": "code",
   "execution_count": 35,
   "metadata": {},
   "outputs": [
    {
     "name": "stdout",
     "output_type": "stream",
     "text": [
      "p-значение: 0.25119567702901946\n",
      "Не получилось отвергнуть нулевую гипотезу\n"
     ]
    }
   ],
   "source": [
    "alpha = .05\n",
    "\n",
    "results_region = st.ttest_ind(moscow, russia, equal_var = True)\n",
    "\n",
    "print('p-значение:', results_region.pvalue)\n",
    "\n",
    "if (results_region.pvalue < alpha):\n",
    "    print(\"Отвергаем нулевую гипотезу\")\n",
    "else:\n",
    "    print(\"Не получилось отвергнуть нулевую гипотезу\") "
   ]
  },
  {
   "cell_type": "markdown",
   "metadata": {},
   "source": [
    "Полученное значение p-value говорит о том, что различия в доходах от разных тарифов, зависят от того, является ли пользователь жителем столицы или не является."
   ]
  },
  {
   "cell_type": "markdown",
   "metadata": {},
   "source": [
    "<a href='#top'>Back to top</a>"
   ]
  },
  {
   "cell_type": "markdown",
   "metadata": {},
   "source": [
    ">**_<span style=\"color:red\">~~С формулировкой и проверкой гипотез у тебя в целом полный порядок, но нужно посчитать дисперсии наших выборок, и учесть это при проведении теста, передав в параметр `equal_var` соответствующее значение. Поправь, пожалуйста.~~ </span>_**\n",
    ">\n",
    ">**_<span style=\"color:blue\">Ok</span>_**"
   ]
  },
  {
   "cell_type": "markdown",
   "metadata": {},
   "source": [
    "<a id='section_vi'></a>\n",
    "### VI. Общий вывод\n",
    "**Предварительный анализ тарифов на небольшой выборке из 500 пользователей «Мегалайна» на тарифах *Смарт* и *Ультра* показал:**\n",
    "* пользователи услуг ведут себя по-разному\n",
    "* пользователи тарифа *Смарт* приносят компании прибыли больше размера установленной абонентской платы в 550 рублей. Медианное значение находится на уровне 967 рублей в месяц, а значит большинство пользователей стабильно выходит за рамки условий тарифа\n",
    "* большинство пользователей тарифа *Ультра* редко приносят дополнительную выручку компании, оставаясь в рамках абонентской платы в 1950 рублей\n",
    "* привычки пользователей примерно одинаковы: в среднем клиенты предпочитают звонить до 500 мин в месяц, отправлять не более 50 сообщений и использовать до 20 ГБ интернет-трафика\n",
    "* клиенты тарифа *Ультра* склонны расходовать больше минут, сообщений и траффика\n",
    "* тариф *Ультра* привлекателен для пользователей засчет большего количества звонков, сообщений и интернета по фиксированной цене\n",
    "* тариф *Смарт* дает пользователям меньше свободы в общении, и очевидно выбирается клиентами, которые предпочитают экономить\n",
    "\n",
    "**Основные выводы после проверки статистических гипотез:**\n",
    "* выручка от каждого из двух тарифов формируется по разному, несмотря на примерно одинаковое поведение пользователей\n",
    "* различия в доходах от разных тарифов, зависят от того, является ли пользователь жителем столицы или не является\n",
    "\n",
    "**Рекомендации коммерческому департаменту:**\n",
    "* необходимо скорректировать рекламный бюджет в регионах, чтобы выравнять механизм формирования прибыли с Москвой\n",
    "* вариант коррекции засчет снижения цены тарифа *Ультра* (без изменения пакета) и повышения стоимости цены тарифа *Смарт* (добавив в пакет больше минут, сообщений и интернета)"
   ]
  },
  {
   "cell_type": "markdown",
   "metadata": {},
   "source": [
    ">**Спасибо тебе за сдачу твоего проекта. Работа получилась просто замечательная и хорошо структурированная. Видно, что ты отлично справился с материалами спринта и уверенно применяешь полученные знания на практике. Для зачёта проекта тебе осталось совсем чуть-чуть поработать и исправить ряд некритичных недочётов.**\n",
    ">\n",
    ">**Отдельно хочу тебя похвалить за твой комплексный подход к оформлению проекта, твой чистый код и развернутые выводы и комментарии. Продолжай и дальше совершенствоваться в этих аспектах в своих последующих проектах.**\n",
    ">\n",
    ">**Буду ждать твой доделанный проект на повторную проверку. Успехов!**\n",
    ">\n",
    ">**Update: Привет еще раз! Спасибо тебе за оперативную работу над ошибками. Теперь все окей, и твой проект зачтен, поздравляю! :)**\n",
    ">\n",
    ">**_<span style=\"color:blue\">Спасибо =)</span>_**"
   ]
  },
  {
   "cell_type": "markdown",
   "metadata": {},
   "source": [
    "<a href='#top'>Back to top</a>"
   ]
  },
  {
   "cell_type": "markdown",
   "metadata": {},
   "source": [
    "<a id='section_end'></a>\n",
    "### Чек-лист готовности проекта\n",
    "- [x]  Как вы описываете выявленные в данных проблемы?\n",
    "- [x]  Как готовите данные к анализу?\n",
    "- [x]  Какие графики строите для распределений?\n",
    "- [x]  Как интерпретируете полученные графики?\n",
    "- [x]  Как рассчитываете стандартное отклонение и дисперсию?\n",
    "- [x]  Формулируете ли альтернативную и нулевую гипотезы?\n",
    "- [x]  Какие методы применяете для проверки гипотез?\n",
    "- [x]  Интерпретируете ли результат проверки гипотезы?\n",
    "- [x]  Соблюдаете структуру проекта и поддерживаете аккуратность кода?\n",
    "- [x]  Какие выводы делаете?\n",
    "- [x]  Оставляете ли комментарии к шагам?"
   ]
  },
  {
   "cell_type": "markdown",
   "metadata": {},
   "source": [
    "<a href='#top'>Back to top</a>"
   ]
  }
 ],
 "metadata": {
  "kernelspec": {
   "display_name": "Python 3",
   "language": "python",
   "name": "python3"
  },
  "language_info": {
   "codemirror_mode": {
    "name": "ipython",
    "version": 3
   },
   "file_extension": ".py",
   "mimetype": "text/x-python",
   "name": "python",
   "nbconvert_exporter": "python",
   "pygments_lexer": "ipython3",
   "version": "3.8.5"
  },
  "varInspector": {
   "cols": {
    "lenName": 16,
    "lenType": 16,
    "lenVar": 40
   },
   "kernels_config": {
    "python": {
     "delete_cmd_postfix": "",
     "delete_cmd_prefix": "del ",
     "library": "var_list.py",
     "varRefreshCmd": "print(var_dic_list())"
    },
    "r": {
     "delete_cmd_postfix": ") ",
     "delete_cmd_prefix": "rm(",
     "library": "var_list.r",
     "varRefreshCmd": "cat(var_dic_list()) "
    }
   },
   "types_to_exclude": [
    "module",
    "function",
    "builtin_function_or_method",
    "instance",
    "_Feature"
   ],
   "window_display": false
  }
 },
 "nbformat": 4,
 "nbformat_minor": 2
}
