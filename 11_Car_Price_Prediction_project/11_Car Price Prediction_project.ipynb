{
 "cells": [
  {
   "cell_type": "markdown",
   "metadata": {},
   "source": [
    "<a id='top'></a>\n",
    "<img align=\"center\" src=\"https://www.autotovari.com/wp-content/uploads/2017/08/Used-Cars-For-Sale.jpg\" width=\"200\" />\n",
    "<p style=\"text-align: center;\">\n",
    "    <font size='5' type='bold'>\n",
    "        <b>Определение стоимости автомобиля</b>\n",
    "    </font>\n",
    "</p>"
   ]
  },
  {
   "cell_type": "markdown",
   "metadata": {},
   "source": [
    "# Содержание\n",
    "\n",
    "<a href='#section_0'>Описание проекта</a>\n",
    "\n",
    "<a href='#section_1'>1. Подготовка данных</a>\n",
    "\n",
    "<a href='#section_2'>2. Обучение моделей</a>\n",
    "\n",
    "* <a href='#section_2_1'>CatBoost</a>\n",
    "* <a href='#section_2_2'>LightGBM</a>\n",
    "* <a href='#section_2_3'>Linear Regression</a>\n",
    "\n",
    "<a href='#section_3'>3. Анализ моделей</a>\n",
    "\n",
    "<a href='#section_4'>Общий вывод</a>\n",
    "\n",
    "<a href='#section_end'>Чек-лист готовности проекта</a>"
   ]
  },
  {
   "cell_type": "markdown",
   "metadata": {},
   "source": [
    "<a id='section_0'></a>\n",
    "# Описание проекта\n",
    "Сервис по продаже автомобилей с пробегом «Не бит, не крашен» разрабатывает приложение для привлечения новых клиентов. В нём можно быстро узнать рыночную стоимость своего автомобиля. В вашем распоряжении исторические данные: технические характеристики, комплектации и цены автомобилей. Вам нужно построить модель для определения стоимости. \n",
    "\n",
    "Заказчику важны:\n",
    "\n",
    "- качество предсказания;\n",
    "- скорость предсказания;\n",
    "- время обучения."
   ]
  },
  {
   "cell_type": "markdown",
   "metadata": {},
   "source": [
    "<div class=\"alert alert-info\">\n",
    "Привет! Меня зовут Никита Мишин и я буду твоим ревьюером по этому проекты.\n",
    "Для простоты предлагаю общение на 'ты'. Буду предполагать, что ты не против:) \n",
    "Если более предпочтительно обращение на 'Вы', пиши, не стесняйся.\n",
    "Также если будут возникать вопросы, аналогично, пиши:)\n",
    "\n",
    "Предлагаю работать в известном тебе итеративном формате.\n",
    "Итерация состоит в моей проверке твоего решения. \n",
    "После решения могут остаться какие-то недочеты, которые я попрошу тебя устранить, ты их исправляешь и я проверяю твои решения.\n",
    "    Оставленные мною комментарии могут быть разного вида:\n",
    "   \n",
    "    - зеленый: элегантные решения, которые тебе стоит запомнит и в дальнейшем взять на вооружение:) \n",
    "    \n",
    "    - желтый: сигнал о том, что есть некритичная вещь(не всегда ошибка), что нужно точно поправить в следующей работе, даже желательно в этой (полезно, в первую очередь, для тебя:) ).Также это рекомендации на будущее    \n",
    "\n",
    "    - красный: недочет, который нужно исправить в этой работе, для того, чтобы она была принята\n",
    "    \n",
    "    - синий: полезная информация, доп ресурсы, \"вопросы на подумать\"\n",
    "\n",
    "Также попрошу не удалять мои комментарии:) <a class=\"tocSkip\">\n",
    "</div>"
   ]
  },
  {
   "cell_type": "markdown",
   "metadata": {},
   "source": [
    "<a id='section_1'></a>\n",
    "## Подготовка данных"
   ]
  },
  {
   "cell_type": "code",
   "execution_count": 1,
   "metadata": {},
   "outputs": [],
   "source": [
    "import pandas as pd\n",
    "import numpy as np\n",
    "import time\n",
    "import lightgbm as lgb\n",
    "\n",
    "from sklearn.preprocessing import OneHotEncoder\n",
    "from sklearn.preprocessing import LabelEncoder\n",
    "from sklearn.preprocessing import StandardScaler\n",
    "from sklearn.model_selection import train_test_split\n",
    "from catboost import CatBoostRegressor\n",
    "from sklearn.linear_model import LinearRegression\n",
    "from sklearn.model_selection import KFold\n",
    "from sklearn.model_selection import GridSearchCV\n",
    "from sklearn.metrics import mean_absolute_error, make_scorer"
   ]
  },
  {
   "cell_type": "markdown",
   "metadata": {},
   "source": [
    "<div class=\"alert alert-success\">\n",
    "Молодец, что группируешь все ипморты в одном месте, такая структуризации полезна и удобна\n",
    "</div>"
   ]
  },
  {
   "cell_type": "code",
   "execution_count": 2,
   "metadata": {
    "scrolled": true
   },
   "outputs": [
    {
     "data": {
      "text/html": [
       "<div>\n",
       "<style scoped>\n",
       "    .dataframe tbody tr th:only-of-type {\n",
       "        vertical-align: middle;\n",
       "    }\n",
       "\n",
       "    .dataframe tbody tr th {\n",
       "        vertical-align: top;\n",
       "    }\n",
       "\n",
       "    .dataframe thead th {\n",
       "        text-align: right;\n",
       "    }\n",
       "</style>\n",
       "<table border=\"1\" class=\"dataframe\">\n",
       "  <thead>\n",
       "    <tr style=\"text-align: right;\">\n",
       "      <th></th>\n",
       "      <th>DateCrawled</th>\n",
       "      <th>Price</th>\n",
       "      <th>VehicleType</th>\n",
       "      <th>RegistrationYear</th>\n",
       "      <th>Gearbox</th>\n",
       "      <th>Power</th>\n",
       "      <th>Model</th>\n",
       "      <th>Kilometer</th>\n",
       "      <th>RegistrationMonth</th>\n",
       "      <th>FuelType</th>\n",
       "      <th>Brand</th>\n",
       "      <th>NotRepaired</th>\n",
       "      <th>DateCreated</th>\n",
       "      <th>NumberOfPictures</th>\n",
       "      <th>PostalCode</th>\n",
       "      <th>LastSeen</th>\n",
       "    </tr>\n",
       "  </thead>\n",
       "  <tbody>\n",
       "    <tr>\n",
       "      <td>0</td>\n",
       "      <td>2016-03-24 11:52:17</td>\n",
       "      <td>480</td>\n",
       "      <td>NaN</td>\n",
       "      <td>1993</td>\n",
       "      <td>manual</td>\n",
       "      <td>0</td>\n",
       "      <td>golf</td>\n",
       "      <td>150000</td>\n",
       "      <td>0</td>\n",
       "      <td>petrol</td>\n",
       "      <td>volkswagen</td>\n",
       "      <td>NaN</td>\n",
       "      <td>2016-03-24 00:00:00</td>\n",
       "      <td>0</td>\n",
       "      <td>70435</td>\n",
       "      <td>2016-04-07 03:16:57</td>\n",
       "    </tr>\n",
       "    <tr>\n",
       "      <td>1</td>\n",
       "      <td>2016-03-24 10:58:45</td>\n",
       "      <td>18300</td>\n",
       "      <td>coupe</td>\n",
       "      <td>2011</td>\n",
       "      <td>manual</td>\n",
       "      <td>190</td>\n",
       "      <td>NaN</td>\n",
       "      <td>125000</td>\n",
       "      <td>5</td>\n",
       "      <td>gasoline</td>\n",
       "      <td>audi</td>\n",
       "      <td>yes</td>\n",
       "      <td>2016-03-24 00:00:00</td>\n",
       "      <td>0</td>\n",
       "      <td>66954</td>\n",
       "      <td>2016-04-07 01:46:50</td>\n",
       "    </tr>\n",
       "    <tr>\n",
       "      <td>2</td>\n",
       "      <td>2016-03-14 12:52:21</td>\n",
       "      <td>9800</td>\n",
       "      <td>suv</td>\n",
       "      <td>2004</td>\n",
       "      <td>auto</td>\n",
       "      <td>163</td>\n",
       "      <td>grand</td>\n",
       "      <td>125000</td>\n",
       "      <td>8</td>\n",
       "      <td>gasoline</td>\n",
       "      <td>jeep</td>\n",
       "      <td>NaN</td>\n",
       "      <td>2016-03-14 00:00:00</td>\n",
       "      <td>0</td>\n",
       "      <td>90480</td>\n",
       "      <td>2016-04-05 12:47:46</td>\n",
       "    </tr>\n",
       "  </tbody>\n",
       "</table>\n",
       "</div>"
      ],
      "text/plain": [
       "           DateCrawled  Price VehicleType  RegistrationYear Gearbox  Power  \\\n",
       "0  2016-03-24 11:52:17    480         NaN              1993  manual      0   \n",
       "1  2016-03-24 10:58:45  18300       coupe              2011  manual    190   \n",
       "2  2016-03-14 12:52:21   9800         suv              2004    auto    163   \n",
       "\n",
       "   Model  Kilometer  RegistrationMonth  FuelType       Brand NotRepaired  \\\n",
       "0   golf     150000                  0    petrol  volkswagen         NaN   \n",
       "1    NaN     125000                  5  gasoline        audi         yes   \n",
       "2  grand     125000                  8  gasoline        jeep         NaN   \n",
       "\n",
       "           DateCreated  NumberOfPictures  PostalCode             LastSeen  \n",
       "0  2016-03-24 00:00:00                 0       70435  2016-04-07 03:16:57  \n",
       "1  2016-03-24 00:00:00                 0       66954  2016-04-07 01:46:50  \n",
       "2  2016-03-14 00:00:00                 0       90480  2016-04-05 12:47:46  "
      ]
     },
     "execution_count": 2,
     "metadata": {},
     "output_type": "execute_result"
    }
   ],
   "source": [
    "df = pd.read_csv('/datasets/autos.csv')\n",
    "df.head(3)"
   ]
  },
  {
   "cell_type": "code",
   "execution_count": 3,
   "metadata": {
    "scrolled": false
   },
   "outputs": [
    {
     "name": "stdout",
     "output_type": "stream",
     "text": [
      "<class 'pandas.core.frame.DataFrame'>\n",
      "RangeIndex: 354369 entries, 0 to 354368\n",
      "Data columns (total 16 columns):\n",
      "DateCrawled          354369 non-null object\n",
      "Price                354369 non-null int64\n",
      "VehicleType          316879 non-null object\n",
      "RegistrationYear     354369 non-null int64\n",
      "Gearbox              334536 non-null object\n",
      "Power                354369 non-null int64\n",
      "Model                334664 non-null object\n",
      "Kilometer            354369 non-null int64\n",
      "RegistrationMonth    354369 non-null int64\n",
      "FuelType             321474 non-null object\n",
      "Brand                354369 non-null object\n",
      "NotRepaired          283215 non-null object\n",
      "DateCreated          354369 non-null object\n",
      "NumberOfPictures     354369 non-null int64\n",
      "PostalCode           354369 non-null int64\n",
      "LastSeen             354369 non-null object\n",
      "dtypes: int64(7), object(9)\n",
      "memory usage: 43.3+ MB\n"
     ]
    }
   ],
   "source": [
    "df.info()"
   ]
  },
  {
   "cell_type": "markdown",
   "metadata": {},
   "source": [
    "Набор данных представлен следующими признаками:\n",
    "*\t**DateCrawled** — дата скачивания анкеты из базы\n",
    "*\t**VehicleType** — тип автомобильного кузова\n",
    "*\t**RegistrationYear** — год регистрации автомобиля\n",
    "*\t**Gearbox** — тип коробки передач\n",
    "*\t**Power** — мощность (л. с.)\n",
    "*\t**Model** — модель автомобиля\n",
    "*\t**Kilometer** — пробег (км)\n",
    "*\t**RegistrationMonth** — месяц регистрации автомобиля\n",
    "*\t**FuelType** — тип топлива\n",
    "*\t**Brand** — марка автомобиля\n",
    "*\t**NotRepaired** — была машина в ремонте или нет\n",
    "*\t**DateCreated** — дата создания анкеты\n",
    "*\t**NumberOfPictures** — количество фотографий автомобиля\n",
    "*\t**PostalCode** — почтовый индекс владельца анкеты (пользователя)\n",
    "*\t**LastSeen** — дата последней активности пользователя\n",
    "\n",
    "Целевой признак\n",
    "*   **Price** — цена (евро)"
   ]
  },
  {
   "cell_type": "markdown",
   "metadata": {},
   "source": [
    "Удалим признаки, не влияющие на предсказание цены: `PostalCode`, `DateCrawled`, `DateCreated`, `NumberOfPictures`, `LastSeen`."
   ]
  },
  {
   "cell_type": "markdown",
   "metadata": {},
   "source": [
    "<div class=\"alert alert-warning\">\n",
    "<h1>Комментарий ревьюера <a class=\"tocSkip\"></a></h1>\n",
    "А что по поводу Postal code?\n",
    "</div>"
   ]
  },
  {
   "cell_type": "markdown",
   "metadata": {},
   "source": [
    "<div class=\"alert alert-info\">\n",
    "<h3>Комментарий студента <a class=\"tocSkip\"></a></h3>\n",
    "Done\n",
    "</div>"
   ]
  },
  {
   "cell_type": "markdown",
   "metadata": {},
   "source": [
    "<div class=\"alert alert-success\">\n",
    "<h1>Комментарий ревьюера v2 <a class=\"tocSkip\"></a></h1>\n",
    "👍\n",
    "</div>"
   ]
  },
  {
   "cell_type": "code",
   "execution_count": 4,
   "metadata": {},
   "outputs": [],
   "source": [
    "df = df.drop(columns=['PostalCode', 'DateCrawled', 'LastSeen', 'DateCreated', 'NumberOfPictures'])"
   ]
  },
  {
   "cell_type": "markdown",
   "metadata": {},
   "source": [
    "Видим присутствие пропусков в категориальных признаках. Заменим их на 'NaN'"
   ]
  },
  {
   "cell_type": "code",
   "execution_count": 5,
   "metadata": {},
   "outputs": [],
   "source": [
    "df[['VehicleType','Gearbox','Model','FuelType','Brand','NotRepaired']] = df[['VehicleType','Gearbox','Model','FuelType','Brand','NotRepaired']].fillna('NaN')"
   ]
  },
  {
   "cell_type": "code",
   "execution_count": 6,
   "metadata": {},
   "outputs": [
    {
     "data": {
      "text/plain": [
       "0"
      ]
     },
     "execution_count": 6,
     "metadata": {},
     "output_type": "execute_result"
    }
   ],
   "source": [
    "# Избавимся от дубликатов\n",
    "\n",
    "df = df.drop_duplicates().reset_index(drop=True)\n",
    "df.duplicated().sum()"
   ]
  },
  {
   "cell_type": "markdown",
   "metadata": {},
   "source": [
    "<div class=\"alert alert-success\">\n",
    "<h1>Комментарий ревьюера <a class=\"tocSkip\"></a></h1>\n",
    "Да, молодец, что не забыл проверить на дубликаты\n",
    "</div>"
   ]
  },
  {
   "cell_type": "markdown",
   "metadata": {},
   "source": [
    "В признаках Power и RegistrationYear видим подозрительно высокие значения. Учитывая, что максимальной мощностью на данный момент в мире машин обладает Bugatti Chiron (1,479 л.с.), удалим все, что выше. Также поступим и с годами ранее 2021."
   ]
  },
  {
   "cell_type": "code",
   "execution_count": 7,
   "metadata": {},
   "outputs": [],
   "source": [
    "df = df[df['Power'] <= 1479]\n",
    "df = df[df['RegistrationYear'] <= 2021]"
   ]
  },
  {
   "cell_type": "markdown",
   "metadata": {},
   "source": [
    "<div class=\"alert alert-warning\">\n",
    "<h1>Комментарий ревьюера <a class=\"tocSkip\"></a></h1>\n",
    "А что по поводу RegistrationYear? Тоже  какие-то аномальные значения\n",
    "</div>"
   ]
  },
  {
   "cell_type": "markdown",
   "metadata": {},
   "source": [
    "<div class=\"alert alert-info\">\n",
    "<h3>Комментарий студента <a class=\"tocSkip\"></a></h3>\n",
    "Done\n",
    "</div>"
   ]
  },
  {
   "cell_type": "markdown",
   "metadata": {},
   "source": [
    "<div class=\"alert alert-success\">\n",
    "<h1>Комментарий ревьюера v2 <a class=\"tocSkip\"></a></h1>\n",
    "👍\n",
    "</div>"
   ]
  },
  {
   "cell_type": "code",
   "execution_count": 8,
   "metadata": {
    "scrolled": true
   },
   "outputs": [
    {
     "data": {
      "text/html": [
       "<div>\n",
       "<style scoped>\n",
       "    .dataframe tbody tr th:only-of-type {\n",
       "        vertical-align: middle;\n",
       "    }\n",
       "\n",
       "    .dataframe tbody tr th {\n",
       "        vertical-align: top;\n",
       "    }\n",
       "\n",
       "    .dataframe thead th {\n",
       "        text-align: right;\n",
       "    }\n",
       "</style>\n",
       "<table border=\"1\" class=\"dataframe\">\n",
       "  <thead>\n",
       "    <tr style=\"text-align: right;\">\n",
       "      <th></th>\n",
       "      <th>Price</th>\n",
       "      <th>RegistrationYear</th>\n",
       "      <th>Power</th>\n",
       "      <th>Kilometer</th>\n",
       "      <th>RegistrationMonth</th>\n",
       "    </tr>\n",
       "  </thead>\n",
       "  <tbody>\n",
       "    <tr>\n",
       "      <td>count</td>\n",
       "      <td>326525.000000</td>\n",
       "      <td>326525.000000</td>\n",
       "      <td>326525.000000</td>\n",
       "      <td>326525.000000</td>\n",
       "      <td>326525.000000</td>\n",
       "    </tr>\n",
       "    <tr>\n",
       "      <td>mean</td>\n",
       "      <td>4404.907783</td>\n",
       "      <td>2002.903171</td>\n",
       "      <td>106.882863</td>\n",
       "      <td>128181.594059</td>\n",
       "      <td>5.697438</td>\n",
       "    </tr>\n",
       "    <tr>\n",
       "      <td>std</td>\n",
       "      <td>4518.527607</td>\n",
       "      <td>14.183144</td>\n",
       "      <td>67.029572</td>\n",
       "      <td>37890.960669</td>\n",
       "      <td>3.723373</td>\n",
       "    </tr>\n",
       "    <tr>\n",
       "      <td>min</td>\n",
       "      <td>0.000000</td>\n",
       "      <td>1000.000000</td>\n",
       "      <td>0.000000</td>\n",
       "      <td>5000.000000</td>\n",
       "      <td>0.000000</td>\n",
       "    </tr>\n",
       "    <tr>\n",
       "      <td>25%</td>\n",
       "      <td>1000.000000</td>\n",
       "      <td>1999.000000</td>\n",
       "      <td>69.000000</td>\n",
       "      <td>125000.000000</td>\n",
       "      <td>3.000000</td>\n",
       "    </tr>\n",
       "    <tr>\n",
       "      <td>50%</td>\n",
       "      <td>2700.000000</td>\n",
       "      <td>2003.000000</td>\n",
       "      <td>105.000000</td>\n",
       "      <td>150000.000000</td>\n",
       "      <td>6.000000</td>\n",
       "    </tr>\n",
       "    <tr>\n",
       "      <td>75%</td>\n",
       "      <td>6350.000000</td>\n",
       "      <td>2008.000000</td>\n",
       "      <td>141.000000</td>\n",
       "      <td>150000.000000</td>\n",
       "      <td>9.000000</td>\n",
       "    </tr>\n",
       "    <tr>\n",
       "      <td>max</td>\n",
       "      <td>20000.000000</td>\n",
       "      <td>2019.000000</td>\n",
       "      <td>1436.000000</td>\n",
       "      <td>150000.000000</td>\n",
       "      <td>12.000000</td>\n",
       "    </tr>\n",
       "  </tbody>\n",
       "</table>\n",
       "</div>"
      ],
      "text/plain": [
       "               Price  RegistrationYear          Power      Kilometer  \\\n",
       "count  326525.000000     326525.000000  326525.000000  326525.000000   \n",
       "mean     4404.907783       2002.903171     106.882863  128181.594059   \n",
       "std      4518.527607         14.183144      67.029572   37890.960669   \n",
       "min         0.000000       1000.000000       0.000000    5000.000000   \n",
       "25%      1000.000000       1999.000000      69.000000  125000.000000   \n",
       "50%      2700.000000       2003.000000     105.000000  150000.000000   \n",
       "75%      6350.000000       2008.000000     141.000000  150000.000000   \n",
       "max     20000.000000       2019.000000    1436.000000  150000.000000   \n",
       "\n",
       "       RegistrationMonth  \n",
       "count      326525.000000  \n",
       "mean            5.697438  \n",
       "std             3.723373  \n",
       "min             0.000000  \n",
       "25%             3.000000  \n",
       "50%             6.000000  \n",
       "75%             9.000000  \n",
       "max            12.000000  "
      ]
     },
     "execution_count": 8,
     "metadata": {},
     "output_type": "execute_result"
    }
   ],
   "source": [
    "# Посмотрим на общую информацию о данных\n",
    "\n",
    "df.describe()"
   ]
  },
  {
   "cell_type": "code",
   "execution_count": 9,
   "metadata": {},
   "outputs": [],
   "source": [
    "# Приведем категориальные признаки в номинальные\n",
    "# Применим OneHotEncoder для колонок VehicleType и FuelType\n",
    "\n",
    "df = pd.get_dummies(df, columns=['VehicleType','FuelType'], drop_first=True)\n",
    "\n",
    "# Применим LabelEncoder для колонок Brand, Model, Gearbox и NotRepaired\n",
    "\n",
    "label_encode = LabelEncoder()\n",
    "columns_for_convert = ['Brand', 'Model', 'Gearbox', 'NotRepaired']\n",
    "\n",
    "for column in columns_for_convert:\n",
    "    label_encode.fit(df[column].astype('str'))\n",
    "    df[column] = label_encode.transform(df[column].astype('str'))\n"
   ]
  },
  {
   "cell_type": "code",
   "execution_count": 10,
   "metadata": {
    "scrolled": false
   },
   "outputs": [
    {
     "data": {
      "text/html": [
       "<div>\n",
       "<style scoped>\n",
       "    .dataframe tbody tr th:only-of-type {\n",
       "        vertical-align: middle;\n",
       "    }\n",
       "\n",
       "    .dataframe tbody tr th {\n",
       "        vertical-align: top;\n",
       "    }\n",
       "\n",
       "    .dataframe thead th {\n",
       "        text-align: right;\n",
       "    }\n",
       "</style>\n",
       "<table border=\"1\" class=\"dataframe\">\n",
       "  <thead>\n",
       "    <tr style=\"text-align: right;\">\n",
       "      <th></th>\n",
       "      <th>Price</th>\n",
       "      <th>RegistrationYear</th>\n",
       "      <th>Gearbox</th>\n",
       "      <th>Power</th>\n",
       "      <th>Model</th>\n",
       "      <th>Kilometer</th>\n",
       "      <th>RegistrationMonth</th>\n",
       "      <th>Brand</th>\n",
       "      <th>NotRepaired</th>\n",
       "      <th>VehicleType_bus</th>\n",
       "      <th>...</th>\n",
       "      <th>VehicleType_small</th>\n",
       "      <th>VehicleType_suv</th>\n",
       "      <th>VehicleType_wagon</th>\n",
       "      <th>FuelType_cng</th>\n",
       "      <th>FuelType_electric</th>\n",
       "      <th>FuelType_gasoline</th>\n",
       "      <th>FuelType_hybrid</th>\n",
       "      <th>FuelType_lpg</th>\n",
       "      <th>FuelType_other</th>\n",
       "      <th>FuelType_petrol</th>\n",
       "    </tr>\n",
       "  </thead>\n",
       "  <tbody>\n",
       "    <tr>\n",
       "      <td>0</td>\n",
       "      <td>480</td>\n",
       "      <td>1993</td>\n",
       "      <td>2</td>\n",
       "      <td>0</td>\n",
       "      <td>117</td>\n",
       "      <td>150000</td>\n",
       "      <td>0</td>\n",
       "      <td>38</td>\n",
       "      <td>0</td>\n",
       "      <td>0</td>\n",
       "      <td>...</td>\n",
       "      <td>0</td>\n",
       "      <td>0</td>\n",
       "      <td>0</td>\n",
       "      <td>0</td>\n",
       "      <td>0</td>\n",
       "      <td>0</td>\n",
       "      <td>0</td>\n",
       "      <td>0</td>\n",
       "      <td>0</td>\n",
       "      <td>1</td>\n",
       "    </tr>\n",
       "    <tr>\n",
       "      <td>1</td>\n",
       "      <td>18300</td>\n",
       "      <td>2011</td>\n",
       "      <td>2</td>\n",
       "      <td>190</td>\n",
       "      <td>26</td>\n",
       "      <td>125000</td>\n",
       "      <td>5</td>\n",
       "      <td>1</td>\n",
       "      <td>2</td>\n",
       "      <td>0</td>\n",
       "      <td>...</td>\n",
       "      <td>0</td>\n",
       "      <td>0</td>\n",
       "      <td>0</td>\n",
       "      <td>0</td>\n",
       "      <td>0</td>\n",
       "      <td>1</td>\n",
       "      <td>0</td>\n",
       "      <td>0</td>\n",
       "      <td>0</td>\n",
       "      <td>0</td>\n",
       "    </tr>\n",
       "    <tr>\n",
       "      <td>2</td>\n",
       "      <td>9800</td>\n",
       "      <td>2004</td>\n",
       "      <td>1</td>\n",
       "      <td>163</td>\n",
       "      <td>118</td>\n",
       "      <td>125000</td>\n",
       "      <td>8</td>\n",
       "      <td>14</td>\n",
       "      <td>0</td>\n",
       "      <td>0</td>\n",
       "      <td>...</td>\n",
       "      <td>0</td>\n",
       "      <td>1</td>\n",
       "      <td>0</td>\n",
       "      <td>0</td>\n",
       "      <td>0</td>\n",
       "      <td>1</td>\n",
       "      <td>0</td>\n",
       "      <td>0</td>\n",
       "      <td>0</td>\n",
       "      <td>0</td>\n",
       "    </tr>\n",
       "    <tr>\n",
       "      <td>3</td>\n",
       "      <td>1500</td>\n",
       "      <td>2001</td>\n",
       "      <td>2</td>\n",
       "      <td>75</td>\n",
       "      <td>117</td>\n",
       "      <td>150000</td>\n",
       "      <td>6</td>\n",
       "      <td>38</td>\n",
       "      <td>1</td>\n",
       "      <td>0</td>\n",
       "      <td>...</td>\n",
       "      <td>1</td>\n",
       "      <td>0</td>\n",
       "      <td>0</td>\n",
       "      <td>0</td>\n",
       "      <td>0</td>\n",
       "      <td>0</td>\n",
       "      <td>0</td>\n",
       "      <td>0</td>\n",
       "      <td>0</td>\n",
       "      <td>1</td>\n",
       "    </tr>\n",
       "    <tr>\n",
       "      <td>4</td>\n",
       "      <td>3600</td>\n",
       "      <td>2008</td>\n",
       "      <td>2</td>\n",
       "      <td>69</td>\n",
       "      <td>102</td>\n",
       "      <td>90000</td>\n",
       "      <td>7</td>\n",
       "      <td>31</td>\n",
       "      <td>1</td>\n",
       "      <td>0</td>\n",
       "      <td>...</td>\n",
       "      <td>1</td>\n",
       "      <td>0</td>\n",
       "      <td>0</td>\n",
       "      <td>0</td>\n",
       "      <td>0</td>\n",
       "      <td>1</td>\n",
       "      <td>0</td>\n",
       "      <td>0</td>\n",
       "      <td>0</td>\n",
       "      <td>0</td>\n",
       "    </tr>\n",
       "  </tbody>\n",
       "</table>\n",
       "<p>5 rows × 24 columns</p>\n",
       "</div>"
      ],
      "text/plain": [
       "   Price  RegistrationYear  Gearbox  Power  Model  Kilometer  \\\n",
       "0    480              1993        2      0    117     150000   \n",
       "1  18300              2011        2    190     26     125000   \n",
       "2   9800              2004        1    163    118     125000   \n",
       "3   1500              2001        2     75    117     150000   \n",
       "4   3600              2008        2     69    102      90000   \n",
       "\n",
       "   RegistrationMonth  Brand  NotRepaired  VehicleType_bus  ...  \\\n",
       "0                  0     38            0                0  ...   \n",
       "1                  5      1            2                0  ...   \n",
       "2                  8     14            0                0  ...   \n",
       "3                  6     38            1                0  ...   \n",
       "4                  7     31            1                0  ...   \n",
       "\n",
       "   VehicleType_small  VehicleType_suv  VehicleType_wagon  FuelType_cng  \\\n",
       "0                  0                0                  0             0   \n",
       "1                  0                0                  0             0   \n",
       "2                  0                1                  0             0   \n",
       "3                  1                0                  0             0   \n",
       "4                  1                0                  0             0   \n",
       "\n",
       "   FuelType_electric  FuelType_gasoline  FuelType_hybrid  FuelType_lpg  \\\n",
       "0                  0                  0                0             0   \n",
       "1                  0                  1                0             0   \n",
       "2                  0                  1                0             0   \n",
       "3                  0                  0                0             0   \n",
       "4                  0                  1                0             0   \n",
       "\n",
       "   FuelType_other  FuelType_petrol  \n",
       "0               0                1  \n",
       "1               0                0  \n",
       "2               0                0  \n",
       "3               0                1  \n",
       "4               0                0  \n",
       "\n",
       "[5 rows x 24 columns]"
      ]
     },
     "execution_count": 10,
     "metadata": {},
     "output_type": "execute_result"
    }
   ],
   "source": [
    "df.head()"
   ]
  },
  {
   "cell_type": "markdown",
   "metadata": {},
   "source": [
    "<div class=\"alert alert-warning\">\n",
    "<h1>Комментарий ревьюера <a class=\"tocSkip\"></a></h1>\n",
    "а ты уверен, что для всех столбцов подходит LE? Почему не используешь OHE?\n",
    "</div>"
   ]
  },
  {
   "cell_type": "markdown",
   "metadata": {},
   "source": [
    "<div class=\"alert alert-info\">\n",
    "<h3>Комментарий студента <a class=\"tocSkip\"></a></h3>\n",
    "Done\n",
    "</div>"
   ]
  },
  {
   "cell_type": "markdown",
   "metadata": {},
   "source": [
    "<div class=\"alert alert-success\">\n",
    "<h1>Комментарий ревьюера v2 <a class=\"tocSkip\"></a></h1>\n",
    "👍\n",
    "</div>"
   ]
  },
  {
   "cell_type": "code",
   "execution_count": 11,
   "metadata": {},
   "outputs": [],
   "source": [
    "# Стандартизируем признаки с помощью StandardScaler\n",
    "\n",
    "scaler = StandardScaler()\n",
    "numeric = ['RegistrationYear','Power','Kilometer']\n",
    "scaler.fit(df[numeric])\n",
    "df[numeric] = scaler.transform(df[numeric])"
   ]
  },
  {
   "cell_type": "code",
   "execution_count": 12,
   "metadata": {},
   "outputs": [
    {
     "name": "stdout",
     "output_type": "stream",
     "text": [
      "<class 'pandas.core.frame.DataFrame'>\n",
      "Int64Index: 326525 entries, 0 to 326825\n",
      "Data columns (total 24 columns):\n",
      "Price                      326525 non-null int64\n",
      "RegistrationYear           326525 non-null float64\n",
      "Gearbox                    326525 non-null int64\n",
      "Power                      326525 non-null float64\n",
      "Model                      326525 non-null int64\n",
      "Kilometer                  326525 non-null float64\n",
      "RegistrationMonth          326525 non-null int64\n",
      "Brand                      326525 non-null int64\n",
      "NotRepaired                326525 non-null int64\n",
      "VehicleType_bus            326525 non-null uint8\n",
      "VehicleType_convertible    326525 non-null uint8\n",
      "VehicleType_coupe          326525 non-null uint8\n",
      "VehicleType_other          326525 non-null uint8\n",
      "VehicleType_sedan          326525 non-null uint8\n",
      "VehicleType_small          326525 non-null uint8\n",
      "VehicleType_suv            326525 non-null uint8\n",
      "VehicleType_wagon          326525 non-null uint8\n",
      "FuelType_cng               326525 non-null uint8\n",
      "FuelType_electric          326525 non-null uint8\n",
      "FuelType_gasoline          326525 non-null uint8\n",
      "FuelType_hybrid            326525 non-null uint8\n",
      "FuelType_lpg               326525 non-null uint8\n",
      "FuelType_other             326525 non-null uint8\n",
      "FuelType_petrol            326525 non-null uint8\n",
      "dtypes: float64(3), int64(6), uint8(15)\n",
      "memory usage: 29.6 MB\n"
     ]
    }
   ],
   "source": [
    "df.info()"
   ]
  },
  {
   "cell_type": "markdown",
   "metadata": {},
   "source": [
    "<div class=\"alert alert-success\">\n",
    "<h1>Комментарий ревьюера <a class=\"tocSkip\"></a></h1>\n",
    "Да, верное решение о масштабировании признаков\n",
    "</div>"
   ]
  },
  {
   "cell_type": "markdown",
   "metadata": {},
   "source": [
    "Данные подготовлены для дальнейшей работы."
   ]
  },
  {
   "cell_type": "markdown",
   "metadata": {},
   "source": [
    "<a href='#top'>Back to top</a>"
   ]
  },
  {
   "cell_type": "markdown",
   "metadata": {},
   "source": [
    "<a id='section_2'></a>\n",
    "## Обучение моделей"
   ]
  },
  {
   "cell_type": "code",
   "execution_count": 13,
   "metadata": {
    "scrolled": true
   },
   "outputs": [],
   "source": [
    "# Выделим признаки для обучения и целевой признак\n",
    "# для работы модели линейной регрессии\n",
    "\n",
    "X = df.drop(columns=['Price'], axis=1)\n",
    "y = df['Price']"
   ]
  },
  {
   "cell_type": "code",
   "execution_count": 14,
   "metadata": {},
   "outputs": [
    {
     "name": "stdout",
     "output_type": "stream",
     "text": [
      "(195915, 23)\n",
      "(65305, 23)\n",
      "(65305, 23)\n",
      "(195915,)\n",
      "(65305,)\n",
      "(65305,)\n"
     ]
    }
   ],
   "source": [
    "# Разделим датасет на обучающую, тестовую и валидационную выборки\n",
    "# в соотношении 60:20:20\n",
    "\n",
    "rnd_state = 260686\n",
    "\n",
    "X_train, X_valid, y_train, y_valid = train_test_split(X, y, test_size=0.4, random_state=rnd_state)\n",
    "X_valid, X_test, y_valid, y_test = train_test_split(X_valid, y_valid, test_size=0.5, random_state=rnd_state)\n",
    "\n",
    "print(X_train.shape)\n",
    "print(X_valid.shape)\n",
    "print(X_test.shape)\n",
    "print(y_train.shape)\n",
    "print(y_valid.shape)\n",
    "print(y_test.shape)"
   ]
  },
  {
   "cell_type": "markdown",
   "metadata": {},
   "source": [
    "<div class=\"alert alert-danger\">\n",
    "<h1>Комментарий ревьюера <a class=\"tocSkip\"></a></h1>\n",
    "Я все же попрошу тебя разделить на 3 части датасет. Обучающая, валидационную и тестовую\n",
    "</div>"
   ]
  },
  {
   "cell_type": "markdown",
   "metadata": {},
   "source": [
    "<div class=\"alert alert-info\">\n",
    "<h3>Комментарий студента <a class=\"tocSkip\"></a></h3>\n",
    "Done\n",
    "</div>"
   ]
  },
  {
   "cell_type": "markdown",
   "metadata": {},
   "source": [
    "<a id='section_2_1'></a>\n",
    "### CatBoost"
   ]
  },
  {
   "cell_type": "code",
   "execution_count": 15,
   "metadata": {},
   "outputs": [],
   "source": [
    "#вызовем CatBoost с нашими параметрами\n",
    "\n",
    "cat_features = ['Gearbox', 'Model', 'Brand','NotRepaired']\n",
    "model_cbr = CatBoostRegressor(cat_features=cat_features)"
   ]
  },
  {
   "cell_type": "code",
   "execution_count": 16,
   "metadata": {
    "scrolled": true
   },
   "outputs": [
    {
     "name": "stdout",
     "output_type": "stream",
     "text": [
      "0:\tlearn: 4428.7727478\ttest: 4450.6092439\tbest: 4450.6092439 (0)\ttotal: 728ms\tremaining: 12m 7s\n",
      "200:\tlearn: 1976.5550446\ttest: 1992.0210162\tbest: 1992.0210162 (200)\ttotal: 1m 55s\tremaining: 7m 38s\n",
      "400:\tlearn: 1873.0958589\ttest: 1896.2029823\tbest: 1896.2029823 (400)\ttotal: 3m 54s\tremaining: 5m 49s\n",
      "600:\tlearn: 1826.0668939\ttest: 1858.0395409\tbest: 1858.0395409 (600)\ttotal: 5m 56s\tremaining: 3m 56s\n",
      "800:\tlearn: 1798.6945586\ttest: 1838.3241800\tbest: 1838.3241800 (800)\ttotal: 7m 51s\tremaining: 1m 57s\n",
      "999:\tlearn: 1777.7502130\ttest: 1823.1145502\tbest: 1823.1145502 (999)\ttotal: 9m 45s\tremaining: 0us\n",
      "\n",
      "bestTest = 1823.11455\n",
      "bestIteration = 999\n",
      "\n",
      "CPU times: user 8min 47s, sys: 60 s, total: 9min 47s\n",
      "Wall time: 9min 50s\n"
     ]
    }
   ],
   "source": [
    "%%time\n",
    "start = time.time()\n",
    "model_cbr.fit(X_train, y_train, eval_set=(X_valid, y_valid), verbose=200)\n",
    "end = time.time()\n",
    "catboost_time = end - start"
   ]
  },
  {
   "cell_type": "code",
   "execution_count": 17,
   "metadata": {
    "scrolled": false
   },
   "outputs": [
    {
     "name": "stdout",
     "output_type": "stream",
     "text": [
      "RMSE= 1823.1145501929789\n",
      "Learning time= 590.2369091510773\n",
      "Predicting time= 0.45092272758483887\n"
     ]
    }
   ],
   "source": [
    "start = time.time()\n",
    "predictions = model_cbr.predict(X_valid)\n",
    "end = time.time()\n",
    "catboost_time_predicting = end - start\n",
    "catboost_rmse = np.sqrt(((predictions - y_valid) ** 2).mean())\n",
    "print('RMSE=', catboost_rmse)\n",
    "print('Learning time=', catboost_time)\n",
    "print('Predicting time=', catboost_time_predicting)"
   ]
  },
  {
   "cell_type": "markdown",
   "metadata": {},
   "source": [
    "<a href='#top'>Back to top</a>"
   ]
  },
  {
   "cell_type": "markdown",
   "metadata": {},
   "source": [
    "<a id='section_2_2'></a>\n",
    "### LightGBM"
   ]
  },
  {
   "cell_type": "code",
   "execution_count": 18,
   "metadata": {},
   "outputs": [],
   "source": [
    "#вызовем LightGBM с нашими параметрами\n",
    "\n",
    "model_lgb = lgb.LGBMRegressor()"
   ]
  },
  {
   "cell_type": "code",
   "execution_count": 19,
   "metadata": {
    "scrolled": true
   },
   "outputs": [
    {
     "name": "stderr",
     "output_type": "stream",
     "text": [
      "/opt/conda/lib/python3.7/site-packages/lightgbm/basic.py:1295: UserWarning: categorical_feature in Dataset is overridden.\n",
      "New categorical_feature is ['Brand', 'Gearbox', 'Model', 'NotRepaired']\n",
      "  'New categorical_feature is {}'.format(sorted(list(categorical_feature))))\n"
     ]
    },
    {
     "name": "stdout",
     "output_type": "stream",
     "text": [
      "[1]\tvalid_0's rmse: 4219\tvalid_0's l2: 1.78e+07\n",
      "[2]\tvalid_0's rmse: 3939.77\tvalid_0's l2: 1.55218e+07\n",
      "[3]\tvalid_0's rmse: 3695.44\tvalid_0's l2: 1.36563e+07\n",
      "[4]\tvalid_0's rmse: 3484.75\tvalid_0's l2: 1.21435e+07\n",
      "[5]\tvalid_0's rmse: 3297.68\tvalid_0's l2: 1.08747e+07\n",
      "[6]\tvalid_0's rmse: 3132.92\tvalid_0's l2: 9.81517e+06\n",
      "[7]\tvalid_0's rmse: 2982.44\tvalid_0's l2: 8.89493e+06\n",
      "[8]\tvalid_0's rmse: 2855.28\tvalid_0's l2: 8.15265e+06\n",
      "[9]\tvalid_0's rmse: 2736.64\tvalid_0's l2: 7.4892e+06\n",
      "[10]\tvalid_0's rmse: 2637.67\tvalid_0's l2: 6.95732e+06\n",
      "[11]\tvalid_0's rmse: 2548.26\tvalid_0's l2: 6.49365e+06\n",
      "[12]\tvalid_0's rmse: 2470.37\tvalid_0's l2: 6.10272e+06\n",
      "[13]\tvalid_0's rmse: 2401.84\tvalid_0's l2: 5.76883e+06\n",
      "[14]\tvalid_0's rmse: 2342.56\tvalid_0's l2: 5.48757e+06\n",
      "[15]\tvalid_0's rmse: 2290.15\tvalid_0's l2: 5.2448e+06\n",
      "[16]\tvalid_0's rmse: 2243.97\tvalid_0's l2: 5.0354e+06\n",
      "[17]\tvalid_0's rmse: 2201.44\tvalid_0's l2: 4.84635e+06\n",
      "[18]\tvalid_0's rmse: 2165.11\tvalid_0's l2: 4.68769e+06\n",
      "[19]\tvalid_0's rmse: 2132.31\tvalid_0's l2: 4.54673e+06\n",
      "[20]\tvalid_0's rmse: 2103.64\tvalid_0's l2: 4.4253e+06\n",
      "[21]\tvalid_0's rmse: 2078.61\tvalid_0's l2: 4.32063e+06\n",
      "[22]\tvalid_0's rmse: 2056.11\tvalid_0's l2: 4.2276e+06\n",
      "[23]\tvalid_0's rmse: 2034.74\tvalid_0's l2: 4.14017e+06\n",
      "[24]\tvalid_0's rmse: 2016.49\tvalid_0's l2: 4.06622e+06\n",
      "[25]\tvalid_0's rmse: 1999.78\tvalid_0's l2: 3.99913e+06\n",
      "[26]\tvalid_0's rmse: 1986\tvalid_0's l2: 3.94419e+06\n",
      "[27]\tvalid_0's rmse: 1972.94\tvalid_0's l2: 3.89248e+06\n",
      "[28]\tvalid_0's rmse: 1961.17\tvalid_0's l2: 3.84618e+06\n",
      "[29]\tvalid_0's rmse: 1951.01\tvalid_0's l2: 3.80646e+06\n",
      "[30]\tvalid_0's rmse: 1941.64\tvalid_0's l2: 3.76995e+06\n",
      "[31]\tvalid_0's rmse: 1933.75\tvalid_0's l2: 3.73939e+06\n",
      "[32]\tvalid_0's rmse: 1925.89\tvalid_0's l2: 3.70906e+06\n",
      "[33]\tvalid_0's rmse: 1918.64\tvalid_0's l2: 3.68117e+06\n",
      "[34]\tvalid_0's rmse: 1911.43\tvalid_0's l2: 3.65358e+06\n",
      "[35]\tvalid_0's rmse: 1906.09\tvalid_0's l2: 3.63317e+06\n",
      "[36]\tvalid_0's rmse: 1900.93\tvalid_0's l2: 3.61354e+06\n",
      "[37]\tvalid_0's rmse: 1894.14\tvalid_0's l2: 3.58778e+06\n",
      "[38]\tvalid_0's rmse: 1889.97\tvalid_0's l2: 3.57199e+06\n",
      "[39]\tvalid_0's rmse: 1884.31\tvalid_0's l2: 3.55063e+06\n",
      "[40]\tvalid_0's rmse: 1879.78\tvalid_0's l2: 3.53359e+06\n",
      "[41]\tvalid_0's rmse: 1875.63\tvalid_0's l2: 3.51797e+06\n",
      "[42]\tvalid_0's rmse: 1871.77\tvalid_0's l2: 3.50352e+06\n",
      "[43]\tvalid_0's rmse: 1868.44\tvalid_0's l2: 3.49108e+06\n",
      "[44]\tvalid_0's rmse: 1865.34\tvalid_0's l2: 3.4795e+06\n",
      "[45]\tvalid_0's rmse: 1861.52\tvalid_0's l2: 3.46527e+06\n",
      "[46]\tvalid_0's rmse: 1859.13\tvalid_0's l2: 3.45635e+06\n",
      "[47]\tvalid_0's rmse: 1856.31\tvalid_0's l2: 3.44589e+06\n",
      "[48]\tvalid_0's rmse: 1853.01\tvalid_0's l2: 3.43366e+06\n",
      "[49]\tvalid_0's rmse: 1851.37\tvalid_0's l2: 3.42759e+06\n",
      "[50]\tvalid_0's rmse: 1848.8\tvalid_0's l2: 3.41805e+06\n",
      "[51]\tvalid_0's rmse: 1845.25\tvalid_0's l2: 3.40496e+06\n",
      "[52]\tvalid_0's rmse: 1843.79\tvalid_0's l2: 3.39956e+06\n",
      "[53]\tvalid_0's rmse: 1841.47\tvalid_0's l2: 3.39103e+06\n",
      "[54]\tvalid_0's rmse: 1839.33\tvalid_0's l2: 3.38313e+06\n",
      "[55]\tvalid_0's rmse: 1838.07\tvalid_0's l2: 3.3785e+06\n",
      "[56]\tvalid_0's rmse: 1835.84\tvalid_0's l2: 3.37032e+06\n",
      "[57]\tvalid_0's rmse: 1834.04\tvalid_0's l2: 3.36372e+06\n",
      "[58]\tvalid_0's rmse: 1832.24\tvalid_0's l2: 3.35711e+06\n",
      "[59]\tvalid_0's rmse: 1830.11\tvalid_0's l2: 3.34929e+06\n",
      "[60]\tvalid_0's rmse: 1829.33\tvalid_0's l2: 3.34644e+06\n",
      "[61]\tvalid_0's rmse: 1827.19\tvalid_0's l2: 3.33861e+06\n",
      "[62]\tvalid_0's rmse: 1825.46\tvalid_0's l2: 3.33231e+06\n",
      "[63]\tvalid_0's rmse: 1824.82\tvalid_0's l2: 3.32996e+06\n",
      "[64]\tvalid_0's rmse: 1823.5\tvalid_0's l2: 3.32516e+06\n",
      "[65]\tvalid_0's rmse: 1822.35\tvalid_0's l2: 3.32097e+06\n",
      "[66]\tvalid_0's rmse: 1821.1\tvalid_0's l2: 3.31641e+06\n",
      "[67]\tvalid_0's rmse: 1819.17\tvalid_0's l2: 3.30939e+06\n",
      "[68]\tvalid_0's rmse: 1818.05\tvalid_0's l2: 3.30532e+06\n",
      "[69]\tvalid_0's rmse: 1816.84\tvalid_0's l2: 3.30089e+06\n",
      "[70]\tvalid_0's rmse: 1815.88\tvalid_0's l2: 3.29742e+06\n",
      "[71]\tvalid_0's rmse: 1814.58\tvalid_0's l2: 3.2927e+06\n",
      "[72]\tvalid_0's rmse: 1813.18\tvalid_0's l2: 3.28762e+06\n",
      "[73]\tvalid_0's rmse: 1812.02\tvalid_0's l2: 3.28342e+06\n",
      "[74]\tvalid_0's rmse: 1811.55\tvalid_0's l2: 3.2817e+06\n",
      "[75]\tvalid_0's rmse: 1810.31\tvalid_0's l2: 3.27723e+06\n",
      "[76]\tvalid_0's rmse: 1809.77\tvalid_0's l2: 3.27527e+06\n",
      "[77]\tvalid_0's rmse: 1808.68\tvalid_0's l2: 3.27133e+06\n",
      "[78]\tvalid_0's rmse: 1807.78\tvalid_0's l2: 3.26806e+06\n",
      "[79]\tvalid_0's rmse: 1806.54\tvalid_0's l2: 3.26357e+06\n",
      "[80]\tvalid_0's rmse: 1805.84\tvalid_0's l2: 3.26105e+06\n",
      "[81]\tvalid_0's rmse: 1805.23\tvalid_0's l2: 3.25887e+06\n",
      "[82]\tvalid_0's rmse: 1804.01\tvalid_0's l2: 3.25447e+06\n",
      "[83]\tvalid_0's rmse: 1803.01\tvalid_0's l2: 3.25083e+06\n",
      "[84]\tvalid_0's rmse: 1802.26\tvalid_0's l2: 3.24813e+06\n",
      "[85]\tvalid_0's rmse: 1801.61\tvalid_0's l2: 3.24579e+06\n",
      "[86]\tvalid_0's rmse: 1801.25\tvalid_0's l2: 3.24452e+06\n",
      "[87]\tvalid_0's rmse: 1801.05\tvalid_0's l2: 3.2438e+06\n",
      "[88]\tvalid_0's rmse: 1800.58\tvalid_0's l2: 3.2421e+06\n",
      "[89]\tvalid_0's rmse: 1800.04\tvalid_0's l2: 3.24016e+06\n",
      "[90]\tvalid_0's rmse: 1799.48\tvalid_0's l2: 3.23812e+06\n",
      "[91]\tvalid_0's rmse: 1799.13\tvalid_0's l2: 3.23688e+06\n",
      "[92]\tvalid_0's rmse: 1798.96\tvalid_0's l2: 3.23624e+06\n",
      "[93]\tvalid_0's rmse: 1798.27\tvalid_0's l2: 3.23376e+06\n",
      "[94]\tvalid_0's rmse: 1797.55\tvalid_0's l2: 3.23119e+06\n",
      "[95]\tvalid_0's rmse: 1796.92\tvalid_0's l2: 3.22892e+06\n",
      "[96]\tvalid_0's rmse: 1796.47\tvalid_0's l2: 3.22729e+06\n",
      "[97]\tvalid_0's rmse: 1795.38\tvalid_0's l2: 3.2234e+06\n",
      "[98]\tvalid_0's rmse: 1794.6\tvalid_0's l2: 3.2206e+06\n",
      "[99]\tvalid_0's rmse: 1794.15\tvalid_0's l2: 3.21898e+06\n",
      "[100]\tvalid_0's rmse: 1793.69\tvalid_0's l2: 3.21731e+06\n",
      "CPU times: user 9.94 s, sys: 32.9 ms, total: 9.98 s\n",
      "Wall time: 10.2 s\n"
     ]
    }
   ],
   "source": [
    "%%time\n",
    "start = time.time()\n",
    "model_lgb.fit(X_train, y_train, eval_set=[(X_valid, y_valid)], eval_metric='rmse', categorical_feature=cat_features)\n",
    "end = time.time()\n",
    "lightgbm_time = end - start"
   ]
  },
  {
   "cell_type": "code",
   "execution_count": 20,
   "metadata": {
    "scrolled": true
   },
   "outputs": [
    {
     "name": "stdout",
     "output_type": "stream",
     "text": [
      "RMSE= 1793.6851135623533\n",
      "Learning time= 10.17509937286377\n",
      "Predicting time= 0.8935346603393555\n"
     ]
    }
   ],
   "source": [
    "start = time.time()\n",
    "predictions = model_lgb.predict(X_valid)\n",
    "end = time.time()\n",
    "lightgbm_time_predicting = end - start\n",
    "lightgbm_rmse = np.sqrt(((predictions - y_valid) ** 2).mean())\n",
    "print('RMSE=', lightgbm_rmse)\n",
    "print('Learning time=', lightgbm_time)\n",
    "print('Predicting time=', lightgbm_time_predicting)"
   ]
  },
  {
   "cell_type": "markdown",
   "metadata": {},
   "source": [
    "<a href='#top'>Back to top</a>"
   ]
  },
  {
   "cell_type": "markdown",
   "metadata": {},
   "source": [
    "<a id='section_2_3'></a>\n",
    "### Linear Regression"
   ]
  },
  {
   "cell_type": "code",
   "execution_count": 21,
   "metadata": {},
   "outputs": [],
   "source": [
    "# Вызовем модель линейной регрессии\n",
    "\n",
    "model_lr = LinearRegression()"
   ]
  },
  {
   "cell_type": "code",
   "execution_count": 22,
   "metadata": {
    "scrolled": true
   },
   "outputs": [
    {
     "name": "stdout",
     "output_type": "stream",
     "text": [
      "CPU times: user 238 ms, sys: 96.2 ms, total: 334 ms\n",
      "Wall time: 372 ms\n"
     ]
    }
   ],
   "source": [
    "%%time\n",
    "start = time.time()\n",
    "model_lr.fit(X_train,y_train)\n",
    "end = time.time()\n",
    "linear_time = end - start"
   ]
  },
  {
   "cell_type": "code",
   "execution_count": 23,
   "metadata": {
    "scrolled": true
   },
   "outputs": [
    {
     "name": "stdout",
     "output_type": "stream",
     "text": [
      "RMSE= 3312.8667577792935\n",
      "Learning time= 0.37232422828674316\n",
      "Predicting time= 0.006238698959350586\n"
     ]
    }
   ],
   "source": [
    "start = time.time()\n",
    "predictions = model_lr.predict(X_valid)\n",
    "end = time.time()\n",
    "linearregression_time_predicting = end - start\n",
    "linearregression_rmse = np.sqrt(((predictions - y_valid) ** 2).mean())\n",
    "print('RMSE=', linearregression_rmse)\n",
    "print('Learning time=', linear_time)\n",
    "print('Predicting time=', linearregression_time_predicting)"
   ]
  },
  {
   "cell_type": "markdown",
   "metadata": {},
   "source": [
    "<div class=\"alert alert-success\">\n",
    "<h1>Комментарий ревьюера <a class=\"tocSkip\"></a></h1>\n",
    "Да, отдельный лайк за то,что измеряешь время работы моделей!\n",
    "</div>"
   ]
  },
  {
   "cell_type": "markdown",
   "metadata": {},
   "source": [
    "<div class=\"alert alert-warning\">\n",
    "<h1>Комментарий ревьюера <a class=\"tocSkip\"></a></h1>\n",
    "Кстати, обучение моделей и предсказание: вот эту все логику можно оформить  в виде функции, для последующего переиспользования. Так код будет чище и в него будет легче вносить изменения. Плюс станет нагляднее_)\n",
    "</div>"
   ]
  },
  {
   "cell_type": "markdown",
   "metadata": {},
   "source": [
    "<div class=\"alert alert-danger\">\n",
    "<h1>Комментарий ревьюера <a class=\"tocSkip\"></a></h1>\n",
    "Не хватает поиска оптимальных параметров модели через GridSearchCV. Несмотря на то,что ты побил бейзлайн, я тебя попрошу осуществить поиск гиперпараметров для закрепления теории\n",
    "</div>"
   ]
  },
  {
   "cell_type": "markdown",
   "metadata": {},
   "source": [
    "<div class=\"alert alert-info\">\n",
    "<h3>Комментарий студента <a class=\"tocSkip\"></a></h3>\n",
    "Done\n",
    "</div>"
   ]
  },
  {
   "cell_type": "markdown",
   "metadata": {},
   "source": [
    "<a href='#top'>Back to top</a>"
   ]
  },
  {
   "cell_type": "markdown",
   "metadata": {},
   "source": [
    "<a id='section_3'></a>\n",
    "## Анализ моделей"
   ]
  },
  {
   "cell_type": "code",
   "execution_count": 24,
   "metadata": {
    "scrolled": false
   },
   "outputs": [
    {
     "data": {
      "text/html": [
       "<div>\n",
       "<style scoped>\n",
       "    .dataframe tbody tr th:only-of-type {\n",
       "        vertical-align: middle;\n",
       "    }\n",
       "\n",
       "    .dataframe tbody tr th {\n",
       "        vertical-align: top;\n",
       "    }\n",
       "\n",
       "    .dataframe thead th {\n",
       "        text-align: right;\n",
       "    }\n",
       "</style>\n",
       "<table border=\"1\" class=\"dataframe\">\n",
       "  <thead>\n",
       "    <tr style=\"text-align: right;\">\n",
       "      <th></th>\n",
       "      <th>CatBoost</th>\n",
       "      <th>LightGBM</th>\n",
       "      <th>LinearRegression</th>\n",
       "    </tr>\n",
       "  </thead>\n",
       "  <tbody>\n",
       "    <tr>\n",
       "      <td>RMSE</td>\n",
       "      <td>1823.114550</td>\n",
       "      <td>1793.685114</td>\n",
       "      <td>3312.866758</td>\n",
       "    </tr>\n",
       "    <tr>\n",
       "      <td>LearningTime</td>\n",
       "      <td>590.236909</td>\n",
       "      <td>10.175099</td>\n",
       "      <td>0.372324</td>\n",
       "    </tr>\n",
       "    <tr>\n",
       "      <td>PredictingTime</td>\n",
       "      <td>0.450923</td>\n",
       "      <td>0.893535</td>\n",
       "      <td>0.006239</td>\n",
       "    </tr>\n",
       "  </tbody>\n",
       "</table>\n",
       "</div>"
      ],
      "text/plain": [
       "                   CatBoost     LightGBM  LinearRegression\n",
       "RMSE            1823.114550  1793.685114       3312.866758\n",
       "LearningTime     590.236909    10.175099          0.372324\n",
       "PredictingTime     0.450923     0.893535          0.006239"
      ]
     },
     "execution_count": 24,
     "metadata": {},
     "output_type": "execute_result"
    }
   ],
   "source": [
    "summary = pd.DataFrame(\n",
    "    data={'CatBoost': [catboost_rmse, catboost_time, catboost_time_predicting],\n",
    "          'LightGBM': [lightgbm_rmse, lightgbm_time, lightgbm_time_predicting],\n",
    "         'LinearRegression': [linearregression_rmse, linear_time, linearregression_time_predicting]\n",
    "         },\n",
    "    index=['RMSE','LearningTime','PredictingTime']\n",
    ")\n",
    "summary"
   ]
  },
  {
   "cell_type": "markdown",
   "metadata": {},
   "source": [
    "* Лучшее время обучения показала модель линейной регрессии - `0.33 сек`\n",
    "* Лучшее время предсказания также показала модель линейной регрессии - `0.005 сек`, однако, и остальные модели укладываются по этому параметру в границах 1 сек\n",
    "* Лучшую RMSE показала модель LightGBM - `1794`."
   ]
  },
  {
   "cell_type": "markdown",
   "metadata": {},
   "source": [
    "Попробуем улучшить модель LightGBM за счет вариации параметров. Проведем подбор параметров методом GridSearchCV."
   ]
  },
  {
   "cell_type": "code",
   "execution_count": 25,
   "metadata": {
    "scrolled": true
   },
   "outputs": [
    {
     "name": "stdout",
     "output_type": "stream",
     "text": [
      "LGBMRegressor(boosting_type='gbdt', class_weight=None, colsample_bytree=1.0,\n",
      "              importance_type='split', learning_rate=0.1, max_depth=-1,\n",
      "              min_child_samples=20, min_child_weight=0.001, min_split_gain=0.0,\n",
      "              n_estimators=100, n_jobs=-1, num_leaves=31, objective=None,\n",
      "              random_state=None, reg_alpha=0.0, reg_lambda=0.0, silent=True,\n",
      "              subsample=0.75, subsample_for_bin=200000, subsample_freq=0)\n"
     ]
    }
   ],
   "source": [
    "# Проведем кросс-валидацию с помощью kFold с делением на 5 частей\n",
    "cv = KFold(n_splits=5, shuffle=False)\n",
    "\n",
    "# Выберем параметры для подбора оптимальных с GridSearchCV\n",
    "param_grid = [\n",
    "    {\n",
    "        'n_estimators': [80,100],\n",
    "        'num_leaves': [12,16,31],\n",
    "        'subsample' : [0.75, 1.0],\n",
    "    } \n",
    "]\n",
    "\n",
    "grid = GridSearchCV(estimator=lgb.LGBMRegressor(), param_grid=param_grid, cv=cv)\n",
    "grid.fit(X_train, y_train)\n",
    "print(grid.best_estimator_)"
   ]
  },
  {
   "cell_type": "markdown",
   "metadata": {},
   "source": [
    "<div class=\"alert alert-success\">\n",
    "<h1>Комментарий ревьюера v2 <a class=\"tocSkip\"></a></h1>\n",
    "👍\n",
    "</div>"
   ]
  },
  {
   "cell_type": "code",
   "execution_count": 26,
   "metadata": {},
   "outputs": [],
   "source": [
    "#вызовем LightGBM с нашими параметрами\n",
    "\n",
    "model_lgb = lgb.LGBMRegressor(n_estimators=100, num_leaves=31, subsample=0.75)"
   ]
  },
  {
   "cell_type": "code",
   "execution_count": 27,
   "metadata": {
    "scrolled": true
   },
   "outputs": [
    {
     "name": "stderr",
     "output_type": "stream",
     "text": [
      "/opt/conda/lib/python3.7/site-packages/lightgbm/basic.py:1295: UserWarning: categorical_feature in Dataset is overridden.\n",
      "New categorical_feature is ['Brand', 'Gearbox', 'Model', 'NotRepaired']\n",
      "  'New categorical_feature is {}'.format(sorted(list(categorical_feature))))\n"
     ]
    },
    {
     "name": "stdout",
     "output_type": "stream",
     "text": [
      "[1]\tvalid_0's rmse: 4219\tvalid_0's l2: 1.78e+07\n",
      "[2]\tvalid_0's rmse: 3939.77\tvalid_0's l2: 1.55218e+07\n",
      "[3]\tvalid_0's rmse: 3695.44\tvalid_0's l2: 1.36563e+07\n",
      "[4]\tvalid_0's rmse: 3484.75\tvalid_0's l2: 1.21435e+07\n",
      "[5]\tvalid_0's rmse: 3297.68\tvalid_0's l2: 1.08747e+07\n",
      "[6]\tvalid_0's rmse: 3132.92\tvalid_0's l2: 9.81517e+06\n",
      "[7]\tvalid_0's rmse: 2982.44\tvalid_0's l2: 8.89493e+06\n",
      "[8]\tvalid_0's rmse: 2855.28\tvalid_0's l2: 8.15265e+06\n",
      "[9]\tvalid_0's rmse: 2736.64\tvalid_0's l2: 7.4892e+06\n",
      "[10]\tvalid_0's rmse: 2637.67\tvalid_0's l2: 6.95732e+06\n",
      "[11]\tvalid_0's rmse: 2548.26\tvalid_0's l2: 6.49365e+06\n",
      "[12]\tvalid_0's rmse: 2470.37\tvalid_0's l2: 6.10272e+06\n",
      "[13]\tvalid_0's rmse: 2401.84\tvalid_0's l2: 5.76883e+06\n",
      "[14]\tvalid_0's rmse: 2342.56\tvalid_0's l2: 5.48757e+06\n",
      "[15]\tvalid_0's rmse: 2290.15\tvalid_0's l2: 5.2448e+06\n",
      "[16]\tvalid_0's rmse: 2243.97\tvalid_0's l2: 5.0354e+06\n",
      "[17]\tvalid_0's rmse: 2201.44\tvalid_0's l2: 4.84635e+06\n",
      "[18]\tvalid_0's rmse: 2165.11\tvalid_0's l2: 4.68769e+06\n",
      "[19]\tvalid_0's rmse: 2132.31\tvalid_0's l2: 4.54673e+06\n",
      "[20]\tvalid_0's rmse: 2103.64\tvalid_0's l2: 4.4253e+06\n",
      "[21]\tvalid_0's rmse: 2078.61\tvalid_0's l2: 4.32063e+06\n",
      "[22]\tvalid_0's rmse: 2056.11\tvalid_0's l2: 4.2276e+06\n",
      "[23]\tvalid_0's rmse: 2034.74\tvalid_0's l2: 4.14017e+06\n",
      "[24]\tvalid_0's rmse: 2016.49\tvalid_0's l2: 4.06622e+06\n",
      "[25]\tvalid_0's rmse: 1999.78\tvalid_0's l2: 3.99913e+06\n",
      "[26]\tvalid_0's rmse: 1986\tvalid_0's l2: 3.94419e+06\n",
      "[27]\tvalid_0's rmse: 1972.94\tvalid_0's l2: 3.89248e+06\n",
      "[28]\tvalid_0's rmse: 1961.17\tvalid_0's l2: 3.84618e+06\n",
      "[29]\tvalid_0's rmse: 1951.01\tvalid_0's l2: 3.80646e+06\n",
      "[30]\tvalid_0's rmse: 1941.64\tvalid_0's l2: 3.76995e+06\n",
      "[31]\tvalid_0's rmse: 1933.75\tvalid_0's l2: 3.73939e+06\n",
      "[32]\tvalid_0's rmse: 1925.89\tvalid_0's l2: 3.70906e+06\n",
      "[33]\tvalid_0's rmse: 1918.64\tvalid_0's l2: 3.68117e+06\n",
      "[34]\tvalid_0's rmse: 1911.43\tvalid_0's l2: 3.65358e+06\n",
      "[35]\tvalid_0's rmse: 1906.09\tvalid_0's l2: 3.63317e+06\n",
      "[36]\tvalid_0's rmse: 1900.93\tvalid_0's l2: 3.61354e+06\n",
      "[37]\tvalid_0's rmse: 1894.14\tvalid_0's l2: 3.58778e+06\n",
      "[38]\tvalid_0's rmse: 1889.97\tvalid_0's l2: 3.57199e+06\n",
      "[39]\tvalid_0's rmse: 1884.31\tvalid_0's l2: 3.55063e+06\n",
      "[40]\tvalid_0's rmse: 1879.78\tvalid_0's l2: 3.53359e+06\n",
      "[41]\tvalid_0's rmse: 1875.63\tvalid_0's l2: 3.51797e+06\n",
      "[42]\tvalid_0's rmse: 1871.77\tvalid_0's l2: 3.50352e+06\n",
      "[43]\tvalid_0's rmse: 1868.44\tvalid_0's l2: 3.49108e+06\n",
      "[44]\tvalid_0's rmse: 1865.34\tvalid_0's l2: 3.4795e+06\n",
      "[45]\tvalid_0's rmse: 1861.52\tvalid_0's l2: 3.46527e+06\n",
      "[46]\tvalid_0's rmse: 1859.13\tvalid_0's l2: 3.45635e+06\n",
      "[47]\tvalid_0's rmse: 1856.31\tvalid_0's l2: 3.44589e+06\n",
      "[48]\tvalid_0's rmse: 1853.01\tvalid_0's l2: 3.43366e+06\n",
      "[49]\tvalid_0's rmse: 1851.37\tvalid_0's l2: 3.42759e+06\n",
      "[50]\tvalid_0's rmse: 1848.8\tvalid_0's l2: 3.41805e+06\n",
      "[51]\tvalid_0's rmse: 1845.25\tvalid_0's l2: 3.40496e+06\n",
      "[52]\tvalid_0's rmse: 1843.79\tvalid_0's l2: 3.39956e+06\n",
      "[53]\tvalid_0's rmse: 1841.47\tvalid_0's l2: 3.39103e+06\n",
      "[54]\tvalid_0's rmse: 1839.33\tvalid_0's l2: 3.38313e+06\n",
      "[55]\tvalid_0's rmse: 1838.07\tvalid_0's l2: 3.3785e+06\n",
      "[56]\tvalid_0's rmse: 1835.84\tvalid_0's l2: 3.37032e+06\n",
      "[57]\tvalid_0's rmse: 1834.04\tvalid_0's l2: 3.36372e+06\n",
      "[58]\tvalid_0's rmse: 1832.24\tvalid_0's l2: 3.35711e+06\n",
      "[59]\tvalid_0's rmse: 1830.11\tvalid_0's l2: 3.34929e+06\n",
      "[60]\tvalid_0's rmse: 1829.33\tvalid_0's l2: 3.34644e+06\n",
      "[61]\tvalid_0's rmse: 1827.19\tvalid_0's l2: 3.33861e+06\n",
      "[62]\tvalid_0's rmse: 1825.46\tvalid_0's l2: 3.33231e+06\n",
      "[63]\tvalid_0's rmse: 1824.82\tvalid_0's l2: 3.32996e+06\n",
      "[64]\tvalid_0's rmse: 1823.5\tvalid_0's l2: 3.32516e+06\n",
      "[65]\tvalid_0's rmse: 1822.35\tvalid_0's l2: 3.32097e+06\n",
      "[66]\tvalid_0's rmse: 1821.1\tvalid_0's l2: 3.31641e+06\n",
      "[67]\tvalid_0's rmse: 1819.17\tvalid_0's l2: 3.30939e+06\n",
      "[68]\tvalid_0's rmse: 1818.05\tvalid_0's l2: 3.30532e+06\n",
      "[69]\tvalid_0's rmse: 1816.84\tvalid_0's l2: 3.30089e+06\n",
      "[70]\tvalid_0's rmse: 1815.88\tvalid_0's l2: 3.29742e+06\n",
      "[71]\tvalid_0's rmse: 1814.58\tvalid_0's l2: 3.2927e+06\n",
      "[72]\tvalid_0's rmse: 1813.18\tvalid_0's l2: 3.28762e+06\n",
      "[73]\tvalid_0's rmse: 1812.02\tvalid_0's l2: 3.28342e+06\n",
      "[74]\tvalid_0's rmse: 1811.55\tvalid_0's l2: 3.2817e+06\n",
      "[75]\tvalid_0's rmse: 1810.31\tvalid_0's l2: 3.27723e+06\n",
      "[76]\tvalid_0's rmse: 1809.77\tvalid_0's l2: 3.27527e+06\n",
      "[77]\tvalid_0's rmse: 1808.68\tvalid_0's l2: 3.27133e+06\n",
      "[78]\tvalid_0's rmse: 1807.78\tvalid_0's l2: 3.26806e+06\n",
      "[79]\tvalid_0's rmse: 1806.54\tvalid_0's l2: 3.26357e+06\n",
      "[80]\tvalid_0's rmse: 1805.84\tvalid_0's l2: 3.26105e+06\n",
      "[81]\tvalid_0's rmse: 1805.23\tvalid_0's l2: 3.25887e+06\n",
      "[82]\tvalid_0's rmse: 1804.01\tvalid_0's l2: 3.25447e+06\n",
      "[83]\tvalid_0's rmse: 1803.01\tvalid_0's l2: 3.25083e+06\n",
      "[84]\tvalid_0's rmse: 1802.26\tvalid_0's l2: 3.24813e+06\n",
      "[85]\tvalid_0's rmse: 1801.61\tvalid_0's l2: 3.24579e+06\n",
      "[86]\tvalid_0's rmse: 1801.25\tvalid_0's l2: 3.24452e+06\n",
      "[87]\tvalid_0's rmse: 1801.05\tvalid_0's l2: 3.2438e+06\n",
      "[88]\tvalid_0's rmse: 1800.58\tvalid_0's l2: 3.2421e+06\n",
      "[89]\tvalid_0's rmse: 1800.04\tvalid_0's l2: 3.24016e+06\n",
      "[90]\tvalid_0's rmse: 1799.48\tvalid_0's l2: 3.23812e+06\n",
      "[91]\tvalid_0's rmse: 1799.13\tvalid_0's l2: 3.23688e+06\n",
      "[92]\tvalid_0's rmse: 1798.96\tvalid_0's l2: 3.23624e+06\n",
      "[93]\tvalid_0's rmse: 1798.27\tvalid_0's l2: 3.23376e+06\n",
      "[94]\tvalid_0's rmse: 1797.55\tvalid_0's l2: 3.23119e+06\n",
      "[95]\tvalid_0's rmse: 1796.92\tvalid_0's l2: 3.22892e+06\n",
      "[96]\tvalid_0's rmse: 1796.47\tvalid_0's l2: 3.22729e+06\n",
      "[97]\tvalid_0's rmse: 1795.38\tvalid_0's l2: 3.2234e+06\n",
      "[98]\tvalid_0's rmse: 1794.6\tvalid_0's l2: 3.2206e+06\n",
      "[99]\tvalid_0's rmse: 1794.15\tvalid_0's l2: 3.21898e+06\n",
      "[100]\tvalid_0's rmse: 1793.69\tvalid_0's l2: 3.21731e+06\n",
      "CPU times: user 10 s, sys: 13.8 ms, total: 10 s\n",
      "Wall time: 10.2 s\n"
     ]
    }
   ],
   "source": [
    "%%time\n",
    "start = time.time()\n",
    "model_lgb.fit(X_train, y_train, eval_set=[(X_valid, y_valid)], eval_metric='rmse', categorical_feature=cat_features)\n",
    "end = time.time()\n",
    "lightgbm_time = end - start"
   ]
  },
  {
   "cell_type": "code",
   "execution_count": 28,
   "metadata": {
    "scrolled": true
   },
   "outputs": [
    {
     "name": "stdout",
     "output_type": "stream",
     "text": [
      "RMSE= 1793.6851135623533\n",
      "Learning time= 10.202895164489746\n",
      "Predicting time= 0.898681640625\n"
     ]
    }
   ],
   "source": [
    "start = time.time()\n",
    "predictions = model_lgb.predict(X_valid)\n",
    "end = time.time()\n",
    "lightgbm_time_predicting = end - start\n",
    "lightgbm_rmse = np.sqrt(((predictions - y_valid) ** 2).mean())\n",
    "print('RMSE=', lightgbm_rmse)\n",
    "print('Learning time=', lightgbm_time)\n",
    "print('Predicting time=', lightgbm_time_predicting)"
   ]
  },
  {
   "cell_type": "code",
   "execution_count": 29,
   "metadata": {},
   "outputs": [],
   "source": [
    "# Посмотрим на качество модели LightGBM на тестовой выборке\n",
    "\n",
    "model_lgb_test = lgb.LGBMRegressor(n_estimators=100, num_leaves=31, subsample=0.75)"
   ]
  },
  {
   "cell_type": "code",
   "execution_count": 30,
   "metadata": {
    "scrolled": true
   },
   "outputs": [
    {
     "name": "stdout",
     "output_type": "stream",
     "text": [
      "[1]\tvalid_0's rmse: 4203.7\tvalid_0's l2: 1.76711e+07\n",
      "[2]\tvalid_0's rmse: 3928.67\tvalid_0's l2: 1.54344e+07\n",
      "[3]\tvalid_0's rmse: 3687.09\tvalid_0's l2: 1.35946e+07\n",
      "[4]\tvalid_0's rmse: 3477.07\tvalid_0's l2: 1.209e+07\n",
      "[5]\tvalid_0's rmse: 3291.53\tvalid_0's l2: 1.08341e+07\n",
      "[6]\tvalid_0's rmse: 3127.23\tvalid_0's l2: 9.77954e+06\n",
      "[7]\tvalid_0's rmse: 2978.27\tvalid_0's l2: 8.87008e+06\n",
      "[8]\tvalid_0's rmse: 2852.51\tvalid_0's l2: 8.13683e+06\n",
      "[9]\tvalid_0's rmse: 2735.12\tvalid_0's l2: 7.4809e+06\n",
      "[10]\tvalid_0's rmse: 2636.75\tvalid_0's l2: 6.95245e+06\n",
      "[11]\tvalid_0's rmse: 2548.45\tvalid_0's l2: 6.4946e+06\n",
      "[12]\tvalid_0's rmse: 2470.94\tvalid_0's l2: 6.10552e+06\n",
      "[13]\tvalid_0's rmse: 2402.49\tvalid_0's l2: 5.77195e+06\n",
      "[14]\tvalid_0's rmse: 2342.92\tvalid_0's l2: 5.48926e+06\n",
      "[15]\tvalid_0's rmse: 2291.05\tvalid_0's l2: 5.24892e+06\n",
      "[16]\tvalid_0's rmse: 2244.82\tvalid_0's l2: 5.03923e+06\n",
      "[17]\tvalid_0's rmse: 2203.21\tvalid_0's l2: 4.85411e+06\n",
      "[18]\tvalid_0's rmse: 2166.83\tvalid_0's l2: 4.69514e+06\n",
      "[19]\tvalid_0's rmse: 2133.5\tvalid_0's l2: 4.55183e+06\n",
      "[20]\tvalid_0's rmse: 2105.18\tvalid_0's l2: 4.43177e+06\n",
      "[21]\tvalid_0's rmse: 2080.35\tvalid_0's l2: 4.32785e+06\n",
      "[22]\tvalid_0's rmse: 2058.12\tvalid_0's l2: 4.23588e+06\n",
      "[23]\tvalid_0's rmse: 2037.37\tvalid_0's l2: 4.15086e+06\n",
      "[24]\tvalid_0's rmse: 2019.64\tvalid_0's l2: 4.07896e+06\n",
      "[25]\tvalid_0's rmse: 2003.19\tvalid_0's l2: 4.01277e+06\n",
      "[26]\tvalid_0's rmse: 1989.27\tvalid_0's l2: 3.95721e+06\n",
      "[27]\tvalid_0's rmse: 1975.63\tvalid_0's l2: 3.90311e+06\n",
      "[28]\tvalid_0's rmse: 1964\tvalid_0's l2: 3.85728e+06\n",
      "[29]\tvalid_0's rmse: 1953.68\tvalid_0's l2: 3.81686e+06\n",
      "[30]\tvalid_0's rmse: 1944.11\tvalid_0's l2: 3.77955e+06\n",
      "[31]\tvalid_0's rmse: 1935.83\tvalid_0's l2: 3.74744e+06\n",
      "[32]\tvalid_0's rmse: 1928.24\tvalid_0's l2: 3.7181e+06\n",
      "[33]\tvalid_0's rmse: 1920.22\tvalid_0's l2: 3.68724e+06\n",
      "[34]\tvalid_0's rmse: 1913.44\tvalid_0's l2: 3.66125e+06\n",
      "[35]\tvalid_0's rmse: 1907.89\tvalid_0's l2: 3.64004e+06\n",
      "[36]\tvalid_0's rmse: 1901.91\tvalid_0's l2: 3.61725e+06\n",
      "[37]\tvalid_0's rmse: 1895.23\tvalid_0's l2: 3.59189e+06\n",
      "[38]\tvalid_0's rmse: 1890.79\tvalid_0's l2: 3.57509e+06\n",
      "[39]\tvalid_0's rmse: 1885.36\tvalid_0's l2: 3.55459e+06\n",
      "[40]\tvalid_0's rmse: 1881.05\tvalid_0's l2: 3.53836e+06\n",
      "[41]\tvalid_0's rmse: 1877.01\tvalid_0's l2: 3.52318e+06\n",
      "[42]\tvalid_0's rmse: 1873.58\tvalid_0's l2: 3.51032e+06\n",
      "[43]\tvalid_0's rmse: 1870.37\tvalid_0's l2: 3.49827e+06\n",
      "[44]\tvalid_0's rmse: 1866.49\tvalid_0's l2: 3.48379e+06\n",
      "[45]\tvalid_0's rmse: 1862.87\tvalid_0's l2: 3.4703e+06\n",
      "[46]\tvalid_0's rmse: 1860.58\tvalid_0's l2: 3.46174e+06\n",
      "[47]\tvalid_0's rmse: 1857.59\tvalid_0's l2: 3.45063e+06\n",
      "[48]\tvalid_0's rmse: 1854.69\tvalid_0's l2: 3.43986e+06\n",
      "[49]\tvalid_0's rmse: 1853.07\tvalid_0's l2: 3.43387e+06\n",
      "[50]\tvalid_0's rmse: 1850.68\tvalid_0's l2: 3.425e+06\n",
      "[51]\tvalid_0's rmse: 1847\tvalid_0's l2: 3.41142e+06\n",
      "[52]\tvalid_0's rmse: 1845.61\tvalid_0's l2: 3.40629e+06\n",
      "[53]\tvalid_0's rmse: 1842.99\tvalid_0's l2: 3.39662e+06\n",
      "[54]\tvalid_0's rmse: 1840.78\tvalid_0's l2: 3.38848e+06\n",
      "[55]\tvalid_0's rmse: 1839.71\tvalid_0's l2: 3.38454e+06\n",
      "[56]\tvalid_0's rmse: 1837.79\tvalid_0's l2: 3.37747e+06\n",
      "[57]\tvalid_0's rmse: 1836.12\tvalid_0's l2: 3.37135e+06\n",
      "[58]\tvalid_0's rmse: 1834.4\tvalid_0's l2: 3.36504e+06\n",
      "[59]\tvalid_0's rmse: 1832.59\tvalid_0's l2: 3.3584e+06\n",
      "[60]\tvalid_0's rmse: 1831.83\tvalid_0's l2: 3.35559e+06\n",
      "[61]\tvalid_0's rmse: 1829.54\tvalid_0's l2: 3.34722e+06\n",
      "[62]\tvalid_0's rmse: 1827.89\tvalid_0's l2: 3.34117e+06\n",
      "[63]\tvalid_0's rmse: 1827.25\tvalid_0's l2: 3.33886e+06\n",
      "[64]\tvalid_0's rmse: 1825.73\tvalid_0's l2: 3.33328e+06\n",
      "[65]\tvalid_0's rmse: 1824.69\tvalid_0's l2: 3.32949e+06\n",
      "[66]\tvalid_0's rmse: 1823.51\tvalid_0's l2: 3.32518e+06\n",
      "[67]\tvalid_0's rmse: 1821.38\tvalid_0's l2: 3.31742e+06\n",
      "[68]\tvalid_0's rmse: 1819.98\tvalid_0's l2: 3.31234e+06\n",
      "[69]\tvalid_0's rmse: 1818.66\tvalid_0's l2: 3.30753e+06\n",
      "[70]\tvalid_0's rmse: 1817.69\tvalid_0's l2: 3.30401e+06\n",
      "[71]\tvalid_0's rmse: 1816.45\tvalid_0's l2: 3.29948e+06\n",
      "[72]\tvalid_0's rmse: 1814.73\tvalid_0's l2: 3.29324e+06\n",
      "[73]\tvalid_0's rmse: 1813.62\tvalid_0's l2: 3.28922e+06\n",
      "[74]\tvalid_0's rmse: 1812.98\tvalid_0's l2: 3.28689e+06\n",
      "[75]\tvalid_0's rmse: 1811.44\tvalid_0's l2: 3.28132e+06\n",
      "[76]\tvalid_0's rmse: 1810.6\tvalid_0's l2: 3.27828e+06\n",
      "[77]\tvalid_0's rmse: 1809.58\tvalid_0's l2: 3.27458e+06\n",
      "[78]\tvalid_0's rmse: 1808.63\tvalid_0's l2: 3.27115e+06\n",
      "[79]\tvalid_0's rmse: 1807.44\tvalid_0's l2: 3.26685e+06\n",
      "[80]\tvalid_0's rmse: 1806.64\tvalid_0's l2: 3.26395e+06\n",
      "[81]\tvalid_0's rmse: 1806.12\tvalid_0's l2: 3.26207e+06\n",
      "[82]\tvalid_0's rmse: 1804.89\tvalid_0's l2: 3.25764e+06\n",
      "[83]\tvalid_0's rmse: 1803.85\tvalid_0's l2: 3.25389e+06\n",
      "[84]\tvalid_0's rmse: 1802.48\tvalid_0's l2: 3.24893e+06\n",
      "[85]\tvalid_0's rmse: 1801.7\tvalid_0's l2: 3.24613e+06\n",
      "[86]\tvalid_0's rmse: 1801.34\tvalid_0's l2: 3.24482e+06\n",
      "[87]\tvalid_0's rmse: 1801.17\tvalid_0's l2: 3.24421e+06\n",
      "[88]\tvalid_0's rmse: 1800.75\tvalid_0's l2: 3.24269e+06\n",
      "[89]\tvalid_0's rmse: 1800.14\tvalid_0's l2: 3.24051e+06\n",
      "[90]\tvalid_0's rmse: 1799.24\tvalid_0's l2: 3.23727e+06\n",
      "[91]\tvalid_0's rmse: 1798.65\tvalid_0's l2: 3.23516e+06\n",
      "[92]\tvalid_0's rmse: 1798.54\tvalid_0's l2: 3.23475e+06\n",
      "[93]\tvalid_0's rmse: 1797.87\tvalid_0's l2: 3.23235e+06\n",
      "[94]\tvalid_0's rmse: 1797\tvalid_0's l2: 3.22919e+06\n",
      "[95]\tvalid_0's rmse: 1796.27\tvalid_0's l2: 3.22659e+06\n",
      "[96]\tvalid_0's rmse: 1795.82\tvalid_0's l2: 3.22496e+06\n",
      "[97]\tvalid_0's rmse: 1794.64\tvalid_0's l2: 3.22074e+06\n",
      "[98]\tvalid_0's rmse: 1793.69\tvalid_0's l2: 3.21731e+06\n",
      "[99]\tvalid_0's rmse: 1793.14\tvalid_0's l2: 3.21535e+06\n",
      "[100]\tvalid_0's rmse: 1792.58\tvalid_0's l2: 3.21335e+06\n",
      "CPU times: user 10.5 s, sys: 46 ms, total: 10.5 s\n",
      "Wall time: 10.8 s\n"
     ]
    }
   ],
   "source": [
    "%%time\n",
    "start = time.time()\n",
    "model_lgb_test.fit(X_train, y_train, eval_set=[(X_test, y_test)], eval_metric='rmse', categorical_feature=cat_features)\n",
    "end = time.time()\n",
    "lightgbm_test_time = end - start"
   ]
  },
  {
   "cell_type": "code",
   "execution_count": 31,
   "metadata": {
    "scrolled": true
   },
   "outputs": [
    {
     "name": "stdout",
     "output_type": "stream",
     "text": [
      "RMSE (test)= 1792.5817640057433\n",
      "Learning time (test)= 10.771301984786987\n",
      "Predicting time (test)= 0.8947010040283203\n"
     ]
    }
   ],
   "source": [
    "start = time.time()\n",
    "predictions = model_lgb_test.predict(X_test)\n",
    "end = time.time()\n",
    "lightgbm_test_time_predicting = end - start\n",
    "lightgbm_test_rmse = np.sqrt(((predictions - y_test) ** 2).mean())\n",
    "print('RMSE (test)=', lightgbm_test_rmse)\n",
    "print('Learning time (test)=', lightgbm_test_time)\n",
    "print('Predicting time (test)=', lightgbm_test_time_predicting)"
   ]
  },
  {
   "cell_type": "markdown",
   "metadata": {},
   "source": [
    "Параметры сопоставимы. Модель хорошо показала себя и на тестовой выборке,"
   ]
  },
  {
   "cell_type": "markdown",
   "metadata": {},
   "source": [
    "<div class=\"alert alert-success\">\n",
    "<h1>Комментарий ревьюера <a class=\"tocSkip\"></a></h1>\n",
    "Бэйзлайн по качеству модели смог пройти, молодец\n",
    "</div>"
   ]
  },
  {
   "cell_type": "markdown",
   "metadata": {},
   "source": [
    "<div class=\"alert alert-success\">\n",
    "<h1>Комментарий ревьюера <a class=\"tocSkip\"></a></h1>\n",
    "Отдельный плюс в карму за вывод и табличку с результатами:) Очень наглядно\n",
    "</div>"
   ]
  },
  {
   "cell_type": "markdown",
   "metadata": {},
   "source": [
    "<a id='section_4'></a>\n",
    "# Общий вывод\n",
    "В результате анализа модели показали различные значения по времени работы и среднеквадратичной ошибке. Наиболее точными оказались модели, использующие градиентный бустинг. Значение ошибки у этих моделей практически в два раза меньше,чем у модели линейной регрессии. При этом модель LightGBM значительно превзошла модель CatBoost по скорости обучения.\n",
    "\n",
    "Модель LightGBM является оптимальной для применения на данном наборе данных."
   ]
  },
  {
   "cell_type": "markdown",
   "metadata": {},
   "source": [
    "<div class=\"alert alert-success\">\n",
    "<h2> Комментарий ревьюера</h2>\n",
    "\n",
    "-Спасибо за качественно сделанный проект, было приятно проверять. \n",
    "\n",
    "- Видно, что приложено много усилий\n",
    "\n",
    "- Код написан хорошо \n",
    "\n",
    "- Соблюдена структура проекта \n",
    "    \n",
    "- Твои модели смогли достичь хорошего качества, поздравляю!\n",
    "    \n",
    "- К сожалению есть пара моментов, которые необходимо поправить, чтобы проект был принят:\n",
    "    \n",
    "    - нет поиска гиперпараметров\n",
    "    \n",
    "    - отсутствует разбиение на тестовую. обучающую и валидационную выборки\n",
    "\n",
    "- Также оставил пару замечаний и советов\n",
    "\n",
    "\n",
    "Жду твоих исправлений!\n",
    "\n",
    "</div>"
   ]
  },
  {
   "cell_type": "markdown",
   "metadata": {},
   "source": [
    "<a href='#top'>Back to top</a>"
   ]
  },
  {
   "cell_type": "markdown",
   "metadata": {},
   "source": [
    "<a id='section_end'></a>\n",
    "## Чек-лист проверки"
   ]
  },
  {
   "cell_type": "markdown",
   "metadata": {},
   "source": [
    "Поставьте 'x' в выполненных пунктах. Далее нажмите Shift+Enter."
   ]
  },
  {
   "cell_type": "markdown",
   "metadata": {},
   "source": [
    "- [x]  Jupyter Notebook открыт\n",
    "- [x]  Весь код выполняется без ошибок\n",
    "- [x]  Ячейки с кодом расположены в порядке исполнения\n",
    "- [x]  Выполнена загрузка и подготовка данных\n",
    "- [x]  Выполнено обучение моделей\n",
    "- [x]  Есть анализ скорости работы и качества моделей"
   ]
  },
  {
   "cell_type": "markdown",
   "metadata": {},
   "source": [
    "<a href='#top'>Back to top</a>"
   ]
  }
 ],
 "metadata": {
  "kernelspec": {
   "display_name": "Python 3",
   "language": "python",
   "name": "python3"
  },
  "language_info": {
   "codemirror_mode": {
    "name": "ipython",
    "version": 3
   },
   "file_extension": ".py",
   "mimetype": "text/x-python",
   "name": "python",
   "nbconvert_exporter": "python",
   "pygments_lexer": "ipython3",
   "version": "3.8.5"
  },
  "toc": {
   "base_numbering": 1,
   "nav_menu": {},
   "number_sections": true,
   "sideBar": true,
   "skip_h1_title": true,
   "title_cell": "Table of Contents",
   "title_sidebar": "Contents",
   "toc_cell": false,
   "toc_position": {},
   "toc_section_display": true,
   "toc_window_display": false
  }
 },
 "nbformat": 4,
 "nbformat_minor": 2
}
