{
 "cells": [
  {
   "cell_type": "markdown",
   "metadata": {},
   "source": [
    "<a id='top'></a>\n",
    "<img align=\"center\" src=\"https://d32r1sh890xpii.cloudfront.net/news/718x300/2020-04-09_6vgl92fyfo.jpg\" width=\"200\" />\n",
    "<p style=\"text-align: center;\">\n",
    "    <font size='5' type='bold'>\n",
    "        <b>Выбор региона для бурения</b>\n",
    "    </font>\n",
    "</p>"
   ]
  },
  {
   "cell_type": "markdown",
   "metadata": {},
   "source": [
    "Привет, меня зовут Артем Хуршудов. Сегодня я проверю твой проект.\n",
    "<br> Дальнейшее общение будет происходить на \"ты\" если это не вызывает никаких проблем.\n",
    "<br> Желательно реагировать на каждый мой комментарий ('исправил', 'не понятно как исправить ошибку', ...)\n",
    "<br> Пожалуйста, не удаляй комментарии ревьюера, так как они повышают качество повторного ревью.\n",
    "\n",
    "Комментарии будут в <font color='green'>зеленой</font>, <font color='blue'>синей</font> или <font color='red'>красной</font> рамках:\n",
    "\n",
    "<div class=\"alert alert-block alert-success\">\n",
    "<b>Успех:</b> Если все сделано отлично\n",
    "</div>\n",
    "\n",
    "<div class=\"alert alert-block alert-info\">\n",
    "<b>Совет: </b> Если можно немного улучшить\n",
    "</div>\n",
    "\n",
    "<div class=\"alert alert-block alert-danger\">\n",
    "<b>Ошибка:</b> Если требуются исправления. Работа не может быть принята с красными комментариями.\n",
    "</div>\n",
    "\n",
    "-------------------\n",
    "\n",
    "Будет очень хорошо, если ты будешь помечать свои действия следующим образом:\n",
    "<div class=\"alert alert-block alert-warning\">\n",
    "<b>Комментарий студента:</b> ...\n",
    "</div>\n",
    "\n",
    "<div class=\"alert alert-block alert-warning\">\n",
    "<b>Изменения:</b> Были внесены следующие изменения ...\n",
    "</div>\n",
    "\n",
    "### <font color='orange'>Общее впечатление</font>\n",
    "* Большое спасибо за проделанную работу. Видно, что приложено много усилий.\n",
    "* Выводы и рассуждения получились содержательными, их было интересно читать.\n",
    "* Радует, что тебе удалось разобраться с техникой бутстрапа.\n",
    "* Отлично, что доверительный интервал и риск убытков посчитаны верно.\n",
    "* Я оставил несколько советов, надеюсь, что они будут учтены в будущих проектах.\n",
    "* Редко, кто сдает эту работу с первого раза, молодец!\n",
    "* Проект зачтен. Удачи в будущих проектах!"
   ]
  },
  {
   "cell_type": "markdown",
   "metadata": {},
   "source": [
    "### Содержание\n",
    "\n",
    "<a href='#section_0'>Задачи проекта</a>\n",
    "\n",
    "<a href='#section_1'>1. Загрузка и подготовка данных</a>\n",
    "\n",
    "<a href='#section_2'>2. Обучение и проверка модели</a>\n",
    "\n",
    "<a href='#section_3'>3. Подготовка к расчёту прибыли</a>\n",
    "\n",
    "<a href='#section_4'>4. Расчет прибыли и рисков</a>\n",
    "\n",
    "* <a href='#section_4_1'>Регион 1</a>\n",
    "* <a href='#section_4_2'>Регион 2</a>\n",
    "* <a href='#section_4_3'>Регион 3</a>\n",
    "\n",
    "<a href='#section_5'>5. Общий вывод</a>\n",
    "\n",
    "<a href='#section_end'>Чек-лист готовности проекта</a>"
   ]
  },
  {
   "cell_type": "markdown",
   "metadata": {},
   "source": [
    "<a id='section_0'></a>\n",
    "## Задачи проекта"
   ]
  },
  {
   "cell_type": "markdown",
   "metadata": {},
   "source": [
    "Допустим, вы работаете в добывающей компании «ГлавРосГосНефть». Нужно решить, где бурить новую скважину.\n",
    "\n",
    "Вам предоставлены пробы нефти в трёх регионах: в каждом 10 000 месторождений, где измерили качество нефти и объём её запасов. Постройте модель машинного обучения, которая поможет определить регион, где добыча принесёт наибольшую прибыль. Проанализируйте возможную прибыль и риски техникой *Bootstrap.*\n",
    "\n",
    "Шаги для выбора локации:\n",
    "\n",
    "- В избранном регионе ищут месторождения, для каждого определяют значения признаков;\n",
    "- Строят модель и оценивают объём запасов;\n",
    "- Выбирают месторождения с самым высокими оценками значений. Количество месторождений зависит от бюджета компании и стоимости разработки одной скважины;\n",
    "- Прибыль равна суммарной прибыли отобранных месторождений.\n",
    "\n",
    "Условия задачи:\n",
    "\n",
    "* Для обучения модели подходит только линейная регрессия (остальные — недостаточно предсказуемые).\n",
    "* При разведке региона исследуют 500 точек, из которых с помощью машинного обучения выбирают 200 лучших для разработки.\n",
    "* Бюджет на разработку скважин в регионе — 10 млрд рублей.\n",
    "* При нынешних ценах один баррель сырья приносит 450 рублей дохода. Доход с каждой единицы продукта составляет 450 тыс. рублей, поскольку объём указан в тысячах баррелей.\n",
    "* После оценки рисков нужно оставить лишь те регионы, в которых вероятность убытков меньше 2.5%. Среди них выбирают регион с наибольшей средней прибылью.\n"
   ]
  },
  {
   "cell_type": "markdown",
   "metadata": {},
   "source": [
    "<a id='section_1'></a>\n",
    "# 1. Загрузка и подготовка данных"
   ]
  },
  {
   "cell_type": "markdown",
   "metadata": {},
   "source": [
    "**Описание данных.**\n",
    "\n",
    "Данные геологоразведки трёх регионов находятся в файлах:\n",
    "\n",
    "* /datasets/geo_data_0.csv. Скачать датасет\n",
    "* /datasets/geo_data_1.csv. Скачать датасет\n",
    "* /datasets/geo_data_2.csv. Скачать датасет\n",
    "* id — уникальный идентификатор скважины;\n",
    "* f0, f1, f2 — три признака точек (неважно, что они означают, но сами признаки значимы);\n",
    "* product — объём запасов в скважине (тыс. баррелей)."
   ]
  },
  {
   "cell_type": "code",
   "execution_count": 1,
   "metadata": {},
   "outputs": [],
   "source": [
    "import pandas as pd\n",
    "import numpy as np\n",
    "\n",
    "from sklearn.linear_model import LinearRegression\n",
    "from sklearn.model_selection import train_test_split\n",
    "from sklearn.metrics import mean_squared_error"
   ]
  },
  {
   "cell_type": "markdown",
   "metadata": {},
   "source": [
    "<div class=\"alert alert-block alert-success\">\n",
    "<b>Успех:</b> Отлично, что все импорты собраны в первой ячейке ноутбука! Если у того, кто будет запускать твой ноутбук будут отсутствовать некоторые библиотеки, то он это увидит сразу, а не в процессе!\n",
    "</div>"
   ]
  },
  {
   "cell_type": "code",
   "execution_count": 2,
   "metadata": {},
   "outputs": [],
   "source": [
    "rnd_state = 260686"
   ]
  },
  {
   "cell_type": "code",
   "execution_count": 3,
   "metadata": {},
   "outputs": [],
   "source": [
    "# посмотрим на данные\n",
    "geo_data_0 = pd.read_csv('/datasets/geo_data_0.csv')\n",
    "geo_data_1 = pd.read_csv('/datasets/geo_data_1.csv')\n",
    "geo_data_2 = pd.read_csv('/datasets/geo_data_2.csv')\n"
   ]
  },
  {
   "cell_type": "code",
   "execution_count": 4,
   "metadata": {},
   "outputs": [
    {
     "data": {
      "text/html": [
       "<div>\n",
       "<style scoped>\n",
       "    .dataframe tbody tr th:only-of-type {\n",
       "        vertical-align: middle;\n",
       "    }\n",
       "\n",
       "    .dataframe tbody tr th {\n",
       "        vertical-align: top;\n",
       "    }\n",
       "\n",
       "    .dataframe thead th {\n",
       "        text-align: right;\n",
       "    }\n",
       "</style>\n",
       "<table border=\"1\" class=\"dataframe\">\n",
       "  <thead>\n",
       "    <tr style=\"text-align: right;\">\n",
       "      <th></th>\n",
       "      <th>id</th>\n",
       "      <th>f0</th>\n",
       "      <th>f1</th>\n",
       "      <th>f2</th>\n",
       "      <th>product</th>\n",
       "    </tr>\n",
       "  </thead>\n",
       "  <tbody>\n",
       "    <tr>\n",
       "      <td>0</td>\n",
       "      <td>txEyH</td>\n",
       "      <td>0.705745</td>\n",
       "      <td>-0.497823</td>\n",
       "      <td>1.221170</td>\n",
       "      <td>105.280062</td>\n",
       "    </tr>\n",
       "    <tr>\n",
       "      <td>1</td>\n",
       "      <td>2acmU</td>\n",
       "      <td>1.334711</td>\n",
       "      <td>-0.340164</td>\n",
       "      <td>4.365080</td>\n",
       "      <td>73.037750</td>\n",
       "    </tr>\n",
       "    <tr>\n",
       "      <td>2</td>\n",
       "      <td>409Wp</td>\n",
       "      <td>1.022732</td>\n",
       "      <td>0.151990</td>\n",
       "      <td>1.419926</td>\n",
       "      <td>85.265647</td>\n",
       "    </tr>\n",
       "  </tbody>\n",
       "</table>\n",
       "</div>"
      ],
      "text/plain": [
       "      id        f0        f1        f2     product\n",
       "0  txEyH  0.705745 -0.497823  1.221170  105.280062\n",
       "1  2acmU  1.334711 -0.340164  4.365080   73.037750\n",
       "2  409Wp  1.022732  0.151990  1.419926   85.265647"
      ]
     },
     "metadata": {},
     "output_type": "display_data"
    },
    {
     "data": {
      "text/html": [
       "<div>\n",
       "<style scoped>\n",
       "    .dataframe tbody tr th:only-of-type {\n",
       "        vertical-align: middle;\n",
       "    }\n",
       "\n",
       "    .dataframe tbody tr th {\n",
       "        vertical-align: top;\n",
       "    }\n",
       "\n",
       "    .dataframe thead th {\n",
       "        text-align: right;\n",
       "    }\n",
       "</style>\n",
       "<table border=\"1\" class=\"dataframe\">\n",
       "  <thead>\n",
       "    <tr style=\"text-align: right;\">\n",
       "      <th></th>\n",
       "      <th>id</th>\n",
       "      <th>f0</th>\n",
       "      <th>f1</th>\n",
       "      <th>f2</th>\n",
       "      <th>product</th>\n",
       "    </tr>\n",
       "  </thead>\n",
       "  <tbody>\n",
       "    <tr>\n",
       "      <td>0</td>\n",
       "      <td>kBEdx</td>\n",
       "      <td>-15.001348</td>\n",
       "      <td>-8.276000</td>\n",
       "      <td>-0.005876</td>\n",
       "      <td>3.179103</td>\n",
       "    </tr>\n",
       "    <tr>\n",
       "      <td>1</td>\n",
       "      <td>62mP7</td>\n",
       "      <td>14.272088</td>\n",
       "      <td>-3.475083</td>\n",
       "      <td>0.999183</td>\n",
       "      <td>26.953261</td>\n",
       "    </tr>\n",
       "    <tr>\n",
       "      <td>2</td>\n",
       "      <td>vyE1P</td>\n",
       "      <td>6.263187</td>\n",
       "      <td>-5.948386</td>\n",
       "      <td>5.001160</td>\n",
       "      <td>134.766305</td>\n",
       "    </tr>\n",
       "  </tbody>\n",
       "</table>\n",
       "</div>"
      ],
      "text/plain": [
       "      id         f0        f1        f2     product\n",
       "0  kBEdx -15.001348 -8.276000 -0.005876    3.179103\n",
       "1  62mP7  14.272088 -3.475083  0.999183   26.953261\n",
       "2  vyE1P   6.263187 -5.948386  5.001160  134.766305"
      ]
     },
     "metadata": {},
     "output_type": "display_data"
    },
    {
     "data": {
      "text/html": [
       "<div>\n",
       "<style scoped>\n",
       "    .dataframe tbody tr th:only-of-type {\n",
       "        vertical-align: middle;\n",
       "    }\n",
       "\n",
       "    .dataframe tbody tr th {\n",
       "        vertical-align: top;\n",
       "    }\n",
       "\n",
       "    .dataframe thead th {\n",
       "        text-align: right;\n",
       "    }\n",
       "</style>\n",
       "<table border=\"1\" class=\"dataframe\">\n",
       "  <thead>\n",
       "    <tr style=\"text-align: right;\">\n",
       "      <th></th>\n",
       "      <th>id</th>\n",
       "      <th>f0</th>\n",
       "      <th>f1</th>\n",
       "      <th>f2</th>\n",
       "      <th>product</th>\n",
       "    </tr>\n",
       "  </thead>\n",
       "  <tbody>\n",
       "    <tr>\n",
       "      <td>0</td>\n",
       "      <td>fwXo0</td>\n",
       "      <td>-1.146987</td>\n",
       "      <td>0.963328</td>\n",
       "      <td>-0.828965</td>\n",
       "      <td>27.758673</td>\n",
       "    </tr>\n",
       "    <tr>\n",
       "      <td>1</td>\n",
       "      <td>WJtFt</td>\n",
       "      <td>0.262778</td>\n",
       "      <td>0.269839</td>\n",
       "      <td>-2.530187</td>\n",
       "      <td>56.069697</td>\n",
       "    </tr>\n",
       "    <tr>\n",
       "      <td>2</td>\n",
       "      <td>ovLUW</td>\n",
       "      <td>0.194587</td>\n",
       "      <td>0.289035</td>\n",
       "      <td>-5.586433</td>\n",
       "      <td>62.871910</td>\n",
       "    </tr>\n",
       "  </tbody>\n",
       "</table>\n",
       "</div>"
      ],
      "text/plain": [
       "      id        f0        f1        f2    product\n",
       "0  fwXo0 -1.146987  0.963328 -0.828965  27.758673\n",
       "1  WJtFt  0.262778  0.269839 -2.530187  56.069697\n",
       "2  ovLUW  0.194587  0.289035 -5.586433  62.871910"
      ]
     },
     "metadata": {},
     "output_type": "display_data"
    }
   ],
   "source": [
    "# посмотрим на данные\n",
    "display(geo_data_0.head(3))\n",
    "display(geo_data_1.head(3))\n",
    "display(geo_data_2.head(3))"
   ]
  },
  {
   "cell_type": "code",
   "execution_count": 5,
   "metadata": {},
   "outputs": [
    {
     "name": "stdout",
     "output_type": "stream",
     "text": [
      "<class 'pandas.core.frame.DataFrame'>\n",
      "RangeIndex: 100000 entries, 0 to 99999\n",
      "Data columns (total 5 columns):\n",
      "id         100000 non-null object\n",
      "f0         100000 non-null float64\n",
      "f1         100000 non-null float64\n",
      "f2         100000 non-null float64\n",
      "product    100000 non-null float64\n",
      "dtypes: float64(4), object(1)\n",
      "memory usage: 3.8+ MB\n"
     ]
    },
    {
     "data": {
      "text/plain": [
       "None"
      ]
     },
     "metadata": {},
     "output_type": "display_data"
    },
    {
     "name": "stdout",
     "output_type": "stream",
     "text": [
      "<class 'pandas.core.frame.DataFrame'>\n",
      "RangeIndex: 100000 entries, 0 to 99999\n",
      "Data columns (total 5 columns):\n",
      "id         100000 non-null object\n",
      "f0         100000 non-null float64\n",
      "f1         100000 non-null float64\n",
      "f2         100000 non-null float64\n",
      "product    100000 non-null float64\n",
      "dtypes: float64(4), object(1)\n",
      "memory usage: 3.8+ MB\n"
     ]
    },
    {
     "data": {
      "text/plain": [
       "None"
      ]
     },
     "metadata": {},
     "output_type": "display_data"
    },
    {
     "name": "stdout",
     "output_type": "stream",
     "text": [
      "<class 'pandas.core.frame.DataFrame'>\n",
      "RangeIndex: 100000 entries, 0 to 99999\n",
      "Data columns (total 5 columns):\n",
      "id         100000 non-null object\n",
      "f0         100000 non-null float64\n",
      "f1         100000 non-null float64\n",
      "f2         100000 non-null float64\n",
      "product    100000 non-null float64\n",
      "dtypes: float64(4), object(1)\n",
      "memory usage: 3.8+ MB\n"
     ]
    },
    {
     "data": {
      "text/plain": [
       "None"
      ]
     },
     "metadata": {},
     "output_type": "display_data"
    }
   ],
   "source": [
    "# посмотрим, нет ли пропусков в данных\n",
    "display(geo_data_0.info())\n",
    "display(geo_data_1.info())\n",
    "display(geo_data_2.info())"
   ]
  },
  {
   "cell_type": "code",
   "execution_count": 6,
   "metadata": {
    "scrolled": true
   },
   "outputs": [
    {
     "data": {
      "text/plain": [
       "0"
      ]
     },
     "metadata": {},
     "output_type": "display_data"
    },
    {
     "data": {
      "text/plain": [
       "0"
      ]
     },
     "metadata": {},
     "output_type": "display_data"
    },
    {
     "data": {
      "text/plain": [
       "0"
      ]
     },
     "metadata": {},
     "output_type": "display_data"
    }
   ],
   "source": [
    "# посмотрим, нет ли повторяющихся данных\n",
    "display(geo_data_0.duplicated().sum())\n",
    "display(geo_data_1.duplicated().sum())\n",
    "display(geo_data_2.duplicated().sum())"
   ]
  },
  {
   "cell_type": "markdown",
   "metadata": {},
   "source": [
    "### Вывод\n",
    "* Данные представлены в виде дробных значений. Есть как положительные, так и отрицательные значения.\n",
    "* Пропусков, некорректных наименований признаков и типов данных не обнаружено.\n",
    "* Дубликаты в датасетах также не представлены.\n",
    "\n",
    "С данными все хорошо, можно перейти к моделированию."
   ]
  },
  {
   "cell_type": "markdown",
   "metadata": {},
   "source": [
    "<a href='#top'>Back to top</a>"
   ]
  },
  {
   "cell_type": "markdown",
   "metadata": {},
   "source": [
    "<div class=\"alert alert-block alert-success\">\n",
    "<b>Успех:</b> Загрузка и первичный осмотр данных проведены корректно.\n",
    "</div>"
   ]
  },
  {
   "cell_type": "markdown",
   "metadata": {},
   "source": [
    "<a id='section_2'></a>\n",
    "# 2. Обучение и проверка модели\n",
    "\n",
    "Обучим и проверим модель для `региона 1`"
   ]
  },
  {
   "cell_type": "code",
   "execution_count": 7,
   "metadata": {},
   "outputs": [
    {
     "name": "stdout",
     "output_type": "stream",
     "text": [
      "Средний запас предсказанного сырья по региону 1: 92.44041623324769\n",
      "RMSE по региону 1: 37.658531418632855\n"
     ]
    }
   ],
   "source": [
    "target = geo_data_0['product']\n",
    "features = geo_data_0.drop(['id', 'product'], axis=1)\n",
    "features_train, features_valid, target_train, target_valid = train_test_split(\n",
    "    features, target, test_size=0.25, random_state=rnd_state\n",
    "    )\n",
    "\n",
    "model = LinearRegression()\n",
    "model.fit(features, target)\n",
    "predicted_valid = model.predict(features_valid)\n",
    "print(f'Средний запас предсказанного сырья по региону 1: {predicted_valid.mean()}')\n",
    "print(f'RMSE по региону 1: {mean_squared_error(target_valid, predicted_valid)**(1/2)}')    "
   ]
  },
  {
   "cell_type": "markdown",
   "metadata": {},
   "source": [
    "Обучим и проверим модель для `региона 2`"
   ]
  },
  {
   "cell_type": "code",
   "execution_count": 8,
   "metadata": {},
   "outputs": [
    {
     "name": "stdout",
     "output_type": "stream",
     "text": [
      "Средний запас предсказанного сырья по региону 2: 68.65840435668257\n",
      "RMSE по региону 2: 0.89332151929554\n"
     ]
    }
   ],
   "source": [
    "target = geo_data_1['product']\n",
    "features = geo_data_1.drop(['id', 'product'], axis=1)\n",
    "features_train, features_valid, target_train, target_valid = train_test_split(\n",
    "    features, target, test_size=0.25, random_state=rnd_state\n",
    "    )\n",
    "\n",
    "model = LinearRegression()\n",
    "model.fit(features, target)\n",
    "predicted_valid = model.predict(features_valid)\n",
    "print(f'Средний запас предсказанного сырья по региону 2: {predicted_valid.mean()}')\n",
    "print(f'RMSE по региону 2: {mean_squared_error(target_valid, predicted_valid)**(1/2)}')    "
   ]
  },
  {
   "cell_type": "markdown",
   "metadata": {},
   "source": [
    "Обучим и проверим модель для `региона 3`"
   ]
  },
  {
   "cell_type": "code",
   "execution_count": 9,
   "metadata": {},
   "outputs": [
    {
     "name": "stdout",
     "output_type": "stream",
     "text": [
      "Средний запас предсказанного сырья по региону 3: 95.01732644975496\n",
      "RMSE по региону 3: 40.0275077010672\n"
     ]
    }
   ],
   "source": [
    "target = geo_data_2['product']\n",
    "features = geo_data_2.drop(['id', 'product'], axis=1)\n",
    "features_train, features_valid, target_train, target_valid = train_test_split(\n",
    "    features, target, test_size=0.25, random_state=rnd_state\n",
    "    )\n",
    "\n",
    "model = LinearRegression()\n",
    "model.fit(features, target)\n",
    "predicted_valid = model.predict(features_valid)\n",
    "print(f'Средний запас предсказанного сырья по региону 3: {predicted_valid.mean()}')\n",
    "print(f'RMSE по региону 3: {mean_squared_error(target_valid, predicted_valid)**(1/2)}')    "
   ]
  },
  {
   "cell_type": "markdown",
   "metadata": {},
   "source": [
    "### Вывод\n",
    "* Cредние значения объема нефти регионов 1 и 3 примерно одинаковые. Отметим также, что модели имеют высокую погрешность.\n",
    "* В регионе 2 погрешность модели значительно ниже, но запасы при этом также минимальны."
   ]
  },
  {
   "cell_type": "markdown",
   "metadata": {},
   "source": [
    "<a href='#top'>Back to top</a>"
   ]
  },
  {
   "cell_type": "markdown",
   "metadata": {},
   "source": [
    "<div class=\"alert alert-block alert-success\">\n",
    "<b>Успех:</b> В целом, модели обучены корректно.\n",
    "</div>"
   ]
  },
  {
   "cell_type": "markdown",
   "metadata": {},
   "source": [
    "<div class=\"alert alert-block alert-info\">\n",
    "<b>Совет: </b> На протяжении всего проекта происходит работа с 3мя одинаковыми таблицами. В связи с этим можно было использовать функции и/или циклы, чтобы избежать копирование кода.\n",
    "<br> Зачем его нужно избегать? Потому что очень часто оно приводит к ошибкам (например, забыл поменять одну из переменных). Впоследствии такие ошибки очень трудно найти.\n",
    "</div>"
   ]
  },
  {
   "cell_type": "markdown",
   "metadata": {},
   "source": [
    "<a id='section_3'></a>\n",
    "# 3. Подготовка к расчёту прибыли"
   ]
  },
  {
   "cell_type": "code",
   "execution_count": 10,
   "metadata": {
    "scrolled": true
   },
   "outputs": [
    {
     "data": {
      "text/plain": [
       "111.11111111111111"
      ]
     },
     "execution_count": 10,
     "metadata": {},
     "output_type": "execute_result"
    }
   ],
   "source": [
    "# Все ключевые значения для расчётов сохраним в отдельных переменных\n",
    "\n",
    "wells = 500 # точек исследовано при разведке региона\n",
    "best_wells = 200 # лучших точек для разработки\n",
    "budget = 10e9 # бюджет на разработку скважин в регионе\n",
    "revenue_per_1000bbl = 450000 # доход от продажи единицы продукта (1000 баррелей нефти)\n",
    "risk_threshold = .025 # порог вероятности убытков для оценки рисков и выбора перспективных регионов\n",
    "\n",
    "# Рассчитаем достаточный объём сырья для безубыточной разработки новой скважины\n",
    "production_min = budget / (best_wells * revenue_per_1000bbl)\n",
    "production_min\n"
   ]
  },
  {
   "cell_type": "markdown",
   "metadata": {},
   "source": [
    "<div class=\"alert alert-block alert-info\">\n",
    "<b>Совет: </b> В названиях константных переменных лучше использовать только БОЛЬШИЕ буквы. Это соглашение между программистами.\n",
    "</div>"
   ]
  },
  {
   "cell_type": "markdown",
   "metadata": {},
   "source": [
    "### Вывод\n",
    "* Минимальный объем сырья для безубыточной разработки составляет 111 тыс барелей. Данный объем выше средних значений по каждому региону."
   ]
  },
  {
   "cell_type": "markdown",
   "metadata": {},
   "source": [
    "<a href='#top'>Back to top</a>"
   ]
  },
  {
   "cell_type": "markdown",
   "metadata": {},
   "source": [
    "<div class=\"alert alert-block alert-success\">\n",
    "<b>Успех:</b> Точка безубыточности найдена корректно, с выводом согласен.\n",
    "</div>"
   ]
  },
  {
   "cell_type": "markdown",
   "metadata": {},
   "source": [
    "<a id='section_4'></a>\n",
    "# 4. Расчёт прибыли и рисков\n",
    "Далее выберем регион с наибольшей средней прибылью."
   ]
  },
  {
   "cell_type": "markdown",
   "metadata": {},
   "source": [
    "<a id='section_4_1'></a>\n",
    "### Регион 1"
   ]
  },
  {
   "cell_type": "code",
   "execution_count": 11,
   "metadata": {},
   "outputs": [],
   "source": [
    "features = geo_data_0.drop(['product','id'], axis=1)\n",
    "target = geo_data_0['product']\n",
    "features_train, features_valid, target_train, target_valid = train_test_split(\n",
    "    features, target, random_state=12345, test_size=0.25) \n",
    "    \n",
    "model = LinearRegression(n_jobs = -1)\n",
    "model.fit(features_train, target_train)\n",
    "predicted_valid = model.predict(features_valid)\n",
    "\n",
    "rmse = np.sqrt(np.mean((target_valid-predicted_valid)**2))\n",
    "predicted_mean = predicted_valid.mean()\n",
    "score = model.score(features_train,target_train)\n",
    "target_mean = geo_data_0['product'].mean()\n",
    "\n",
    "target_df = pd.Series(target_valid.reset_index(drop=True))\n",
    "predictions_df = pd.Series(predicted_valid)"
   ]
  },
  {
   "cell_type": "code",
   "execution_count": 12,
   "metadata": {
    "scrolled": false
   },
   "outputs": [
    {
     "data": {
      "text/html": [
       "<div>\n",
       "<style scoped>\n",
       "    .dataframe tbody tr th:only-of-type {\n",
       "        vertical-align: middle;\n",
       "    }\n",
       "\n",
       "    .dataframe tbody tr th {\n",
       "        vertical-align: top;\n",
       "    }\n",
       "\n",
       "    .dataframe thead th {\n",
       "        text-align: right;\n",
       "    }\n",
       "</style>\n",
       "<table border=\"1\" class=\"dataframe\">\n",
       "  <thead>\n",
       "    <tr style=\"text-align: right;\">\n",
       "      <th></th>\n",
       "      <th>region 1</th>\n",
       "    </tr>\n",
       "  </thead>\n",
       "  <tbody>\n",
       "    <tr>\n",
       "      <td>RMSE</td>\n",
       "      <td>37.579422</td>\n",
       "    </tr>\n",
       "    <tr>\n",
       "      <td>SCORE</td>\n",
       "      <td>0.274239</td>\n",
       "    </tr>\n",
       "    <tr>\n",
       "      <td>PREDICTED MEAN</td>\n",
       "      <td>92.592568</td>\n",
       "    </tr>\n",
       "    <tr>\n",
       "      <td>TARGET MEAN</td>\n",
       "      <td>92.500000</td>\n",
       "    </tr>\n",
       "  </tbody>\n",
       "</table>\n",
       "</div>"
      ],
      "text/plain": [
       "                 region 1\n",
       "RMSE            37.579422\n",
       "SCORE            0.274239\n",
       "PREDICTED MEAN  92.592568\n",
       "TARGET MEAN     92.500000"
      ]
     },
     "execution_count": 12,
     "metadata": {},
     "output_type": "execute_result"
    }
   ],
   "source": [
    "#Создадим таблицу, чтобы сравнить результаты\n",
    "\n",
    "scorelist_1 = pd.DataFrame(\n",
    "    data=[rmse, score, predicted_mean, target_mean], \n",
    "    index=['RMSE','SCORE','PREDICTED MEAN', 'TARGET MEAN'], \n",
    "    columns=['region 1']\n",
    ")\n",
    "scorelist_1"
   ]
  },
  {
   "cell_type": "code",
   "execution_count": 13,
   "metadata": {},
   "outputs": [
    {
     "name": "stdout",
     "output_type": "stream",
     "text": [
      "Средняя прибыль: 0.4259385269105923\n",
      "2.5%-квантиль: -0.10209009483793653\n",
      "Риск: 6.0\n",
      "95% доверительный интервал:  (-102090094.83793654, 947976353.358369)\n"
     ]
    }
   ],
   "source": [
    "# Техникой bootstrap посчитаем среднюю прибыль, 95% доверительный интервал и риск убытков для первого региона\n",
    "# возьмём индекс '0', чтобы перевести данные в pd.Series\n",
    "target = target_df\n",
    "probabilities = predictions_df\n",
    "\n",
    "def revenue(target, probabilities, count):\n",
    "    probs_sorted = probabilities.sort_values(ascending=False)\n",
    "    selected = target[probs_sorted.index][:count]\n",
    "    return 450000 * selected.sum() - budget\n",
    "\n",
    "revenue_1 = revenue(target, probabilities,200)/10**9\n",
    "\n",
    "state = np.random.RandomState(12345)\n",
    "values = []\n",
    "for i in range(1000):\n",
    "    target_subsample = target.sample(n=500, replace=True, random_state=state)\n",
    "    probs_subsample = probabilities[target_subsample.index] \n",
    "    values.append(revenue(target_subsample, probs_subsample, 200))\n",
    "    \n",
    "values = pd.Series(values)\n",
    "lower = values.quantile(0.025)\n",
    "mean = values.mean()\n",
    "\n",
    "risks = (values < 0).mean() * 100\n",
    "print(\"Средняя прибыль:\", mean/10**9)\n",
    "print(\"2.5%-квантиль:\", lower/10**9)\n",
    "print(\"Риск: {}\".format(risks))\n",
    "\n",
    "confidence_interval = (values.quantile(0.025), values.quantile(0.975))\n",
    "print('95% доверительный интервал: ', confidence_interval)"
   ]
  },
  {
   "cell_type": "markdown",
   "metadata": {},
   "source": [
    "<a href='#top'>Back to top</a>"
   ]
  },
  {
   "cell_type": "markdown",
   "metadata": {},
   "source": [
    "<div class=\"alert alert-block alert-success\">\n",
    "<b>Успех:</b> Риск посчитан очень \"красиво\", молодец!\n",
    "</div>"
   ]
  },
  {
   "cell_type": "markdown",
   "metadata": {},
   "source": [
    "<div class=\"alert alert-block alert-success\">\n",
    "<b>Успех:</b> Радует, что для нахождения доверительного интервала использовался именно метод квантилей.\n",
    "</div>"
   ]
  },
  {
   "cell_type": "markdown",
   "metadata": {},
   "source": [
    "<div class=\"alert alert-block alert-info\">\n",
    "<b>Совет: </b> Не очень понятно, зачем нам отдельно 2.5% квантиль.\n",
    "</div>"
   ]
  },
  {
   "cell_type": "markdown",
   "metadata": {},
   "source": [
    "<a id='section_4_2'></a>\n",
    "### Регион 2"
   ]
  },
  {
   "cell_type": "code",
   "execution_count": 14,
   "metadata": {},
   "outputs": [],
   "source": [
    "features = geo_data_1.drop(['product','id'], axis=1)\n",
    "target = geo_data_1['product']\n",
    "features_train, features_valid, target_train, target_valid = train_test_split(\n",
    "    features, target, random_state=12345, test_size=0.25) \n",
    "    \n",
    "model = LinearRegression(n_jobs = -1)\n",
    "model.fit(features_train, target_train)\n",
    "predicted_valid = model.predict(features_valid)\n",
    "\n",
    "rmse = np.sqrt(np.mean((target_valid-predicted_valid)**2))\n",
    "predicted_mean = predicted_valid.mean()\n",
    "score = model.score(features_train,target_train)\n",
    "target_mean = geo_data_1['product'].mean()\n",
    "\n",
    "target_df = pd.Series(target_valid.reset_index(drop=True))\n",
    "predictions_df = pd.Series(predicted_valid)"
   ]
  },
  {
   "cell_type": "code",
   "execution_count": 15,
   "metadata": {
    "scrolled": false
   },
   "outputs": [
    {
     "data": {
      "text/html": [
       "<div>\n",
       "<style scoped>\n",
       "    .dataframe tbody tr th:only-of-type {\n",
       "        vertical-align: middle;\n",
       "    }\n",
       "\n",
       "    .dataframe tbody tr th {\n",
       "        vertical-align: top;\n",
       "    }\n",
       "\n",
       "    .dataframe thead th {\n",
       "        text-align: right;\n",
       "    }\n",
       "</style>\n",
       "<table border=\"1\" class=\"dataframe\">\n",
       "  <thead>\n",
       "    <tr style=\"text-align: right;\">\n",
       "      <th></th>\n",
       "      <th>region 2</th>\n",
       "    </tr>\n",
       "  </thead>\n",
       "  <tbody>\n",
       "    <tr>\n",
       "      <td>RMSE</td>\n",
       "      <td>0.893099</td>\n",
       "    </tr>\n",
       "    <tr>\n",
       "      <td>SCORE</td>\n",
       "      <td>0.999625</td>\n",
       "    </tr>\n",
       "    <tr>\n",
       "      <td>PREDICTED MEAN</td>\n",
       "      <td>68.728547</td>\n",
       "    </tr>\n",
       "    <tr>\n",
       "      <td>TARGET MEAN</td>\n",
       "      <td>68.825000</td>\n",
       "    </tr>\n",
       "  </tbody>\n",
       "</table>\n",
       "</div>"
      ],
      "text/plain": [
       "                 region 2\n",
       "RMSE             0.893099\n",
       "SCORE            0.999625\n",
       "PREDICTED MEAN  68.728547\n",
       "TARGET MEAN     68.825000"
      ]
     },
     "execution_count": 15,
     "metadata": {},
     "output_type": "execute_result"
    }
   ],
   "source": [
    "#Создадим таблицу, чтобы сравнить результаты\n",
    "\n",
    "scorelist_2 = pd.DataFrame(\n",
    "    data=[rmse, score, predicted_mean, target_mean], \n",
    "    index=['RMSE','SCORE','PREDICTED MEAN', 'TARGET MEAN'], \n",
    "    columns=['region 2']\n",
    ")\n",
    "scorelist_2"
   ]
  },
  {
   "cell_type": "code",
   "execution_count": 16,
   "metadata": {
    "scrolled": true
   },
   "outputs": [
    {
     "name": "stdout",
     "output_type": "stream",
     "text": [
      "Средняя прибыль: 0.5152227734432899\n",
      "2.5%-квантиль: 0.06887322537050178\n",
      "Риск: 1.0\n",
      "95% доверительный интервал:  (68873225.37050177, 931547591.2570496)\n"
     ]
    }
   ],
   "source": [
    "# Техникой bootstrap посчитаем среднюю прибыль, 95% доверительный интервал и риск убытков для первого региона\n",
    "# возьмём индекс '0', чтобы перевести данные в pd.Series\n",
    "target = target_df\n",
    "probabilities = predictions_df\n",
    "\n",
    "def revenue(target, probabilities, count):\n",
    "    probs_sorted = probabilities.sort_values(ascending=False)\n",
    "    selected = target[probs_sorted.index][:count]\n",
    "    return 450000 * selected.sum() - budget\n",
    "\n",
    "revenue_2 = revenue(target, probabilities,200)/10**9\n",
    "\n",
    "state = np.random.RandomState(12345)\n",
    "values = []\n",
    "for i in range(1000):\n",
    "    target_subsample = target.sample(n=500, replace=True, random_state=state)\n",
    "    probs_subsample = probabilities[target_subsample.index] \n",
    "    values.append(revenue(target_subsample, probs_subsample, 200))\n",
    "    \n",
    "values = pd.Series(values)\n",
    "lower = values.quantile(0.025)\n",
    "mean = values.mean()\n",
    "\n",
    "risks = (values < 0).mean() * 100\n",
    "print(\"Средняя прибыль:\", mean/10**9)\n",
    "print(\"2.5%-квантиль:\", lower/10**9)\n",
    "print(\"Риск: {}\".format(risks))\n",
    "\n",
    "confidence_interval = (values.quantile(0.025), values.quantile(0.975))\n",
    "print('95% доверительный интервал: ', confidence_interval)"
   ]
  },
  {
   "cell_type": "markdown",
   "metadata": {},
   "source": [
    "<a href='#top'>Back to top</a>"
   ]
  },
  {
   "cell_type": "markdown",
   "metadata": {},
   "source": [
    "<a id='section_4_3'></a>\n",
    "### Регион 3"
   ]
  },
  {
   "cell_type": "code",
   "execution_count": 17,
   "metadata": {},
   "outputs": [],
   "source": [
    "features = geo_data_2.drop(['product','id'], axis=1)\n",
    "target = geo_data_2['product']\n",
    "features_train, features_valid, target_train, target_valid = train_test_split(\n",
    "    features, target, random_state=12345, test_size=0.25) \n",
    "    \n",
    "model = LinearRegression(n_jobs = -1)\n",
    "model.fit(features_train, target_train)\n",
    "predicted_valid = model.predict(features_valid)\n",
    "\n",
    "rmse = np.sqrt(np.mean((target_valid-predicted_valid)**2))\n",
    "predicted_mean = predicted_valid.mean()\n",
    "score = model.score(features_train,target_train)\n",
    "target_mean = geo_data_2['product'].mean()\n",
    "\n",
    "target_df = pd.Series(target_valid.reset_index(drop=True))\n",
    "predictions_df = pd.Series(predicted_valid)"
   ]
  },
  {
   "cell_type": "code",
   "execution_count": 18,
   "metadata": {
    "scrolled": false
   },
   "outputs": [
    {
     "data": {
      "text/html": [
       "<div>\n",
       "<style scoped>\n",
       "    .dataframe tbody tr th:only-of-type {\n",
       "        vertical-align: middle;\n",
       "    }\n",
       "\n",
       "    .dataframe tbody tr th {\n",
       "        vertical-align: top;\n",
       "    }\n",
       "\n",
       "    .dataframe thead th {\n",
       "        text-align: right;\n",
       "    }\n",
       "</style>\n",
       "<table border=\"1\" class=\"dataframe\">\n",
       "  <thead>\n",
       "    <tr style=\"text-align: right;\">\n",
       "      <th></th>\n",
       "      <th>region 3</th>\n",
       "    </tr>\n",
       "  </thead>\n",
       "  <tbody>\n",
       "    <tr>\n",
       "      <td>RMSE</td>\n",
       "      <td>40.029709</td>\n",
       "    </tr>\n",
       "    <tr>\n",
       "      <td>SCORE</td>\n",
       "      <td>0.196614</td>\n",
       "    </tr>\n",
       "    <tr>\n",
       "      <td>PREDICTED MEAN</td>\n",
       "      <td>94.965046</td>\n",
       "    </tr>\n",
       "    <tr>\n",
       "      <td>TARGET MEAN</td>\n",
       "      <td>95.000000</td>\n",
       "    </tr>\n",
       "  </tbody>\n",
       "</table>\n",
       "</div>"
      ],
      "text/plain": [
       "                 region 3\n",
       "RMSE            40.029709\n",
       "SCORE            0.196614\n",
       "PREDICTED MEAN  94.965046\n",
       "TARGET MEAN     95.000000"
      ]
     },
     "execution_count": 18,
     "metadata": {},
     "output_type": "execute_result"
    }
   ],
   "source": [
    "#Создадим таблицу, чтобы сравнить результаты\n",
    "\n",
    "scorelist_3 = pd.DataFrame(\n",
    "    data=[rmse, score, predicted_mean, target_mean], \n",
    "    index=['RMSE','SCORE','PREDICTED MEAN', 'TARGET MEAN'], \n",
    "    columns=['region 3']\n",
    ")\n",
    "scorelist_3"
   ]
  },
  {
   "cell_type": "code",
   "execution_count": 19,
   "metadata": {
    "scrolled": false
   },
   "outputs": [
    {
     "name": "stdout",
     "output_type": "stream",
     "text": [
      "Средняя прибыль: 0.43500836278275556\n",
      "2.5%-квантиль: -0.128880547329789\n",
      "Риск: 6.4\n",
      "95% доверительный интервал:  (-128880547.32978901, 969706954.1802679)\n"
     ]
    }
   ],
   "source": [
    "# Техникой bootstrap посчитаем среднюю прибыль, 95% доверительный интервал и риск убытков для первого региона\n",
    "# возьмём индекс '0', чтобы перевести данные в pd.Series\n",
    "target = target_df\n",
    "probabilities = predictions_df\n",
    "\n",
    "def revenue(target, probabilities, count):\n",
    "    probs_sorted = probabilities.sort_values(ascending=False)\n",
    "    selected = target[probs_sorted.index][:count]\n",
    "    return 450000 * selected.sum() - budget\n",
    "\n",
    "revenue_3 = revenue(target, probabilities,200)/10**9\n",
    "\n",
    "state = np.random.RandomState(12345)\n",
    "values = []\n",
    "for i in range(1000):\n",
    "    target_subsample = target.sample(n=500, replace=True, random_state=state)\n",
    "    probs_subsample = probabilities[target_subsample.index] \n",
    "    values.append(revenue(target_subsample, probs_subsample, 200))\n",
    "    \n",
    "values = pd.Series(values)\n",
    "lower = values.quantile(0.025)\n",
    "mean = values.mean()\n",
    "\n",
    "risks = (values < 0).mean() * 100\n",
    "print(\"Средняя прибыль:\", mean/10**9)\n",
    "print(\"2.5%-квантиль:\", lower/10**9)\n",
    "print(\"Риск: {}\".format(risks))\n",
    "\n",
    "confidence_interval = (values.quantile(0.025), values.quantile(0.975))\n",
    "print('95% доверительный интервал: ', confidence_interval)"
   ]
  },
  {
   "cell_type": "code",
   "execution_count": 20,
   "metadata": {
    "scrolled": true
   },
   "outputs": [
    {
     "name": "stdout",
     "output_type": "stream",
     "text": [
      "Прибыль первого региона : 3.32 млрд рублей\n",
      "Прибыль второго региона : 2.42 млрд рублей\n",
      "Прибыль третьего региона : 2.71 млрд рублей\n"
     ]
    }
   ],
   "source": [
    "# Сведем результаты расчетов по прибыли регионов\n",
    "\n",
    "print('Прибыль первого региона : {:.2f} млрд рублей'.format(revenue_1))\n",
    "print('Прибыль второго региона : {:.2f} млрд рублей'.format(revenue_2))\n",
    "print('Прибыль третьего региона : {:.2f} млрд рублей'.format(revenue_3))"
   ]
  },
  {
   "cell_type": "code",
   "execution_count": 21,
   "metadata": {},
   "outputs": [
    {
     "data": {
      "text/html": [
       "<div>\n",
       "<style scoped>\n",
       "    .dataframe tbody tr th:only-of-type {\n",
       "        vertical-align: middle;\n",
       "    }\n",
       "\n",
       "    .dataframe tbody tr th {\n",
       "        vertical-align: top;\n",
       "    }\n",
       "\n",
       "    .dataframe thead th {\n",
       "        text-align: right;\n",
       "    }\n",
       "</style>\n",
       "<table border=\"1\" class=\"dataframe\">\n",
       "  <thead>\n",
       "    <tr style=\"text-align: right;\">\n",
       "      <th></th>\n",
       "      <th>region 1</th>\n",
       "      <th>region 2</th>\n",
       "      <th>region 3</th>\n",
       "    </tr>\n",
       "  </thead>\n",
       "  <tbody>\n",
       "    <tr>\n",
       "      <td>RMSE</td>\n",
       "      <td>37.579422</td>\n",
       "      <td>0.893099</td>\n",
       "      <td>40.029709</td>\n",
       "    </tr>\n",
       "    <tr>\n",
       "      <td>SCORE</td>\n",
       "      <td>0.274239</td>\n",
       "      <td>0.999625</td>\n",
       "      <td>0.196614</td>\n",
       "    </tr>\n",
       "    <tr>\n",
       "      <td>PREDICTED MEAN</td>\n",
       "      <td>92.592568</td>\n",
       "      <td>68.728547</td>\n",
       "      <td>94.965046</td>\n",
       "    </tr>\n",
       "    <tr>\n",
       "      <td>TARGET MEAN</td>\n",
       "      <td>92.500000</td>\n",
       "      <td>68.825000</td>\n",
       "      <td>95.000000</td>\n",
       "    </tr>\n",
       "  </tbody>\n",
       "</table>\n",
       "</div>"
      ],
      "text/plain": [
       "                 region 1   region 2   region 3\n",
       "RMSE            37.579422   0.893099  40.029709\n",
       "SCORE            0.274239   0.999625   0.196614\n",
       "PREDICTED MEAN  92.592568  68.728547  94.965046\n",
       "TARGET MEAN     92.500000  68.825000  95.000000"
      ]
     },
     "execution_count": 21,
     "metadata": {},
     "output_type": "execute_result"
    }
   ],
   "source": [
    "# Сведем результаты моделирования по метрикам\n",
    "\n",
    "scorelist = pd.concat([scorelist_1, scorelist_2, scorelist_3], axis=1, join=\"inner\")\n",
    "scorelist"
   ]
  },
  {
   "cell_type": "markdown",
   "metadata": {},
   "source": [
    "### Вывод\n",
    "- Второй регион показал наибольшие перспективы для разработки с точки зрения предсказания целевых значений, но тем не менее мы не можем рекомендовать его для разработки ввиду неоптимальных абсолютных параметров."
   ]
  },
  {
   "cell_type": "markdown",
   "metadata": {},
   "source": [
    "<a href='#top'>Back to top</a>"
   ]
  },
  {
   "cell_type": "markdown",
   "metadata": {},
   "source": [
    "<div class=\"alert alert-block alert-info\">\n",
    "<b>Совет: </b> Можно было собрать все статистики (среднее, риск, интервал) в одной таблице, так было бы проще сравнивать.\n",
    "</div>"
   ]
  },
  {
   "cell_type": "markdown",
   "metadata": {},
   "source": [
    "<a id='section_5'></a>\n",
    "# 5. Общий вывод"
   ]
  },
  {
   "cell_type": "markdown",
   "metadata": {},
   "source": [
    "- Данные, представленные для прогноза, хорошо подготовлены: не имеют дубликатов и пропусков.\n",
    "- В результате моделирования получили следующие результаты:\n",
    "    - Регион 1: RMSE : 37.6  ; Score 0.27\n",
    "    - Регион 2: RMSE : 0.89  ; Score 1.00\n",
    "    - Регион 3: RMSE : 40.03 ; Score 0.20\n",
    "- Исходя из проведенных расчетов, заключили, что минимальный объем сырья для безубыточной разработки составляет 111 тыс барелей. К сожалению, показатели всех представленных регионов ниже обозначенного порога.\n",
    "- Второй регион показал наибольшие перспективы для разработки с точки зрения предсказания целевых значений, но тем не менее мы не можем рекомендовать его для разработки ввиду неоптимальных абсолютных параметров. Для завершения анализа необходимо больше данных по каждому региону, либо больше дополнительных признаков."
   ]
  },
  {
   "cell_type": "markdown",
   "metadata": {},
   "source": [
    "<a href='#top'>Back to top</a>"
   ]
  },
  {
   "cell_type": "markdown",
   "metadata": {},
   "source": [
    "<div class=\"alert alert-block alert-success\">\n",
    "<b>Успех:</b> Всегда приятно видеть проект, который заканчивается выводом.\n",
    "</div>"
   ]
  },
  {
   "cell_type": "markdown",
   "metadata": {},
   "source": [
    "<a id='section_end'></a>\n",
    "# Чек-лист готовности проекта"
   ]
  },
  {
   "cell_type": "markdown",
   "metadata": {},
   "source": [
    "Поставьте 'x' в выполненных пунктах. Далее нажмите Shift+Enter."
   ]
  },
  {
   "cell_type": "markdown",
   "metadata": {},
   "source": [
    "- [x]  Jupyter Notebook открыт\n",
    "- [x]  Весь код выполняется без ошибок\n",
    "- [x]  Ячейки с кодом расположены в порядке исполнения\n",
    "- [x]  Выполнен шаг 1: данные подготовлены\n",
    "- [x]  Выполнен шаг 2: модели обучены и проверены\n",
    "    - [x]  Данные корректно разбиты на обучающую и валидационную выборки\n",
    "    - [x]  Модели обучены, предсказания сделаны\n",
    "    - [x]  Предсказания и правильные ответы на валидационной выборке сохранены\n",
    "    - [x]  На экране напечатаны результаты\n",
    "    - [x]  Сделаны выводы\n",
    "- [x]  Выполнен шаг 3: проведена подготовка к расчёту прибыли\n",
    "    - [x]  Для всех ключевых значений созданы константы Python\n",
    "    - [x]  Посчитано минимальное среднее количество продукта в месторождениях региона, достаточное для разработки\n",
    "    - [x]  По предыдущему пункту сделаны выводы\n",
    "    - [x]  Написана функция расчёта прибыли\n",
    "- [x]  Выполнен шаг 4: посчитаны риски и прибыль\n",
    "    - [x]  Проведена процедура *Bootstrap*\n",
    "    - [x]  Все параметры бутстрепа соответствуют условию\n",
    "    - [x]  Найдены все нужные величины\n",
    "    - [x]  Предложен регион для разработки месторождения\n",
    "    - [x]  Выбор региона обоснован"
   ]
  },
  {
   "cell_type": "markdown",
   "metadata": {},
   "source": [
    "<a href='#top'>Back to top</a>"
   ]
  }
 ],
 "metadata": {
  "kernelspec": {
   "display_name": "Python 3",
   "language": "python",
   "name": "python3"
  },
  "language_info": {
   "codemirror_mode": {
    "name": "ipython",
    "version": 3
   },
   "file_extension": ".py",
   "mimetype": "text/x-python",
   "name": "python",
   "nbconvert_exporter": "python",
   "pygments_lexer": "ipython3",
   "version": "3.8.5"
  }
 },
 "nbformat": 4,
 "nbformat_minor": 2
}
