{
 "cells": [
  {
   "cell_type": "markdown",
   "metadata": {},
   "source": [
    "<a id='top'></a>\n",
    "<img align=\"center\" src=\"https://ieltsunlocked.files.wordpress.com/2019/03/choices-1.gif\" width=\"200\" />\n",
    "<p style=\"text-align: center;\">\n",
    "    <font size='5' type='bold'>\n",
    "        <b>Рекомендация тарифов</b>\n",
    "    </font>\n",
    "</p>"
   ]
  },
  {
   "cell_type": "markdown",
   "metadata": {},
   "source": [
    "### Содержание\n",
    "\n",
    "<a href='#section_0'>Задачи проекта</a>\n",
    "\n",
    "<a href='#section_1'>1. Откройте и изучите файл</a>\n",
    "\n",
    "<a href='#section_2'>2. Разбейте данные на выборки</a>\n",
    "    \n",
    "<a href='#section_3'>3. Исследуйте модели</a>\n",
    "\n",
    "* <a href='#section_3_1'>Дерево решений</a>\n",
    "* <a href='#section_3_2'>Случайный лес</a>\n",
    "* <a href='#section_3_3'>Логистическая регрессия</a>\n",
    "\n",
    "<a href='#section_4'>4. Проверьте модель на тестовой выборке</a>\n",
    "\n",
    "<a href='#section_5'>5. (бонус) Проверьте модели на адекватность</a>\n",
    "    \n",
    "<a href='#section_end'>Чек-лист готовности проекта</a>"
   ]
  },
  {
   "cell_type": "markdown",
   "metadata": {},
   "source": [
    "<a id='section_0'></a>\n",
    "### Задачи проекта\n",
    "В вашем распоряжении данные о поведении клиентов, которые уже перешли на эти тарифы (из проекта курса «Статистический анализ данных»). Нужно построить модель для задачи классификации, которая выберет подходящий тариф. Предобработка данных не понадобится — вы её уже сделали.\n",
    "\n",
    "Постройте модель с максимально большим значением *accuracy*. Чтобы сдать проект успешно, нужно довести долю правильных ответов по крайней мере до 0.75. Проверьте *accuracy* на тестовой выборке самостоятельно."
   ]
  },
  {
   "cell_type": "markdown",
   "metadata": {},
   "source": [
    "<a id='section_1'></a>\n",
    "### 1. Откройте и изучите файл"
   ]
  },
  {
   "cell_type": "code",
   "execution_count": 2,
   "metadata": {},
   "outputs": [],
   "source": [
    "import pandas as pd\n",
    "from sklearn.metrics import accuracy_score\n",
    "from sklearn.model_selection import train_test_split\n",
    "from sklearn.tree import DecisionTreeClassifier\n",
    "from sklearn.ensemble import RandomForestClassifier\n",
    "from sklearn.linear_model import LogisticRegression"
   ]
  },
  {
   "cell_type": "code",
   "execution_count": 3,
   "metadata": {},
   "outputs": [
    {
     "name": "stdout",
     "output_type": "stream",
     "text": [
      "<class 'pandas.core.frame.DataFrame'>\n",
      "RangeIndex: 3214 entries, 0 to 3213\n",
      "Data columns (total 5 columns):\n",
      "calls       3214 non-null float64\n",
      "minutes     3214 non-null float64\n",
      "messages    3214 non-null float64\n",
      "mb_used     3214 non-null float64\n",
      "is_ultra    3214 non-null int64\n",
      "dtypes: float64(4), int64(1)\n",
      "memory usage: 125.7 KB\n"
     ]
    }
   ],
   "source": [
    "df = pd.read_csv('/datasets/users_behavior.csv')\n",
    "df.info()"
   ]
  },
  {
   "cell_type": "code",
   "execution_count": 21,
   "metadata": {},
   "outputs": [
    {
     "data": {
      "text/html": [
       "<div>\n",
       "<style scoped>\n",
       "    .dataframe tbody tr th:only-of-type {\n",
       "        vertical-align: middle;\n",
       "    }\n",
       "\n",
       "    .dataframe tbody tr th {\n",
       "        vertical-align: top;\n",
       "    }\n",
       "\n",
       "    .dataframe thead th {\n",
       "        text-align: right;\n",
       "    }\n",
       "</style>\n",
       "<table border=\"1\" class=\"dataframe\">\n",
       "  <thead>\n",
       "    <tr style=\"text-align: right;\">\n",
       "      <th></th>\n",
       "      <th>calls</th>\n",
       "      <th>minutes</th>\n",
       "      <th>messages</th>\n",
       "      <th>mb_used</th>\n",
       "      <th>is_ultra</th>\n",
       "    </tr>\n",
       "  </thead>\n",
       "  <tbody>\n",
       "    <tr>\n",
       "      <td>0</td>\n",
       "      <td>40.0</td>\n",
       "      <td>311.90</td>\n",
       "      <td>83.0</td>\n",
       "      <td>19915.42</td>\n",
       "      <td>0</td>\n",
       "    </tr>\n",
       "    <tr>\n",
       "      <td>1</td>\n",
       "      <td>85.0</td>\n",
       "      <td>516.75</td>\n",
       "      <td>56.0</td>\n",
       "      <td>22696.96</td>\n",
       "      <td>0</td>\n",
       "    </tr>\n",
       "    <tr>\n",
       "      <td>2</td>\n",
       "      <td>77.0</td>\n",
       "      <td>467.66</td>\n",
       "      <td>86.0</td>\n",
       "      <td>21060.45</td>\n",
       "      <td>0</td>\n",
       "    </tr>\n",
       "  </tbody>\n",
       "</table>\n",
       "</div>"
      ],
      "text/plain": [
       "   calls  minutes  messages   mb_used  is_ultra\n",
       "0   40.0   311.90      83.0  19915.42         0\n",
       "1   85.0   516.75      56.0  22696.96         0\n",
       "2   77.0   467.66      86.0  21060.45         0"
      ]
     },
     "execution_count": 21,
     "metadata": {},
     "output_type": "execute_result"
    }
   ],
   "source": [
    "df.head(3)"
   ]
  },
  {
   "cell_type": "markdown",
   "metadata": {},
   "source": [
    "Датасет состоит из 3214 объектов и 5 признаков. Целевой признак для нашей задачи – `is_ultra`. Модель должна предсказывать значение **1** если клиенту нужно предложить тариф \"Ультра\" или **0** если тариф \"Смарт\". Наш целевой признак является категориальным, а значит мы будем решать задачу классификации. \n",
    "\n",
    "Таблица *df* (информация о поведении пользователей) содержит следующие данные:\n",
    "- **calls** — количество звонков\n",
    "- **minutes** — суммарная длительность звонков в минутах\n",
    "- **messages** — количество sms-сообщений\n",
    "- **mb_used** — израсходованный интернет-трафик в Мб\n",
    "- **is_ultra** — каким тарифом пользовался в течение месяца («Ультра» — 1, «Смарт» — 0)\n",
    "\n",
    "Каждый объект в наборе данных — это информация о поведении одного пользователя за месяц.\n",
    "\n",
    "Всего в таблице 5 столбцов, типы данных: \n",
    "- **целые числа** у 1 столбца\n",
    "- **вещественные числа** (с \"плавающей\" точкой) у 4\n",
    "\n",
    "Пропуски не представлены, так как предобработка данных уже проведена."
   ]
  },
  {
   "cell_type": "markdown",
   "metadata": {},
   "source": [
    "<a href='#top'>Back to top</a>"
   ]
  },
  {
   "cell_type": "markdown",
   "metadata": {},
   "source": [
    "<a id='section_2'></a>\n",
    "### 2. Разбейте данные на выборки\n",
    "Разделим исходные данные на обучающую, валидационную и тестовую выборки. Размеры тестового и валидационного наборов сделаем равными."
   ]
  },
  {
   "cell_type": "code",
   "execution_count": 22,
   "metadata": {},
   "outputs": [],
   "source": [
    "# Отведем 60% под обучающую выборку\n",
    "df_train, df_valid = train_test_split(df, test_size=0.4, random_state=54321)\n",
    "\n",
    "# Оставшиеся 40% поделим на валидационную и на тестовую\n",
    "df_valid, df_test = train_test_split(df_valid, test_size=0.5, random_state=54321)"
   ]
  },
  {
   "cell_type": "markdown",
   "metadata": {},
   "source": [
    "Получили подготовленный датасет с 60% обучающей выборки, 20% валидационной и 20% тестовой."
   ]
  },
  {
   "cell_type": "markdown",
   "metadata": {},
   "source": [
    "<a href='#top'>Back to top</a>"
   ]
  },
  {
   "cell_type": "markdown",
   "metadata": {},
   "source": [
    "<a id='section_3'></a>\n",
    "### 3. Исследуйте модели\n",
    "Исследуем качество разных моделей, меняя гиперпараметры. Для задачи классификации рассмотрим следующие:\n",
    "* Дерево решений\n",
    "* Случайный лес\n",
    "* Логистическая регрессия"
   ]
  },
  {
   "cell_type": "code",
   "execution_count": 23,
   "metadata": {},
   "outputs": [],
   "source": [
    "features_train = df_train.drop(['is_ultra'], axis=1) # фичи обучающей выборки\n",
    "target_train = df_train['is_ultra'] # целевые признаки обучающей выборки\n",
    "\n",
    "features_valid = df_valid.drop(['is_ultra'], axis=1) # фичи валидационной выборки\n",
    "target_valid = df_valid['is_ultra'] # целевые признаки валидационной выборки"
   ]
  },
  {
   "cell_type": "markdown",
   "metadata": {},
   "source": [
    "<a id='section_3_1'></a>\n",
    "#### Дерево решений"
   ]
  },
  {
   "cell_type": "markdown",
   "metadata": {},
   "source": [
    "Исследуем качество модели решающего дерева с различной глубиной"
   ]
  },
  {
   "cell_type": "code",
   "execution_count": 24,
   "metadata": {},
   "outputs": [
    {
     "name": "stdout",
     "output_type": "stream",
     "text": [
      "Качество модели с глубиной дерева = 2: 0.7418351477449455\n",
      "Качество модели с глубиной дерева = 4: 0.744945567651633\n",
      "Качество модели с глубиной дерева = 6: 0.7542768273716952\n",
      "Качество модели с глубиной дерева = 8: 0.7511664074650077\n",
      "Качество модели с глубиной дерева = 10: 0.7822706065318819\n",
      "Качество модели с глубиной дерева = 12: 0.7480559875583204\n",
      "Качество модели с глубиной дерева = 14: 0.7356143079315708\n",
      "Качество модели с глубиной дерева = 16: 0.7293934681181959\n"
     ]
    }
   ],
   "source": [
    "for depth in range(2, 17, 2):\n",
    "    model = DecisionTreeClassifier(random_state=54321, max_depth=depth)\n",
    "    model.fit(features_train, target_train) # обучим модель\n",
    "    predictions = model.predict(features_valid) # получим предсказания модели\n",
    "    result = accuracy_score(target_valid, predictions) # посчитаем качество модели\n",
    "    print('Качество модели с глубиной дерева = {}:'.format(depth), result)"
   ]
  },
  {
   "cell_type": "markdown",
   "metadata": {},
   "source": [
    "Наилучшим качеством обладает модель с глубиной дерева = 10"
   ]
  },
  {
   "cell_type": "markdown",
   "metadata": {},
   "source": [
    "<a href='#top'>Back to top</a>"
   ]
  },
  {
   "cell_type": "markdown",
   "metadata": {},
   "source": [
    "<a id='section_3_2'></a>\n",
    "#### Случайный лес"
   ]
  },
  {
   "cell_type": "code",
   "execution_count": 26,
   "metadata": {},
   "outputs": [
    {
     "name": "stdout",
     "output_type": "stream",
     "text": [
      "Качество модели с количеством деревьев = 10: 0.80248833592535\n",
      "Качество модели с количеством деревьев = 20: 0.7869362363919129\n",
      "Качество модели с количеством деревьев = 30: 0.7900466562986003\n",
      "Качество модели с количеством деревьев = 40: 0.7916018662519441\n",
      "Качество модели с количеством деревьев = 50: 0.7916018662519441\n",
      "Качество модели с количеством деревьев = 60: 0.7947122861586314\n",
      "Качество модели с количеством деревьев = 70: 0.7947122861586314\n",
      "Качество модели с количеством деревьев = 80: 0.7962674961119751\n",
      "Качество модели с количеством деревьев = 90: 0.7978227060653188\n",
      "Качество модели с количеством деревьев = 100: 0.7978227060653188\n"
     ]
    }
   ],
   "source": [
    "for est in range(10, 101, 10):\n",
    "    model = RandomForestClassifier(random_state=54321, n_estimators=est, max_depth=10)\n",
    "    model.fit(features_train, target_train) # обучим модель\n",
    "    predictions = model.predict(features_valid) # получим предсказания модели\n",
    "    result = accuracy_score(target_valid, predictions) # посчитаем качество модели\n",
    "    print('Качество модели с количеством деревьев = {}:'.format(est), result)"
   ]
  },
  {
   "cell_type": "markdown",
   "metadata": {},
   "source": [
    "Наилучшим качеством обладает модель с количеством деревьев = 10. При этом стоит отметить, что качество модели случайного леса (0.80) достаточно близко к значению качества модели решающего дерева (0.78)."
   ]
  },
  {
   "cell_type": "markdown",
   "metadata": {},
   "source": [
    "<a href='#top'>Back to top</a>"
   ]
  },
  {
   "cell_type": "markdown",
   "metadata": {},
   "source": [
    "<a id='section_3_3'></a>\n",
    "#### Логистическая регрессия"
   ]
  },
  {
   "cell_type": "code",
   "execution_count": 28,
   "metadata": {
    "scrolled": false
   },
   "outputs": [
    {
     "name": "stdout",
     "output_type": "stream",
     "text": [
      "Качество модели с параметром = newton-cg: 0.7076205287713841\n",
      "Качество модели с параметром = lbfgs: 0.6749611197511665\n",
      "Качество модели с параметром = liblinear: 0.6780715396578538\n",
      "Качество модели с параметром = sag: 0.6516329704510109\n"
     ]
    },
    {
     "name": "stderr",
     "output_type": "stream",
     "text": [
      "/opt/conda/lib/python3.7/site-packages/scipy/optimize/linesearch.py:466: LineSearchWarning: The line search algorithm did not converge\n",
      "  warn('The line search algorithm did not converge', LineSearchWarning)\n",
      "/opt/conda/lib/python3.7/site-packages/scipy/optimize/linesearch.py:314: LineSearchWarning: The line search algorithm did not converge\n",
      "  warn('The line search algorithm did not converge', LineSearchWarning)\n",
      "/opt/conda/lib/python3.7/site-packages/scipy/optimize/linesearch.py:466: LineSearchWarning: The line search algorithm did not converge\n",
      "  warn('The line search algorithm did not converge', LineSearchWarning)\n",
      "/opt/conda/lib/python3.7/site-packages/scipy/optimize/linesearch.py:314: LineSearchWarning: The line search algorithm did not converge\n",
      "  warn('The line search algorithm did not converge', LineSearchWarning)\n",
      "/opt/conda/lib/python3.7/site-packages/scipy/optimize/linesearch.py:314: LineSearchWarning: The line search algorithm did not converge\n",
      "  warn('The line search algorithm did not converge', LineSearchWarning)\n",
      "/opt/conda/lib/python3.7/site-packages/sklearn/utils/optimize.py:195: UserWarning: Line Search failed\n",
      "  warnings.warn('Line Search failed')\n",
      "/opt/conda/lib/python3.7/site-packages/sklearn/linear_model/sag.py:337: ConvergenceWarning: The max_iter was reached which means the coef_ did not converge\n",
      "  \"the coef_ did not converge\", ConvergenceWarning)\n"
     ]
    }
   ],
   "source": [
    "solvers = ['newton-cg', 'lbfgs', 'liblinear', 'sag'] # обозначим набор алгоритмов, использующийся для оптимизации (solvers)\n",
    "\n",
    "for solver in solvers:\n",
    "    model = LogisticRegression(random_state=54321, solver=solver)\n",
    "    model.fit(features_train, target_train) # обучим модель\n",
    "    predictions = model.predict(features_valid) # получим предсказания модели\n",
    "    result = accuracy_score(target_valid, predictions) # посчитаем качество модели\n",
    "    print('Качество модели с параметром = {}:'.format(solver), result)"
   ]
  },
  {
   "cell_type": "markdown",
   "metadata": {},
   "source": [
    "Наилучшим качеством обладает модель с параметром алгоритма для оптимизации `newton-cg` - 0.71. Тем не менее, качество модели логистической регрессии ниже качества моделей решающего дерева и случайного леса."
   ]
  },
  {
   "cell_type": "markdown",
   "metadata": {},
   "source": [
    "#### Вывод\n",
    "Исследовав качество разных моделей со сменой гиперпараметров, выявили:\n",
    "* Качество модели решающего дерева (с оптимальным параметром по глубине (10)) - 0.78\n",
    "* Качество модели случайного леса (с оптимальным параметром по количеству деревьев (10)) - 0.80\n",
    "* Качество модели логистической регрессии (с оптимальным алгоритмом для оптимизации `newton-cg` - 0.71\n",
    "\n",
    "Модель случайного леса - оптимальна. Проверим ее качество на тестовой выборке."
   ]
  },
  {
   "cell_type": "markdown",
   "metadata": {},
   "source": [
    "<a href='#top'>Back to top</a>"
   ]
  },
  {
   "cell_type": "markdown",
   "metadata": {},
   "source": [
    "<a id='section_4'></a>\n",
    "### 4. Проверьте модель на тестовой выборке\n",
    "Проверим качество модели на тестовой выборке."
   ]
  },
  {
   "cell_type": "code",
   "execution_count": 29,
   "metadata": {},
   "outputs": [
    {
     "name": "stdout",
     "output_type": "stream",
     "text": [
      "Качество модели случайного леса: 0.8242612752721618\n"
     ]
    }
   ],
   "source": [
    "features_test = df_test.drop(['is_ultra'], axis=1)\n",
    "target_test = df_test['is_ultra']\n",
    "\n",
    "model = RandomForestClassifier(random_state=54321, n_estimators=10, max_depth=10)\n",
    "model.fit(features_train, target_train)\n",
    "predictions = model.predict(features_test)\n",
    "result = accuracy_score(target_test, predictions)\n",
    "print('Качество модели случайного леса:', result)"
   ]
  },
  {
   "cell_type": "markdown",
   "metadata": {},
   "source": [
    "На тестовой выборке получили качество модели даже выше, чем на обучающей - 0.82. Значит модель работает."
   ]
  },
  {
   "cell_type": "markdown",
   "metadata": {},
   "source": [
    "<a href='#top'>Back to top</a>"
   ]
  },
  {
   "cell_type": "markdown",
   "metadata": {},
   "source": [
    "<a id='section_5'></a>\n",
    "### 5. (бонус) Проверьте модели на адекватность"
   ]
  },
  {
   "cell_type": "markdown",
   "metadata": {},
   "source": [
    "Качество модели случайного леса (с оптимальным параметром по количеству деревьев (10)) - 0.80. На тестовой выборке получили качество модели - 0.82. Как видим значения очень близки к друг другу. Однако выбор методики проверки модели на адекватность - задача не тривиальная."
   ]
  },
  {
   "cell_type": "markdown",
   "metadata": {},
   "source": [
    "<a href='#top'>Back to top</a>"
   ]
  }
 ],
 "metadata": {
  "kernelspec": {
   "display_name": "Python 3",
   "language": "python",
   "name": "python3"
  },
  "language_info": {
   "codemirror_mode": {
    "name": "ipython",
    "version": 3
   },
   "file_extension": ".py",
   "mimetype": "text/x-python",
   "name": "python",
   "nbconvert_exporter": "python",
   "pygments_lexer": "ipython3",
   "version": "3.8.5"
  }
 },
 "nbformat": 4,
 "nbformat_minor": 2
}
